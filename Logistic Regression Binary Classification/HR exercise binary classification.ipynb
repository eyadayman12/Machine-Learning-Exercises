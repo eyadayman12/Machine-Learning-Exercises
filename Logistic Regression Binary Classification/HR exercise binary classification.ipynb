{
 "cells": [
  {
   "cell_type": "markdown",
   "id": "c9c82233",
   "metadata": {},
   "source": [
    "### Exercise\n",
    "Download employee retention dataset from here: https://www.kaggle.com/giripujar/hr-analytics.\n",
    "\n",
    "1- Now do some exploratory data analysis to figure out which variables have direct and clear impact on employee retention (i.e. whether they leave the company or continue to work) <br>\n",
    "2 - Plot bar charts showing impact of employee salaries on retention<br>\n",
    "3 - Plot bar charts showing corelation between department and employee retention<br>\n",
    "4 - Now build logistic regression model using variables that were narrowed down in step 1<br>\n",
    "5 -Measure the accuracy of the model"
   ]
  },
  {
   "cell_type": "code",
   "execution_count": 38,
   "id": "8cea2aae",
   "metadata": {
    "ExecuteTime": {
     "end_time": "2021-11-27T09:16:55.496534Z",
     "start_time": "2021-11-27T09:16:55.476588Z"
    }
   },
   "outputs": [],
   "source": [
    "import numpy as np\n",
    "import pandas as pd\n",
    "from matplotlib import pyplot as plt\n",
    "%matplotlib inline\n",
    "import seaborn as sns\n",
    "from sklearn.linear_model import LogisticRegression\n",
    "from sklearn.model_selection import train_test_split\n",
    "import joblib"
   ]
  },
  {
   "cell_type": "markdown",
   "id": "5517fed1",
   "metadata": {},
   "source": [
    "#### Exploaring the data"
   ]
  },
  {
   "cell_type": "code",
   "execution_count": 39,
   "id": "eb9c161c",
   "metadata": {
    "ExecuteTime": {
     "end_time": "2021-11-27T09:16:56.085225Z",
     "start_time": "2021-11-27T09:16:56.052332Z"
    }
   },
   "outputs": [
    {
     "data": {
      "text/html": [
       "<div>\n",
       "<style scoped>\n",
       "    .dataframe tbody tr th:only-of-type {\n",
       "        vertical-align: middle;\n",
       "    }\n",
       "\n",
       "    .dataframe tbody tr th {\n",
       "        vertical-align: top;\n",
       "    }\n",
       "\n",
       "    .dataframe thead th {\n",
       "        text-align: right;\n",
       "    }\n",
       "</style>\n",
       "<table border=\"1\" class=\"dataframe\">\n",
       "  <thead>\n",
       "    <tr style=\"text-align: right;\">\n",
       "      <th></th>\n",
       "      <th>satisfaction_level</th>\n",
       "      <th>last_evaluation</th>\n",
       "      <th>number_project</th>\n",
       "      <th>average_montly_hours</th>\n",
       "      <th>time_spend_company</th>\n",
       "      <th>Work_accident</th>\n",
       "      <th>left</th>\n",
       "      <th>promotion_last_5years</th>\n",
       "      <th>Department</th>\n",
       "      <th>salary</th>\n",
       "    </tr>\n",
       "  </thead>\n",
       "  <tbody>\n",
       "    <tr>\n",
       "      <th>0</th>\n",
       "      <td>0.38</td>\n",
       "      <td>0.53</td>\n",
       "      <td>2</td>\n",
       "      <td>157</td>\n",
       "      <td>3</td>\n",
       "      <td>0</td>\n",
       "      <td>1</td>\n",
       "      <td>0</td>\n",
       "      <td>sales</td>\n",
       "      <td>low</td>\n",
       "    </tr>\n",
       "    <tr>\n",
       "      <th>1</th>\n",
       "      <td>0.80</td>\n",
       "      <td>0.86</td>\n",
       "      <td>5</td>\n",
       "      <td>262</td>\n",
       "      <td>6</td>\n",
       "      <td>0</td>\n",
       "      <td>1</td>\n",
       "      <td>0</td>\n",
       "      <td>sales</td>\n",
       "      <td>medium</td>\n",
       "    </tr>\n",
       "    <tr>\n",
       "      <th>2</th>\n",
       "      <td>0.11</td>\n",
       "      <td>0.88</td>\n",
       "      <td>7</td>\n",
       "      <td>272</td>\n",
       "      <td>4</td>\n",
       "      <td>0</td>\n",
       "      <td>1</td>\n",
       "      <td>0</td>\n",
       "      <td>sales</td>\n",
       "      <td>medium</td>\n",
       "    </tr>\n",
       "    <tr>\n",
       "      <th>3</th>\n",
       "      <td>0.72</td>\n",
       "      <td>0.87</td>\n",
       "      <td>5</td>\n",
       "      <td>223</td>\n",
       "      <td>5</td>\n",
       "      <td>0</td>\n",
       "      <td>1</td>\n",
       "      <td>0</td>\n",
       "      <td>sales</td>\n",
       "      <td>low</td>\n",
       "    </tr>\n",
       "    <tr>\n",
       "      <th>4</th>\n",
       "      <td>0.37</td>\n",
       "      <td>0.52</td>\n",
       "      <td>2</td>\n",
       "      <td>159</td>\n",
       "      <td>3</td>\n",
       "      <td>0</td>\n",
       "      <td>1</td>\n",
       "      <td>0</td>\n",
       "      <td>sales</td>\n",
       "      <td>low</td>\n",
       "    </tr>\n",
       "  </tbody>\n",
       "</table>\n",
       "</div>"
      ],
      "text/plain": [
       "   satisfaction_level  last_evaluation  number_project  average_montly_hours  \\\n",
       "0                0.38             0.53               2                   157   \n",
       "1                0.80             0.86               5                   262   \n",
       "2                0.11             0.88               7                   272   \n",
       "3                0.72             0.87               5                   223   \n",
       "4                0.37             0.52               2                   159   \n",
       "\n",
       "   time_spend_company  Work_accident  left  promotion_last_5years Department  \\\n",
       "0                   3              0     1                      0      sales   \n",
       "1                   6              0     1                      0      sales   \n",
       "2                   4              0     1                      0      sales   \n",
       "3                   5              0     1                      0      sales   \n",
       "4                   3              0     1                      0      sales   \n",
       "\n",
       "   salary  \n",
       "0     low  \n",
       "1  medium  \n",
       "2  medium  \n",
       "3     low  \n",
       "4     low  "
      ]
     },
     "execution_count": 39,
     "metadata": {},
     "output_type": "execute_result"
    }
   ],
   "source": [
    "df = pd.read_csv('HR_comma_sep.csv')\n",
    "df.head()"
   ]
  },
  {
   "cell_type": "code",
   "execution_count": 40,
   "id": "675bba97",
   "metadata": {
    "ExecuteTime": {
     "end_time": "2021-11-27T09:16:56.337393Z",
     "start_time": "2021-11-27T09:16:56.320408Z"
    }
   },
   "outputs": [
    {
     "data": {
      "text/plain": [
       "(14999, 10)"
      ]
     },
     "execution_count": 40,
     "metadata": {},
     "output_type": "execute_result"
    }
   ],
   "source": [
    "df.shape"
   ]
  },
  {
   "cell_type": "code",
   "execution_count": 41,
   "id": "e34eb51e",
   "metadata": {
    "ExecuteTime": {
     "end_time": "2021-11-27T09:16:56.602264Z",
     "start_time": "2021-11-27T09:16:56.579325Z"
    }
   },
   "outputs": [
    {
     "data": {
      "text/html": [
       "<div>\n",
       "<style scoped>\n",
       "    .dataframe tbody tr th:only-of-type {\n",
       "        vertical-align: middle;\n",
       "    }\n",
       "\n",
       "    .dataframe tbody tr th {\n",
       "        vertical-align: top;\n",
       "    }\n",
       "\n",
       "    .dataframe thead th {\n",
       "        text-align: right;\n",
       "    }\n",
       "</style>\n",
       "<table border=\"1\" class=\"dataframe\">\n",
       "  <thead>\n",
       "    <tr style=\"text-align: right;\">\n",
       "      <th></th>\n",
       "      <th>satisfaction_level</th>\n",
       "      <th>last_evaluation</th>\n",
       "      <th>number_project</th>\n",
       "      <th>average_montly_hours</th>\n",
       "      <th>time_spend_company</th>\n",
       "      <th>Work_accident</th>\n",
       "      <th>left</th>\n",
       "      <th>promotion_last_5years</th>\n",
       "      <th>Department</th>\n",
       "      <th>salary</th>\n",
       "    </tr>\n",
       "  </thead>\n",
       "  <tbody>\n",
       "    <tr>\n",
       "      <th>14994</th>\n",
       "      <td>0.40</td>\n",
       "      <td>0.57</td>\n",
       "      <td>2</td>\n",
       "      <td>151</td>\n",
       "      <td>3</td>\n",
       "      <td>0</td>\n",
       "      <td>1</td>\n",
       "      <td>0</td>\n",
       "      <td>support</td>\n",
       "      <td>low</td>\n",
       "    </tr>\n",
       "    <tr>\n",
       "      <th>14995</th>\n",
       "      <td>0.37</td>\n",
       "      <td>0.48</td>\n",
       "      <td>2</td>\n",
       "      <td>160</td>\n",
       "      <td>3</td>\n",
       "      <td>0</td>\n",
       "      <td>1</td>\n",
       "      <td>0</td>\n",
       "      <td>support</td>\n",
       "      <td>low</td>\n",
       "    </tr>\n",
       "    <tr>\n",
       "      <th>14996</th>\n",
       "      <td>0.37</td>\n",
       "      <td>0.53</td>\n",
       "      <td>2</td>\n",
       "      <td>143</td>\n",
       "      <td>3</td>\n",
       "      <td>0</td>\n",
       "      <td>1</td>\n",
       "      <td>0</td>\n",
       "      <td>support</td>\n",
       "      <td>low</td>\n",
       "    </tr>\n",
       "    <tr>\n",
       "      <th>14997</th>\n",
       "      <td>0.11</td>\n",
       "      <td>0.96</td>\n",
       "      <td>6</td>\n",
       "      <td>280</td>\n",
       "      <td>4</td>\n",
       "      <td>0</td>\n",
       "      <td>1</td>\n",
       "      <td>0</td>\n",
       "      <td>support</td>\n",
       "      <td>low</td>\n",
       "    </tr>\n",
       "    <tr>\n",
       "      <th>14998</th>\n",
       "      <td>0.37</td>\n",
       "      <td>0.52</td>\n",
       "      <td>2</td>\n",
       "      <td>158</td>\n",
       "      <td>3</td>\n",
       "      <td>0</td>\n",
       "      <td>1</td>\n",
       "      <td>0</td>\n",
       "      <td>support</td>\n",
       "      <td>low</td>\n",
       "    </tr>\n",
       "  </tbody>\n",
       "</table>\n",
       "</div>"
      ],
      "text/plain": [
       "       satisfaction_level  last_evaluation  number_project  \\\n",
       "14994                0.40             0.57               2   \n",
       "14995                0.37             0.48               2   \n",
       "14996                0.37             0.53               2   \n",
       "14997                0.11             0.96               6   \n",
       "14998                0.37             0.52               2   \n",
       "\n",
       "       average_montly_hours  time_spend_company  Work_accident  left  \\\n",
       "14994                   151                   3              0     1   \n",
       "14995                   160                   3              0     1   \n",
       "14996                   143                   3              0     1   \n",
       "14997                   280                   4              0     1   \n",
       "14998                   158                   3              0     1   \n",
       "\n",
       "       promotion_last_5years Department salary  \n",
       "14994                      0    support    low  \n",
       "14995                      0    support    low  \n",
       "14996                      0    support    low  \n",
       "14997                      0    support    low  \n",
       "14998                      0    support    low  "
      ]
     },
     "execution_count": 41,
     "metadata": {},
     "output_type": "execute_result"
    }
   ],
   "source": [
    "df.tail()"
   ]
  },
  {
   "cell_type": "code",
   "execution_count": 42,
   "id": "51d37bf8",
   "metadata": {
    "ExecuteTime": {
     "end_time": "2021-11-27T09:16:56.834235Z",
     "start_time": "2021-11-27T09:16:56.818313Z"
    }
   },
   "outputs": [
    {
     "data": {
      "text/plain": [
       "Index([], dtype='object')"
      ]
     },
     "execution_count": 42,
     "metadata": {},
     "output_type": "execute_result"
    }
   ],
   "source": [
    "df.columns[df.isna().any()]"
   ]
  },
  {
   "cell_type": "code",
   "execution_count": 43,
   "id": "f84ce770",
   "metadata": {
    "ExecuteTime": {
     "end_time": "2021-11-27T09:16:57.114186Z",
     "start_time": "2021-11-27T09:16:57.090042Z"
    }
   },
   "outputs": [
    {
     "name": "stdout",
     "output_type": "stream",
     "text": [
      "<class 'pandas.core.frame.DataFrame'>\n",
      "RangeIndex: 14999 entries, 0 to 14998\n",
      "Data columns (total 10 columns):\n",
      " #   Column                 Non-Null Count  Dtype  \n",
      "---  ------                 --------------  -----  \n",
      " 0   satisfaction_level     14999 non-null  float64\n",
      " 1   last_evaluation        14999 non-null  float64\n",
      " 2   number_project         14999 non-null  int64  \n",
      " 3   average_montly_hours   14999 non-null  int64  \n",
      " 4   time_spend_company     14999 non-null  int64  \n",
      " 5   Work_accident          14999 non-null  int64  \n",
      " 6   left                   14999 non-null  int64  \n",
      " 7   promotion_last_5years  14999 non-null  int64  \n",
      " 8   Department             14999 non-null  object \n",
      " 9   salary                 14999 non-null  object \n",
      "dtypes: float64(2), int64(6), object(2)\n",
      "memory usage: 1.1+ MB\n"
     ]
    }
   ],
   "source": [
    "df.info()"
   ]
  },
  {
   "cell_type": "code",
   "execution_count": 44,
   "id": "4879e983",
   "metadata": {
    "ExecuteTime": {
     "end_time": "2021-11-27T09:16:57.906065Z",
     "start_time": "2021-11-27T09:16:57.889122Z"
    }
   },
   "outputs": [
    {
     "data": {
      "text/plain": [
       "array([2, 5, 7, 6, 4, 3], dtype=int64)"
      ]
     },
     "execution_count": 44,
     "metadata": {},
     "output_type": "execute_result"
    }
   ],
   "source": [
    "df.number_project.unique()"
   ]
  },
  {
   "cell_type": "code",
   "execution_count": 45,
   "id": "81679282",
   "metadata": {
    "ExecuteTime": {
     "end_time": "2021-11-27T09:16:58.263920Z",
     "start_time": "2021-11-27T09:16:58.254944Z"
    }
   },
   "outputs": [
    {
     "data": {
      "text/plain": [
       "array([157, 262, 272, 223, 159, 153, 247, 259, 224, 142, 135, 305, 234,\n",
       "       148, 137, 143, 160, 255, 282, 147, 304, 139, 158, 242, 239, 128,\n",
       "       132, 294, 134, 145, 140, 246, 126, 306, 152, 269, 127, 281, 276,\n",
       "       182, 273, 307, 309, 225, 226, 308, 244, 286, 161, 264, 277, 275,\n",
       "       149, 295, 151, 249, 291, 232, 130, 129, 155, 265, 279, 284, 221,\n",
       "       154, 150, 267, 257, 177, 144, 289, 258, 263, 251, 133, 216, 300,\n",
       "       138, 260, 183, 250, 292, 283, 245, 256, 278, 240, 136, 301, 243,\n",
       "       296, 274, 164, 146, 261, 285, 141, 297, 156, 287, 219, 254, 228,\n",
       "       131, 252, 236, 270, 298, 192, 248, 266, 238, 229, 233, 268, 231,\n",
       "       253, 302, 271, 290, 235, 293, 241, 218, 199, 180, 195, 237, 227,\n",
       "       172, 206, 181, 217, 310, 214, 198, 211, 222, 213, 202, 184, 204,\n",
       "       288, 220, 299, 303, 212, 196, 179, 205, 230, 203, 280, 169, 188,\n",
       "       178, 175, 166, 163, 168, 165, 189, 162, 215, 193, 176, 191, 174,\n",
       "       201, 208, 171, 111, 104, 106, 100, 194, 209, 185, 200, 207, 187,\n",
       "       210, 186, 167, 108, 122, 110, 115, 197, 102, 109, 190,  99, 101,\n",
       "        97, 173, 121, 170, 105, 118, 119, 117, 114,  96,  98, 107, 123,\n",
       "       116, 125, 113, 120, 112, 124, 103], dtype=int64)"
      ]
     },
     "execution_count": 45,
     "metadata": {},
     "output_type": "execute_result"
    }
   ],
   "source": [
    "df.average_montly_hours.unique()"
   ]
  },
  {
   "cell_type": "code",
   "execution_count": 46,
   "id": "ea0ade19",
   "metadata": {
    "ExecuteTime": {
     "end_time": "2021-11-27T09:16:58.593160Z",
     "start_time": "2021-11-27T09:16:58.582190Z"
    }
   },
   "outputs": [
    {
     "data": {
      "text/plain": [
       "array([ 3,  6,  4,  5,  2,  8, 10,  7], dtype=int64)"
      ]
     },
     "execution_count": 46,
     "metadata": {},
     "output_type": "execute_result"
    }
   ],
   "source": [
    "df.time_spend_company.unique()"
   ]
  },
  {
   "cell_type": "code",
   "execution_count": 47,
   "id": "97461fae",
   "metadata": {
    "ExecuteTime": {
     "end_time": "2021-11-27T09:16:58.981936Z",
     "start_time": "2021-11-27T09:16:58.966976Z"
    }
   },
   "outputs": [
    {
     "data": {
      "text/plain": [
       "array([0, 1], dtype=int64)"
      ]
     },
     "execution_count": 47,
     "metadata": {},
     "output_type": "execute_result"
    }
   ],
   "source": [
    "df.promotion_last_5years.unique()"
   ]
  },
  {
   "cell_type": "code",
   "execution_count": 48,
   "id": "eafa4393",
   "metadata": {
    "ExecuteTime": {
     "end_time": "2021-11-27T09:16:59.540115Z",
     "start_time": "2021-11-27T09:16:59.505467Z"
    }
   },
   "outputs": [
    {
     "data": {
      "text/html": [
       "<div>\n",
       "<style scoped>\n",
       "    .dataframe tbody tr th:only-of-type {\n",
       "        vertical-align: middle;\n",
       "    }\n",
       "\n",
       "    .dataframe tbody tr th {\n",
       "        vertical-align: top;\n",
       "    }\n",
       "\n",
       "    .dataframe thead th {\n",
       "        text-align: right;\n",
       "    }\n",
       "</style>\n",
       "<table border=\"1\" class=\"dataframe\">\n",
       "  <thead>\n",
       "    <tr style=\"text-align: right;\">\n",
       "      <th></th>\n",
       "      <th>satisfaction_level</th>\n",
       "      <th>last_evaluation</th>\n",
       "      <th>number_project</th>\n",
       "      <th>average_montly_hours</th>\n",
       "      <th>time_spend_company</th>\n",
       "      <th>Work_accident</th>\n",
       "      <th>left</th>\n",
       "      <th>promotion_last_5years</th>\n",
       "    </tr>\n",
       "  </thead>\n",
       "  <tbody>\n",
       "    <tr>\n",
       "      <th>count</th>\n",
       "      <td>14999.000000</td>\n",
       "      <td>14999.000000</td>\n",
       "      <td>14999.000000</td>\n",
       "      <td>14999.000000</td>\n",
       "      <td>14999.000000</td>\n",
       "      <td>14999.000000</td>\n",
       "      <td>14999.000000</td>\n",
       "      <td>14999.000000</td>\n",
       "    </tr>\n",
       "    <tr>\n",
       "      <th>mean</th>\n",
       "      <td>0.612834</td>\n",
       "      <td>0.716102</td>\n",
       "      <td>3.803054</td>\n",
       "      <td>201.050337</td>\n",
       "      <td>3.498233</td>\n",
       "      <td>0.144610</td>\n",
       "      <td>0.238083</td>\n",
       "      <td>0.021268</td>\n",
       "    </tr>\n",
       "    <tr>\n",
       "      <th>std</th>\n",
       "      <td>0.248631</td>\n",
       "      <td>0.171169</td>\n",
       "      <td>1.232592</td>\n",
       "      <td>49.943099</td>\n",
       "      <td>1.460136</td>\n",
       "      <td>0.351719</td>\n",
       "      <td>0.425924</td>\n",
       "      <td>0.144281</td>\n",
       "    </tr>\n",
       "    <tr>\n",
       "      <th>min</th>\n",
       "      <td>0.090000</td>\n",
       "      <td>0.360000</td>\n",
       "      <td>2.000000</td>\n",
       "      <td>96.000000</td>\n",
       "      <td>2.000000</td>\n",
       "      <td>0.000000</td>\n",
       "      <td>0.000000</td>\n",
       "      <td>0.000000</td>\n",
       "    </tr>\n",
       "    <tr>\n",
       "      <th>25%</th>\n",
       "      <td>0.440000</td>\n",
       "      <td>0.560000</td>\n",
       "      <td>3.000000</td>\n",
       "      <td>156.000000</td>\n",
       "      <td>3.000000</td>\n",
       "      <td>0.000000</td>\n",
       "      <td>0.000000</td>\n",
       "      <td>0.000000</td>\n",
       "    </tr>\n",
       "    <tr>\n",
       "      <th>50%</th>\n",
       "      <td>0.640000</td>\n",
       "      <td>0.720000</td>\n",
       "      <td>4.000000</td>\n",
       "      <td>200.000000</td>\n",
       "      <td>3.000000</td>\n",
       "      <td>0.000000</td>\n",
       "      <td>0.000000</td>\n",
       "      <td>0.000000</td>\n",
       "    </tr>\n",
       "    <tr>\n",
       "      <th>75%</th>\n",
       "      <td>0.820000</td>\n",
       "      <td>0.870000</td>\n",
       "      <td>5.000000</td>\n",
       "      <td>245.000000</td>\n",
       "      <td>4.000000</td>\n",
       "      <td>0.000000</td>\n",
       "      <td>0.000000</td>\n",
       "      <td>0.000000</td>\n",
       "    </tr>\n",
       "    <tr>\n",
       "      <th>max</th>\n",
       "      <td>1.000000</td>\n",
       "      <td>1.000000</td>\n",
       "      <td>7.000000</td>\n",
       "      <td>310.000000</td>\n",
       "      <td>10.000000</td>\n",
       "      <td>1.000000</td>\n",
       "      <td>1.000000</td>\n",
       "      <td>1.000000</td>\n",
       "    </tr>\n",
       "  </tbody>\n",
       "</table>\n",
       "</div>"
      ],
      "text/plain": [
       "       satisfaction_level  last_evaluation  number_project  \\\n",
       "count        14999.000000     14999.000000    14999.000000   \n",
       "mean             0.612834         0.716102        3.803054   \n",
       "std              0.248631         0.171169        1.232592   \n",
       "min              0.090000         0.360000        2.000000   \n",
       "25%              0.440000         0.560000        3.000000   \n",
       "50%              0.640000         0.720000        4.000000   \n",
       "75%              0.820000         0.870000        5.000000   \n",
       "max              1.000000         1.000000        7.000000   \n",
       "\n",
       "       average_montly_hours  time_spend_company  Work_accident          left  \\\n",
       "count          14999.000000        14999.000000   14999.000000  14999.000000   \n",
       "mean             201.050337            3.498233       0.144610      0.238083   \n",
       "std               49.943099            1.460136       0.351719      0.425924   \n",
       "min               96.000000            2.000000       0.000000      0.000000   \n",
       "25%              156.000000            3.000000       0.000000      0.000000   \n",
       "50%              200.000000            3.000000       0.000000      0.000000   \n",
       "75%              245.000000            4.000000       0.000000      0.000000   \n",
       "max              310.000000           10.000000       1.000000      1.000000   \n",
       "\n",
       "       promotion_last_5years  \n",
       "count           14999.000000  \n",
       "mean                0.021268  \n",
       "std                 0.144281  \n",
       "min                 0.000000  \n",
       "25%                 0.000000  \n",
       "50%                 0.000000  \n",
       "75%                 0.000000  \n",
       "max                 1.000000  "
      ]
     },
     "execution_count": 48,
     "metadata": {},
     "output_type": "execute_result"
    }
   ],
   "source": [
    "df.describe()"
   ]
  },
  {
   "cell_type": "code",
   "execution_count": 49,
   "id": "6ec61e98",
   "metadata": {
    "ExecuteTime": {
     "end_time": "2021-11-27T09:16:59.972133Z",
     "start_time": "2021-11-27T09:16:59.966116Z"
    }
   },
   "outputs": [
    {
     "data": {
      "text/plain": [
       "3571"
      ]
     },
     "execution_count": 49,
     "metadata": {},
     "output_type": "execute_result"
    }
   ],
   "source": [
    "len(df[df.left == 1])"
   ]
  },
  {
   "cell_type": "code",
   "execution_count": 50,
   "id": "6a53906b",
   "metadata": {
    "ExecuteTime": {
     "end_time": "2021-11-27T09:17:00.458916Z",
     "start_time": "2021-11-27T09:17:00.443296Z"
    }
   },
   "outputs": [
    {
     "data": {
      "text/plain": [
       "11428"
      ]
     },
     "execution_count": 50,
     "metadata": {},
     "output_type": "execute_result"
    }
   ],
   "source": [
    "len(df[df.left == 0])"
   ]
  },
  {
   "cell_type": "code",
   "execution_count": 51,
   "id": "110dfee0",
   "metadata": {
    "ExecuteTime": {
     "end_time": "2021-11-27T09:17:01.005499Z",
     "start_time": "2021-11-27T09:17:00.981606Z"
    }
   },
   "outputs": [
    {
     "data": {
      "text/html": [
       "<div>\n",
       "<style scoped>\n",
       "    .dataframe tbody tr th:only-of-type {\n",
       "        vertical-align: middle;\n",
       "    }\n",
       "\n",
       "    .dataframe tbody tr th {\n",
       "        vertical-align: top;\n",
       "    }\n",
       "\n",
       "    .dataframe thead th {\n",
       "        text-align: right;\n",
       "    }\n",
       "</style>\n",
       "<table border=\"1\" class=\"dataframe\">\n",
       "  <thead>\n",
       "    <tr style=\"text-align: right;\">\n",
       "      <th></th>\n",
       "      <th>satisfaction_level</th>\n",
       "      <th>last_evaluation</th>\n",
       "      <th>number_project</th>\n",
       "      <th>average_montly_hours</th>\n",
       "      <th>time_spend_company</th>\n",
       "      <th>Work_accident</th>\n",
       "      <th>promotion_last_5years</th>\n",
       "    </tr>\n",
       "    <tr>\n",
       "      <th>left</th>\n",
       "      <th></th>\n",
       "      <th></th>\n",
       "      <th></th>\n",
       "      <th></th>\n",
       "      <th></th>\n",
       "      <th></th>\n",
       "      <th></th>\n",
       "    </tr>\n",
       "  </thead>\n",
       "  <tbody>\n",
       "    <tr>\n",
       "      <th>0</th>\n",
       "      <td>0.666810</td>\n",
       "      <td>0.715473</td>\n",
       "      <td>3.786664</td>\n",
       "      <td>199.060203</td>\n",
       "      <td>3.380032</td>\n",
       "      <td>0.175009</td>\n",
       "      <td>0.026251</td>\n",
       "    </tr>\n",
       "    <tr>\n",
       "      <th>1</th>\n",
       "      <td>0.440098</td>\n",
       "      <td>0.718113</td>\n",
       "      <td>3.855503</td>\n",
       "      <td>207.419210</td>\n",
       "      <td>3.876505</td>\n",
       "      <td>0.047326</td>\n",
       "      <td>0.005321</td>\n",
       "    </tr>\n",
       "  </tbody>\n",
       "</table>\n",
       "</div>"
      ],
      "text/plain": [
       "      satisfaction_level  last_evaluation  number_project  \\\n",
       "left                                                        \n",
       "0               0.666810         0.715473        3.786664   \n",
       "1               0.440098         0.718113        3.855503   \n",
       "\n",
       "      average_montly_hours  time_spend_company  Work_accident  \\\n",
       "left                                                            \n",
       "0               199.060203            3.380032       0.175009   \n",
       "1               207.419210            3.876505       0.047326   \n",
       "\n",
       "      promotion_last_5years  \n",
       "left                         \n",
       "0                  0.026251  \n",
       "1                  0.005321  "
      ]
     },
     "execution_count": 51,
     "metadata": {},
     "output_type": "execute_result"
    }
   ],
   "source": [
    "df.groupby('left').mean()"
   ]
  },
  {
   "cell_type": "code",
   "execution_count": 52,
   "id": "f96768e5",
   "metadata": {
    "ExecuteTime": {
     "end_time": "2021-11-27T09:17:01.486714Z",
     "start_time": "2021-11-27T09:17:01.461612Z"
    }
   },
   "outputs": [
    {
     "data": {
      "text/html": [
       "<div>\n",
       "<style scoped>\n",
       "    .dataframe tbody tr th:only-of-type {\n",
       "        vertical-align: middle;\n",
       "    }\n",
       "\n",
       "    .dataframe tbody tr th {\n",
       "        vertical-align: top;\n",
       "    }\n",
       "\n",
       "    .dataframe thead th {\n",
       "        text-align: right;\n",
       "    }\n",
       "</style>\n",
       "<table border=\"1\" class=\"dataframe\">\n",
       "  <thead>\n",
       "    <tr style=\"text-align: right;\">\n",
       "      <th></th>\n",
       "      <th>satisfaction_level</th>\n",
       "      <th>last_evaluation</th>\n",
       "      <th>number_project</th>\n",
       "      <th>average_montly_hours</th>\n",
       "      <th>time_spend_company</th>\n",
       "      <th>Work_accident</th>\n",
       "      <th>left</th>\n",
       "      <th>promotion_last_5years</th>\n",
       "    </tr>\n",
       "  </thead>\n",
       "  <tbody>\n",
       "    <tr>\n",
       "      <th>satisfaction_level</th>\n",
       "      <td>1.000000</td>\n",
       "      <td>0.105021</td>\n",
       "      <td>-0.142970</td>\n",
       "      <td>-0.020048</td>\n",
       "      <td>-0.100866</td>\n",
       "      <td>0.058697</td>\n",
       "      <td>-0.388375</td>\n",
       "      <td>0.025605</td>\n",
       "    </tr>\n",
       "    <tr>\n",
       "      <th>last_evaluation</th>\n",
       "      <td>0.105021</td>\n",
       "      <td>1.000000</td>\n",
       "      <td>0.349333</td>\n",
       "      <td>0.339742</td>\n",
       "      <td>0.131591</td>\n",
       "      <td>-0.007104</td>\n",
       "      <td>0.006567</td>\n",
       "      <td>-0.008684</td>\n",
       "    </tr>\n",
       "    <tr>\n",
       "      <th>number_project</th>\n",
       "      <td>-0.142970</td>\n",
       "      <td>0.349333</td>\n",
       "      <td>1.000000</td>\n",
       "      <td>0.417211</td>\n",
       "      <td>0.196786</td>\n",
       "      <td>-0.004741</td>\n",
       "      <td>0.023787</td>\n",
       "      <td>-0.006064</td>\n",
       "    </tr>\n",
       "    <tr>\n",
       "      <th>average_montly_hours</th>\n",
       "      <td>-0.020048</td>\n",
       "      <td>0.339742</td>\n",
       "      <td>0.417211</td>\n",
       "      <td>1.000000</td>\n",
       "      <td>0.127755</td>\n",
       "      <td>-0.010143</td>\n",
       "      <td>0.071287</td>\n",
       "      <td>-0.003544</td>\n",
       "    </tr>\n",
       "    <tr>\n",
       "      <th>time_spend_company</th>\n",
       "      <td>-0.100866</td>\n",
       "      <td>0.131591</td>\n",
       "      <td>0.196786</td>\n",
       "      <td>0.127755</td>\n",
       "      <td>1.000000</td>\n",
       "      <td>0.002120</td>\n",
       "      <td>0.144822</td>\n",
       "      <td>0.067433</td>\n",
       "    </tr>\n",
       "    <tr>\n",
       "      <th>Work_accident</th>\n",
       "      <td>0.058697</td>\n",
       "      <td>-0.007104</td>\n",
       "      <td>-0.004741</td>\n",
       "      <td>-0.010143</td>\n",
       "      <td>0.002120</td>\n",
       "      <td>1.000000</td>\n",
       "      <td>-0.154622</td>\n",
       "      <td>0.039245</td>\n",
       "    </tr>\n",
       "    <tr>\n",
       "      <th>left</th>\n",
       "      <td>-0.388375</td>\n",
       "      <td>0.006567</td>\n",
       "      <td>0.023787</td>\n",
       "      <td>0.071287</td>\n",
       "      <td>0.144822</td>\n",
       "      <td>-0.154622</td>\n",
       "      <td>1.000000</td>\n",
       "      <td>-0.061788</td>\n",
       "    </tr>\n",
       "    <tr>\n",
       "      <th>promotion_last_5years</th>\n",
       "      <td>0.025605</td>\n",
       "      <td>-0.008684</td>\n",
       "      <td>-0.006064</td>\n",
       "      <td>-0.003544</td>\n",
       "      <td>0.067433</td>\n",
       "      <td>0.039245</td>\n",
       "      <td>-0.061788</td>\n",
       "      <td>1.000000</td>\n",
       "    </tr>\n",
       "  </tbody>\n",
       "</table>\n",
       "</div>"
      ],
      "text/plain": [
       "                       satisfaction_level  last_evaluation  number_project  \\\n",
       "satisfaction_level               1.000000         0.105021       -0.142970   \n",
       "last_evaluation                  0.105021         1.000000        0.349333   \n",
       "number_project                  -0.142970         0.349333        1.000000   \n",
       "average_montly_hours            -0.020048         0.339742        0.417211   \n",
       "time_spend_company              -0.100866         0.131591        0.196786   \n",
       "Work_accident                    0.058697        -0.007104       -0.004741   \n",
       "left                            -0.388375         0.006567        0.023787   \n",
       "promotion_last_5years            0.025605        -0.008684       -0.006064   \n",
       "\n",
       "                       average_montly_hours  time_spend_company  \\\n",
       "satisfaction_level                -0.020048           -0.100866   \n",
       "last_evaluation                    0.339742            0.131591   \n",
       "number_project                     0.417211            0.196786   \n",
       "average_montly_hours               1.000000            0.127755   \n",
       "time_spend_company                 0.127755            1.000000   \n",
       "Work_accident                     -0.010143            0.002120   \n",
       "left                               0.071287            0.144822   \n",
       "promotion_last_5years             -0.003544            0.067433   \n",
       "\n",
       "                       Work_accident      left  promotion_last_5years  \n",
       "satisfaction_level          0.058697 -0.388375               0.025605  \n",
       "last_evaluation            -0.007104  0.006567              -0.008684  \n",
       "number_project             -0.004741  0.023787              -0.006064  \n",
       "average_montly_hours       -0.010143  0.071287              -0.003544  \n",
       "time_spend_company          0.002120  0.144822               0.067433  \n",
       "Work_accident               1.000000 -0.154622               0.039245  \n",
       "left                       -0.154622  1.000000              -0.061788  \n",
       "promotion_last_5years       0.039245 -0.061788               1.000000  "
      ]
     },
     "execution_count": 52,
     "metadata": {},
     "output_type": "execute_result"
    }
   ],
   "source": [
    "df.corr()"
   ]
  },
  {
   "cell_type": "markdown",
   "id": "914dcd69",
   "metadata": {},
   "source": [
    "from the analysis can draw the conclusion:<br><br>\n",
    "**Satisfaction Level**: Satisfaction level seems to be relatively low (0.44) in employees leaving the firm vs the retained ones (0.66) and got about 40% correlation with left employers<br>\n",
    "**Average Monthly Hours**: Average monthly hours are higher in employees leaving the firm (199 vs 207)<br>\n",
    "**Promotion Last 5 Years**: Employees who are given promotion are likely to be retained at firm<br>\n",
    "**time_spend_company**: 15% correlated with left column, time spend (3.3) average hours employess working leaving the firm vs the retained ones (3.8) hours<br>\n",
    "**work_accident**: with mean 18 who didn't leave the company and with only 0.04 mean who left the company so work accident defenitly not have direct or clear impact with left column because many pepole have work accident and didn't leave the firm<br>\n",
    "**last_evaluation**: last_evaluation (0.71) in employees leaving the firm vs the retained ones (0.71) approximatly equal and approximatly 0% correlated with left column so there is no direct impact with left column<br>\n",
    "**number of projects**: number of projects (3.7) in employees leaving the firm vs the retained ones (3.8) very close so there is no direct impact with left column\n"
   ]
  },
  {
   "cell_type": "markdown",
   "id": "9b8174a4",
   "metadata": {},
   "source": [
    "#### Visualization"
   ]
  },
  {
   "cell_type": "code",
   "execution_count": 53,
   "id": "9ed968eb",
   "metadata": {
    "ExecuteTime": {
     "end_time": "2021-11-27T09:17:02.806288Z",
     "start_time": "2021-11-27T09:17:02.665369Z"
    }
   },
   "outputs": [
    {
     "data": {
      "text/plain": [
       "<AxesSubplot:xlabel='salary', ylabel='count'>"
      ]
     },
     "execution_count": 53,
     "metadata": {},
     "output_type": "execute_result"
    },
    {
     "data": {
      "image/png": "[encoded data removed]",
      "text/plain": [
       "<Figure size 432x288 with 1 Axes>"
      ]
     },
     "metadata": {
      "needs_background": "light"
     },
     "output_type": "display_data"
    }
   ],
   "source": [
    "sns.countplot(x='salary', hue='left', data=df)"
   ]
  },
  {
   "cell_type": "code",
   "execution_count": 54,
   "id": "1a4af9b9",
   "metadata": {
    "ExecuteTime": {
     "end_time": "2021-11-27T09:17:03.245288Z",
     "start_time": "2021-11-27T09:17:03.027874Z"
    }
   },
   "outputs": [
    {
     "data": {
      "text/plain": [
       "<AxesSubplot:xlabel='Department', ylabel='count'>"
      ]
     },
     "execution_count": 54,
     "metadata": {},
     "output_type": "execute_result"
    },
    {
     "data": {
      "image/png": "[encoded data removed]",
      "text/plain": [
       "<Figure size 864x576 with 1 Axes>"
      ]
     },
     "metadata": {
      "needs_background": "light"
     },
     "output_type": "display_data"
    }
   ],
   "source": [
    "plt.figure(figsize=(12,8))\n",
    "sns.countplot(x='Department', hue='left', data=df)"
   ]
  },
  {
   "cell_type": "markdown",
   "id": "ba67e062",
   "metadata": {},
   "source": [
    "From above chart there seem to be some impact of department on employee retention but it is not major hence we will ignore department in our analysis<br>\n",
    "\n",
    "From the data analysis so far we can conclude that we will use following variables as independant variables in our model:<br>\n",
    "**Satisfaction_Level**<br>\n",
    "**Average_Monthly_Hours**<br>\n",
    "**Promotion_Last_5_Years**<br>\n",
    "**Salary**<br>\n",
    "**time_spend_company**"
   ]
  },
  {
   "cell_type": "markdown",
   "id": "ad9652c8",
   "metadata": {},
   "source": [
    "#### Assigning important Features"
   ]
  },
  {
   "cell_type": "code",
   "execution_count": 55,
   "id": "10b6ee0e",
   "metadata": {
    "ExecuteTime": {
     "end_time": "2021-11-27T09:17:04.205136Z",
     "start_time": "2021-11-27T09:17:04.188166Z"
    }
   },
   "outputs": [
    {
     "data": {
      "text/html": [
       "<div>\n",
       "<style scoped>\n",
       "    .dataframe tbody tr th:only-of-type {\n",
       "        vertical-align: middle;\n",
       "    }\n",
       "\n",
       "    .dataframe tbody tr th {\n",
       "        vertical-align: top;\n",
       "    }\n",
       "\n",
       "    .dataframe thead th {\n",
       "        text-align: right;\n",
       "    }\n",
       "</style>\n",
       "<table border=\"1\" class=\"dataframe\">\n",
       "  <thead>\n",
       "    <tr style=\"text-align: right;\">\n",
       "      <th></th>\n",
       "      <th>satisfaction_level</th>\n",
       "      <th>average_montly_hours</th>\n",
       "      <th>promotion_last_5years</th>\n",
       "      <th>salary</th>\n",
       "      <th>time_spend_company</th>\n",
       "    </tr>\n",
       "  </thead>\n",
       "  <tbody>\n",
       "    <tr>\n",
       "      <th>0</th>\n",
       "      <td>0.38</td>\n",
       "      <td>157</td>\n",
       "      <td>0</td>\n",
       "      <td>low</td>\n",
       "      <td>3</td>\n",
       "    </tr>\n",
       "    <tr>\n",
       "      <th>1</th>\n",
       "      <td>0.80</td>\n",
       "      <td>262</td>\n",
       "      <td>0</td>\n",
       "      <td>medium</td>\n",
       "      <td>6</td>\n",
       "    </tr>\n",
       "    <tr>\n",
       "      <th>2</th>\n",
       "      <td>0.11</td>\n",
       "      <td>272</td>\n",
       "      <td>0</td>\n",
       "      <td>medium</td>\n",
       "      <td>4</td>\n",
       "    </tr>\n",
       "    <tr>\n",
       "      <th>3</th>\n",
       "      <td>0.72</td>\n",
       "      <td>223</td>\n",
       "      <td>0</td>\n",
       "      <td>low</td>\n",
       "      <td>5</td>\n",
       "    </tr>\n",
       "    <tr>\n",
       "      <th>4</th>\n",
       "      <td>0.37</td>\n",
       "      <td>159</td>\n",
       "      <td>0</td>\n",
       "      <td>low</td>\n",
       "      <td>3</td>\n",
       "    </tr>\n",
       "    <tr>\n",
       "      <th>...</th>\n",
       "      <td>...</td>\n",
       "      <td>...</td>\n",
       "      <td>...</td>\n",
       "      <td>...</td>\n",
       "      <td>...</td>\n",
       "    </tr>\n",
       "    <tr>\n",
       "      <th>14994</th>\n",
       "      <td>0.40</td>\n",
       "      <td>151</td>\n",
       "      <td>0</td>\n",
       "      <td>low</td>\n",
       "      <td>3</td>\n",
       "    </tr>\n",
       "    <tr>\n",
       "      <th>14995</th>\n",
       "      <td>0.37</td>\n",
       "      <td>160</td>\n",
       "      <td>0</td>\n",
       "      <td>low</td>\n",
       "      <td>3</td>\n",
       "    </tr>\n",
       "    <tr>\n",
       "      <th>14996</th>\n",
       "      <td>0.37</td>\n",
       "      <td>143</td>\n",
       "      <td>0</td>\n",
       "      <td>low</td>\n",
       "      <td>3</td>\n",
       "    </tr>\n",
       "    <tr>\n",
       "      <th>14997</th>\n",
       "      <td>0.11</td>\n",
       "      <td>280</td>\n",
       "      <td>0</td>\n",
       "      <td>low</td>\n",
       "      <td>4</td>\n",
       "    </tr>\n",
       "    <tr>\n",
       "      <th>14998</th>\n",
       "      <td>0.37</td>\n",
       "      <td>158</td>\n",
       "      <td>0</td>\n",
       "      <td>low</td>\n",
       "      <td>3</td>\n",
       "    </tr>\n",
       "  </tbody>\n",
       "</table>\n",
       "<p>14999 rows × 5 columns</p>\n",
       "</div>"
      ],
      "text/plain": [
       "       satisfaction_level  average_montly_hours  promotion_last_5years  \\\n",
       "0                    0.38                   157                      0   \n",
       "1                    0.80                   262                      0   \n",
       "2                    0.11                   272                      0   \n",
       "3                    0.72                   223                      0   \n",
       "4                    0.37                   159                      0   \n",
       "...                   ...                   ...                    ...   \n",
       "14994                0.40                   151                      0   \n",
       "14995                0.37                   160                      0   \n",
       "14996                0.37                   143                      0   \n",
       "14997                0.11                   280                      0   \n",
       "14998                0.37                   158                      0   \n",
       "\n",
       "       salary  time_spend_company  \n",
       "0         low                   3  \n",
       "1      medium                   6  \n",
       "2      medium                   4  \n",
       "3         low                   5  \n",
       "4         low                   3  \n",
       "...       ...                 ...  \n",
       "14994     low                   3  \n",
       "14995     low                   3  \n",
       "14996     low                   3  \n",
       "14997     low                   4  \n",
       "14998     low                   3  \n",
       "\n",
       "[14999 rows x 5 columns]"
      ]
     },
     "execution_count": 55,
     "metadata": {},
     "output_type": "execute_result"
    }
   ],
   "source": [
    "new_df = df[['satisfaction_level','average_montly_hours','promotion_last_5years','salary', 'time_spend_company']]\n",
    "new_df"
   ]
  },
  {
   "cell_type": "markdown",
   "id": "355e0750",
   "metadata": {},
   "source": [
    "#### apply one hot encoder to salary column"
   ]
  },
  {
   "cell_type": "code",
   "execution_count": 56,
   "id": "ef8e10b1",
   "metadata": {
    "ExecuteTime": {
     "end_time": "2021-11-27T09:17:05.050466Z",
     "start_time": "2021-11-27T09:17:05.026493Z"
    }
   },
   "outputs": [
    {
     "data": {
      "text/html": [
       "<div>\n",
       "<style scoped>\n",
       "    .dataframe tbody tr th:only-of-type {\n",
       "        vertical-align: middle;\n",
       "    }\n",
       "\n",
       "    .dataframe tbody tr th {\n",
       "        vertical-align: top;\n",
       "    }\n",
       "\n",
       "    .dataframe thead th {\n",
       "        text-align: right;\n",
       "    }\n",
       "</style>\n",
       "<table border=\"1\" class=\"dataframe\">\n",
       "  <thead>\n",
       "    <tr style=\"text-align: right;\">\n",
       "      <th></th>\n",
       "      <th>high</th>\n",
       "      <th>low</th>\n",
       "      <th>medium</th>\n",
       "    </tr>\n",
       "  </thead>\n",
       "  <tbody>\n",
       "    <tr>\n",
       "      <th>0</th>\n",
       "      <td>0</td>\n",
       "      <td>1</td>\n",
       "      <td>0</td>\n",
       "    </tr>\n",
       "    <tr>\n",
       "      <th>1</th>\n",
       "      <td>0</td>\n",
       "      <td>0</td>\n",
       "      <td>1</td>\n",
       "    </tr>\n",
       "    <tr>\n",
       "      <th>2</th>\n",
       "      <td>0</td>\n",
       "      <td>0</td>\n",
       "      <td>1</td>\n",
       "    </tr>\n",
       "    <tr>\n",
       "      <th>3</th>\n",
       "      <td>0</td>\n",
       "      <td>1</td>\n",
       "      <td>0</td>\n",
       "    </tr>\n",
       "    <tr>\n",
       "      <th>4</th>\n",
       "      <td>0</td>\n",
       "      <td>1</td>\n",
       "      <td>0</td>\n",
       "    </tr>\n",
       "    <tr>\n",
       "      <th>...</th>\n",
       "      <td>...</td>\n",
       "      <td>...</td>\n",
       "      <td>...</td>\n",
       "    </tr>\n",
       "    <tr>\n",
       "      <th>14994</th>\n",
       "      <td>0</td>\n",
       "      <td>1</td>\n",
       "      <td>0</td>\n",
       "    </tr>\n",
       "    <tr>\n",
       "      <th>14995</th>\n",
       "      <td>0</td>\n",
       "      <td>1</td>\n",
       "      <td>0</td>\n",
       "    </tr>\n",
       "    <tr>\n",
       "      <th>14996</th>\n",
       "      <td>0</td>\n",
       "      <td>1</td>\n",
       "      <td>0</td>\n",
       "    </tr>\n",
       "    <tr>\n",
       "      <th>14997</th>\n",
       "      <td>0</td>\n",
       "      <td>1</td>\n",
       "      <td>0</td>\n",
       "    </tr>\n",
       "    <tr>\n",
       "      <th>14998</th>\n",
       "      <td>0</td>\n",
       "      <td>1</td>\n",
       "      <td>0</td>\n",
       "    </tr>\n",
       "  </tbody>\n",
       "</table>\n",
       "<p>14999 rows × 3 columns</p>\n",
       "</div>"
      ],
      "text/plain": [
       "       high  low  medium\n",
       "0         0    1       0\n",
       "1         0    0       1\n",
       "2         0    0       1\n",
       "3         0    1       0\n",
       "4         0    1       0\n",
       "...     ...  ...     ...\n",
       "14994     0    1       0\n",
       "14995     0    1       0\n",
       "14996     0    1       0\n",
       "14997     0    1       0\n",
       "14998     0    1       0\n",
       "\n",
       "[14999 rows x 3 columns]"
      ]
     },
     "execution_count": 56,
     "metadata": {},
     "output_type": "execute_result"
    }
   ],
   "source": [
    "dummies = pd.get_dummies(new_df.salary)\n",
    "dummies"
   ]
  },
  {
   "cell_type": "markdown",
   "id": "4b2b2fac",
   "metadata": {},
   "source": [
    "#### drop salary and one dummy column to avoid trapping in dummy variables trap"
   ]
  },
  {
   "cell_type": "code",
   "execution_count": 57,
   "id": "3ebc13bf",
   "metadata": {
    "ExecuteTime": {
     "end_time": "2021-11-27T09:17:06.081736Z",
     "start_time": "2021-11-27T09:17:06.062810Z"
    }
   },
   "outputs": [
    {
     "data": {
      "text/html": [
       "<div>\n",
       "<style scoped>\n",
       "    .dataframe tbody tr th:only-of-type {\n",
       "        vertical-align: middle;\n",
       "    }\n",
       "\n",
       "    .dataframe tbody tr th {\n",
       "        vertical-align: top;\n",
       "    }\n",
       "\n",
       "    .dataframe thead th {\n",
       "        text-align: right;\n",
       "    }\n",
       "</style>\n",
       "<table border=\"1\" class=\"dataframe\">\n",
       "  <thead>\n",
       "    <tr style=\"text-align: right;\">\n",
       "      <th></th>\n",
       "      <th>satisfaction_level</th>\n",
       "      <th>average_montly_hours</th>\n",
       "      <th>promotion_last_5years</th>\n",
       "      <th>salary</th>\n",
       "      <th>time_spend_company</th>\n",
       "      <th>high</th>\n",
       "      <th>low</th>\n",
       "      <th>medium</th>\n",
       "    </tr>\n",
       "  </thead>\n",
       "  <tbody>\n",
       "    <tr>\n",
       "      <th>0</th>\n",
       "      <td>0.38</td>\n",
       "      <td>157</td>\n",
       "      <td>0</td>\n",
       "      <td>low</td>\n",
       "      <td>3</td>\n",
       "      <td>0</td>\n",
       "      <td>1</td>\n",
       "      <td>0</td>\n",
       "    </tr>\n",
       "    <tr>\n",
       "      <th>1</th>\n",
       "      <td>0.80</td>\n",
       "      <td>262</td>\n",
       "      <td>0</td>\n",
       "      <td>medium</td>\n",
       "      <td>6</td>\n",
       "      <td>0</td>\n",
       "      <td>0</td>\n",
       "      <td>1</td>\n",
       "    </tr>\n",
       "    <tr>\n",
       "      <th>2</th>\n",
       "      <td>0.11</td>\n",
       "      <td>272</td>\n",
       "      <td>0</td>\n",
       "      <td>medium</td>\n",
       "      <td>4</td>\n",
       "      <td>0</td>\n",
       "      <td>0</td>\n",
       "      <td>1</td>\n",
       "    </tr>\n",
       "    <tr>\n",
       "      <th>3</th>\n",
       "      <td>0.72</td>\n",
       "      <td>223</td>\n",
       "      <td>0</td>\n",
       "      <td>low</td>\n",
       "      <td>5</td>\n",
       "      <td>0</td>\n",
       "      <td>1</td>\n",
       "      <td>0</td>\n",
       "    </tr>\n",
       "    <tr>\n",
       "      <th>4</th>\n",
       "      <td>0.37</td>\n",
       "      <td>159</td>\n",
       "      <td>0</td>\n",
       "      <td>low</td>\n",
       "      <td>3</td>\n",
       "      <td>0</td>\n",
       "      <td>1</td>\n",
       "      <td>0</td>\n",
       "    </tr>\n",
       "  </tbody>\n",
       "</table>\n",
       "</div>"
      ],
      "text/plain": [
       "   satisfaction_level  average_montly_hours  promotion_last_5years  salary  \\\n",
       "0                0.38                   157                      0     low   \n",
       "1                0.80                   262                      0  medium   \n",
       "2                0.11                   272                      0  medium   \n",
       "3                0.72                   223                      0     low   \n",
       "4                0.37                   159                      0     low   \n",
       "\n",
       "   time_spend_company  high  low  medium  \n",
       "0                   3     0    1       0  \n",
       "1                   6     0    0       1  \n",
       "2                   4     0    0       1  \n",
       "3                   5     0    1       0  \n",
       "4                   3     0    1       0  "
      ]
     },
     "execution_count": 57,
     "metadata": {},
     "output_type": "execute_result"
    }
   ],
   "source": [
    "df_with_dummies = pd.concat([new_df,dummies],axis='columns')\n",
    "df_with_dummies.head()"
   ]
  },
  {
   "cell_type": "code",
   "execution_count": 58,
   "id": "2f1d2e77",
   "metadata": {
    "ExecuteTime": {
     "end_time": "2021-11-27T09:17:06.532333Z",
     "start_time": "2021-11-27T09:17:06.516143Z"
    }
   },
   "outputs": [
    {
     "data": {
      "text/html": [
       "<div>\n",
       "<style scoped>\n",
       "    .dataframe tbody tr th:only-of-type {\n",
       "        vertical-align: middle;\n",
       "    }\n",
       "\n",
       "    .dataframe tbody tr th {\n",
       "        vertical-align: top;\n",
       "    }\n",
       "\n",
       "    .dataframe thead th {\n",
       "        text-align: right;\n",
       "    }\n",
       "</style>\n",
       "<table border=\"1\" class=\"dataframe\">\n",
       "  <thead>\n",
       "    <tr style=\"text-align: right;\">\n",
       "      <th></th>\n",
       "      <th>satisfaction_level</th>\n",
       "      <th>average_montly_hours</th>\n",
       "      <th>promotion_last_5years</th>\n",
       "      <th>time_spend_company</th>\n",
       "      <th>high</th>\n",
       "      <th>low</th>\n",
       "    </tr>\n",
       "  </thead>\n",
       "  <tbody>\n",
       "    <tr>\n",
       "      <th>0</th>\n",
       "      <td>0.38</td>\n",
       "      <td>157</td>\n",
       "      <td>0</td>\n",
       "      <td>3</td>\n",
       "      <td>0</td>\n",
       "      <td>1</td>\n",
       "    </tr>\n",
       "    <tr>\n",
       "      <th>1</th>\n",
       "      <td>0.80</td>\n",
       "      <td>262</td>\n",
       "      <td>0</td>\n",
       "      <td>6</td>\n",
       "      <td>0</td>\n",
       "      <td>0</td>\n",
       "    </tr>\n",
       "    <tr>\n",
       "      <th>2</th>\n",
       "      <td>0.11</td>\n",
       "      <td>272</td>\n",
       "      <td>0</td>\n",
       "      <td>4</td>\n",
       "      <td>0</td>\n",
       "      <td>0</td>\n",
       "    </tr>\n",
       "    <tr>\n",
       "      <th>3</th>\n",
       "      <td>0.72</td>\n",
       "      <td>223</td>\n",
       "      <td>0</td>\n",
       "      <td>5</td>\n",
       "      <td>0</td>\n",
       "      <td>1</td>\n",
       "    </tr>\n",
       "    <tr>\n",
       "      <th>4</th>\n",
       "      <td>0.37</td>\n",
       "      <td>159</td>\n",
       "      <td>0</td>\n",
       "      <td>3</td>\n",
       "      <td>0</td>\n",
       "      <td>1</td>\n",
       "    </tr>\n",
       "  </tbody>\n",
       "</table>\n",
       "</div>"
      ],
      "text/plain": [
       "   satisfaction_level  average_montly_hours  promotion_last_5years  \\\n",
       "0                0.38                   157                      0   \n",
       "1                0.80                   262                      0   \n",
       "2                0.11                   272                      0   \n",
       "3                0.72                   223                      0   \n",
       "4                0.37                   159                      0   \n",
       "\n",
       "   time_spend_company  high  low  \n",
       "0                   3     0    1  \n",
       "1                   6     0    0  \n",
       "2                   4     0    0  \n",
       "3                   5     0    1  \n",
       "4                   3     0    1  "
      ]
     },
     "execution_count": 58,
     "metadata": {},
     "output_type": "execute_result"
    }
   ],
   "source": [
    "df_with_dummies.drop(['salary', 'medium'],axis='columns',inplace=True)\n",
    "df_with_dummies.head()"
   ]
  },
  {
   "cell_type": "markdown",
   "id": "efe54704",
   "metadata": {},
   "source": [
    "#### Assigning Features and target columns"
   ]
  },
  {
   "cell_type": "code",
   "execution_count": 59,
   "id": "f872cf04",
   "metadata": {
    "ExecuteTime": {
     "end_time": "2021-11-27T09:17:07.527677Z",
     "start_time": "2021-11-27T09:17:07.507740Z"
    }
   },
   "outputs": [
    {
     "data": {
      "text/html": [
       "<div>\n",
       "<style scoped>\n",
       "    .dataframe tbody tr th:only-of-type {\n",
       "        vertical-align: middle;\n",
       "    }\n",
       "\n",
       "    .dataframe tbody tr th {\n",
       "        vertical-align: top;\n",
       "    }\n",
       "\n",
       "    .dataframe thead th {\n",
       "        text-align: right;\n",
       "    }\n",
       "</style>\n",
       "<table border=\"1\" class=\"dataframe\">\n",
       "  <thead>\n",
       "    <tr style=\"text-align: right;\">\n",
       "      <th></th>\n",
       "      <th>satisfaction_level</th>\n",
       "      <th>average_montly_hours</th>\n",
       "      <th>promotion_last_5years</th>\n",
       "      <th>time_spend_company</th>\n",
       "      <th>high</th>\n",
       "      <th>low</th>\n",
       "    </tr>\n",
       "  </thead>\n",
       "  <tbody>\n",
       "    <tr>\n",
       "      <th>0</th>\n",
       "      <td>0.38</td>\n",
       "      <td>157</td>\n",
       "      <td>0</td>\n",
       "      <td>3</td>\n",
       "      <td>0</td>\n",
       "      <td>1</td>\n",
       "    </tr>\n",
       "    <tr>\n",
       "      <th>1</th>\n",
       "      <td>0.80</td>\n",
       "      <td>262</td>\n",
       "      <td>0</td>\n",
       "      <td>6</td>\n",
       "      <td>0</td>\n",
       "      <td>0</td>\n",
       "    </tr>\n",
       "    <tr>\n",
       "      <th>2</th>\n",
       "      <td>0.11</td>\n",
       "      <td>272</td>\n",
       "      <td>0</td>\n",
       "      <td>4</td>\n",
       "      <td>0</td>\n",
       "      <td>0</td>\n",
       "    </tr>\n",
       "    <tr>\n",
       "      <th>3</th>\n",
       "      <td>0.72</td>\n",
       "      <td>223</td>\n",
       "      <td>0</td>\n",
       "      <td>5</td>\n",
       "      <td>0</td>\n",
       "      <td>1</td>\n",
       "    </tr>\n",
       "    <tr>\n",
       "      <th>4</th>\n",
       "      <td>0.37</td>\n",
       "      <td>159</td>\n",
       "      <td>0</td>\n",
       "      <td>3</td>\n",
       "      <td>0</td>\n",
       "      <td>1</td>\n",
       "    </tr>\n",
       "  </tbody>\n",
       "</table>\n",
       "</div>"
      ],
      "text/plain": [
       "   satisfaction_level  average_montly_hours  promotion_last_5years  \\\n",
       "0                0.38                   157                      0   \n",
       "1                0.80                   262                      0   \n",
       "2                0.11                   272                      0   \n",
       "3                0.72                   223                      0   \n",
       "4                0.37                   159                      0   \n",
       "\n",
       "   time_spend_company  high  low  \n",
       "0                   3     0    1  \n",
       "1                   6     0    0  \n",
       "2                   4     0    0  \n",
       "3                   5     0    1  \n",
       "4                   3     0    1  "
      ]
     },
     "execution_count": 59,
     "metadata": {},
     "output_type": "execute_result"
    }
   ],
   "source": [
    "X = df_with_dummies\n",
    "\n",
    "X.head()"
   ]
  },
  {
   "cell_type": "code",
   "execution_count": 60,
   "id": "d7719d39",
   "metadata": {
    "ExecuteTime": {
     "end_time": "2021-11-27T09:17:12.718577Z",
     "start_time": "2021-11-27T09:17:12.702654Z"
    }
   },
   "outputs": [
    {
     "data": {
      "text/plain": [
       "(14999, 6)"
      ]
     },
     "execution_count": 60,
     "metadata": {},
     "output_type": "execute_result"
    }
   ],
   "source": [
    "X.shape"
   ]
  },
  {
   "cell_type": "code",
   "execution_count": 61,
   "id": "97ed4e49",
   "metadata": {
    "ExecuteTime": {
     "end_time": "2021-11-27T09:17:14.276740Z",
     "start_time": "2021-11-27T09:17:14.268765Z"
    }
   },
   "outputs": [
    {
     "data": {
      "text/plain": [
       "0    1\n",
       "1    1\n",
       "2    1\n",
       "3    1\n",
       "4    1\n",
       "Name: left, dtype: int64"
      ]
     },
     "execution_count": 61,
     "metadata": {},
     "output_type": "execute_result"
    }
   ],
   "source": [
    "y =df.left\n",
    "y.head()"
   ]
  },
  {
   "cell_type": "code",
   "execution_count": 62,
   "id": "d6cce4bf",
   "metadata": {
    "ExecuteTime": {
     "end_time": "2021-11-27T09:17:17.942136Z",
     "start_time": "2021-11-27T09:17:17.928100Z"
    }
   },
   "outputs": [
    {
     "data": {
      "text/plain": [
       "(14999,)"
      ]
     },
     "execution_count": 62,
     "metadata": {},
     "output_type": "execute_result"
    }
   ],
   "source": [
    "y.shape"
   ]
  },
  {
   "cell_type": "markdown",
   "id": "540c5c89",
   "metadata": {},
   "source": [
    "#### Split the model into training data and testing data"
   ]
  },
  {
   "cell_type": "code",
   "execution_count": 102,
   "id": "5c921fd8",
   "metadata": {
    "ExecuteTime": {
     "end_time": "2021-11-27T09:18:34.151725Z",
     "start_time": "2021-11-27T09:18:34.130781Z"
    }
   },
   "outputs": [],
   "source": [
    "X_train, X_test, y_train, y_test = train_test_split(X, y, test_size=0.25, random_state=7415)"
   ]
  },
  {
   "cell_type": "markdown",
   "id": "555038d2",
   "metadata": {},
   "source": [
    "#### Bulding and Training Logistic Regression model"
   ]
  },
  {
   "cell_type": "code",
   "execution_count": 103,
   "id": "d442a966",
   "metadata": {
    "ExecuteTime": {
     "end_time": "2021-11-27T09:18:34.702788Z",
     "start_time": "2021-11-27T09:18:34.633055Z"
    }
   },
   "outputs": [
    {
     "data": {
      "text/plain": [
       "LogisticRegression()"
      ]
     },
     "execution_count": 103,
     "metadata": {},
     "output_type": "execute_result"
    }
   ],
   "source": [
    "model = LogisticRegression()\n",
    "model.fit(X_train, y_train)"
   ]
  },
  {
   "cell_type": "code",
   "execution_count": 104,
   "id": "e5fe64c7",
   "metadata": {
    "ExecuteTime": {
     "end_time": "2021-11-27T09:18:35.203782Z",
     "start_time": "2021-11-27T09:18:35.172594Z"
    }
   },
   "outputs": [
    {
     "data": {
      "text/plain": [
       "0.7738666666666667"
      ]
     },
     "execution_count": 104,
     "metadata": {},
     "output_type": "execute_result"
    }
   ],
   "source": [
    "model.score(X_test, y_test)"
   ]
  },
  {
   "cell_type": "markdown",
   "id": "58b3d077",
   "metadata": {},
   "source": [
    "#### Assign the parameters"
   ]
  },
  {
   "cell_type": "code",
   "execution_count": 127,
   "id": "bb2315e8",
   "metadata": {
    "ExecuteTime": {
     "end_time": "2021-11-27T09:31:00.406776Z",
     "start_time": "2021-11-27T09:31:00.391816Z"
    }
   },
   "outputs": [
    {
     "name": "stdout",
     "output_type": "stream",
     "text": [
      "theta_0 = [-0.18622316]\n",
      "theta_1 = -3.6978262684875784\n",
      "theta_2 = 0.000909468533536883\n",
      "theta_3 = -1.3763250777054616\n",
      "theta_4 = 0.19393855145694508\n",
      "theta_5 = -1.2822841655625568\n",
      "theta_6 = 0.5289994483163678\n"
     ]
    }
   ],
   "source": [
    "theta_0 = model.intercept_\n",
    "theta_1 = model.coef_[0][0]\n",
    "theta_2 = model.coef_[0][1]\n",
    "theta_3 = model.coef_[0][2]\n",
    "theta_4 = model.coef_[0][3]\n",
    "theta_5 = model.coef_[0][4]\n",
    "theta_6 = model.coef_[0][5]\n",
    "\n",
    "print(f\"theta_0 = {theta_0}\\ntheta_1 = {theta_1}\\ntheta_2 = {theta_2}\\ntheta_3 = {theta_3}\\ntheta_4 = {theta_4}\\ntheta_5 = {theta_5}\\ntheta_6 = {theta_6}\")"
   ]
  },
  {
   "cell_type": "markdown",
   "id": "65b2c3b8",
   "metadata": {},
   "source": [
    "#### define sigmoid function"
   ]
  },
  {
   "cell_type": "code",
   "execution_count": 128,
   "id": "5c6dc55e",
   "metadata": {
    "ExecuteTime": {
     "end_time": "2021-11-27T09:35:21.826593Z",
     "start_time": "2021-11-27T09:35:21.814651Z"
    }
   },
   "outputs": [],
   "source": [
    "from math import e,pow\n",
    "def sigmoid_fun(x1,x2,x3,x4,x5,x6):\n",
    "    return 1 / (1 + pow(e, -(theta_0 + theta_1 * x1 + theta_2 * x2 + theta_3 * x3 + theta_4 * x4 + theta_5 * x5 + theta_6 * x6)))"
   ]
  },
  {
   "cell_type": "markdown",
   "id": "63ba69e8",
   "metadata": {},
   "source": [
    "#### testing the hypothesis function"
   ]
  },
  {
   "cell_type": "code",
   "execution_count": 129,
   "id": "3dbb0a7c",
   "metadata": {
    "ExecuteTime": {
     "end_time": "2021-11-27T09:36:13.115837Z",
     "start_time": "2021-11-27T09:36:13.104903Z"
    }
   },
   "outputs": [
    {
     "data": {
      "text/plain": [
       "0.3573736662986111"
      ]
     },
     "execution_count": 129,
     "metadata": {},
     "output_type": "execute_result"
    }
   ],
   "source": [
    "sigmoid_fun(0.60, 138, 0, 6 , 0 , 1) # 35% probability to leave the company"
   ]
  },
  {
   "cell_type": "markdown",
   "id": "493ba83b",
   "metadata": {},
   "source": [
    "#### save the model"
   ]
  },
  {
   "cell_type": "code",
   "execution_count": 107,
   "id": "67056380",
   "metadata": {
    "ExecuteTime": {
     "end_time": "2021-11-27T09:18:56.135062Z",
     "start_time": "2021-11-27T09:18:56.016532Z"
    }
   },
   "outputs": [
    {
     "data": {
      "text/plain": [
       "['Predict Likelihood of employees to leave the company']"
      ]
     },
     "execution_count": 107,
     "metadata": {},
     "output_type": "execute_result"
    }
   ],
   "source": [
    "joblib.dump(model, 'Predict Likelihood of employees to leave the company')"
   ]
  },
  {
   "cell_type": "markdown",
   "id": "ca89595f",
   "metadata": {},
   "source": [
    "#### load the model"
   ]
  },
  {
   "cell_type": "code",
   "execution_count": 108,
   "id": "65cfce83",
   "metadata": {
    "ExecuteTime": {
     "end_time": "2021-11-27T09:18:59.120457Z",
     "start_time": "2021-11-27T09:18:59.104797Z"
    }
   },
   "outputs": [],
   "source": [
    "mj = joblib.load('Predict Likelihood of employees to leave the company')"
   ]
  },
  {
   "cell_type": "markdown",
   "id": "a3671a97",
   "metadata": {},
   "source": [
    "#### Using the model after loading it"
   ]
  },
  {
   "cell_type": "markdown",
   "id": "221da6ed",
   "metadata": {},
   "source": [
    "Predict the probability of the following:<br>\n",
    "\n",
    "- satisfaction_level 0.45\taverage_montly_hours 164\tpromotion_last_5years 0\ttime_spend_company 8 salary medium\n",
    "- satisfaction_level 0.65\taverage_montly_hours 180\tpromotion_last_5years 1\ttime_spend_company 6 salary medium\n",
    "- satisfaction_level 0.40\taverage_montly_hours 190\tpromotion_last_5years 1\ttime_spend_company 10 salary high\n",
    "- satisfaction_level 0.60\taverage_montly_hours 188\tpromotion_last_5years 0\ttime_spend_company 10 salary low"
   ]
  },
  {
   "cell_type": "code",
   "execution_count": 119,
   "id": "1c1b726c",
   "metadata": {
    "ExecuteTime": {
     "end_time": "2021-11-27T09:22:23.781637Z",
     "start_time": "2021-11-27T09:22:23.770699Z"
    }
   },
   "outputs": [
    {
     "data": {
      "text/plain": [
       "array([[0.53732636, 0.46267364]])"
      ]
     },
     "execution_count": 119,
     "metadata": {},
     "output_type": "execute_result"
    }
   ],
   "source": [
    "mj.predict_proba([[0.45, 164, 0, 8, 0, 0]]) # 53% probability to Stay and 46% to Leave"
   ]
  },
  {
   "cell_type": "code",
   "execution_count": 122,
   "id": "ce56b640",
   "metadata": {
    "ExecuteTime": {
     "end_time": "2021-11-27T09:24:29.853024Z",
     "start_time": "2021-11-27T09:24:29.847042Z"
    }
   },
   "outputs": [
    {
     "data": {
      "text/plain": [
       "array([[0.9333173, 0.0666827]])"
      ]
     },
     "execution_count": 122,
     "metadata": {},
     "output_type": "execute_result"
    }
   ],
   "source": [
    "mj.predict_proba([[0.65, 180, 1, 6, 0, 0]]) # 93.3% stay and 6.6% to leave"
   ]
  },
  {
   "cell_type": "code",
   "execution_count": 123,
   "id": "2e0ada19",
   "metadata": {
    "ExecuteTime": {
     "end_time": "2021-11-27T09:24:46.037629Z",
     "start_time": "2021-11-27T09:24:46.020679Z"
    }
   },
   "outputs": [
    {
     "data": {
      "text/plain": [
       "array([[0.90130224, 0.09869776]])"
      ]
     },
     "execution_count": 123,
     "metadata": {},
     "output_type": "execute_result"
    }
   ],
   "source": [
    "mj.predict_proba([[0.40, 190, 1, 10, 1, 0]])  # 90% to stay and 10% to leave"
   ]
  },
  {
   "cell_type": "code",
   "execution_count": 124,
   "id": "741554aa",
   "metadata": {
    "ExecuteTime": {
     "end_time": "2021-11-27T09:26:13.294102Z",
     "start_time": "2021-11-27T09:26:13.278140Z"
    }
   },
   "outputs": [
    {
     "data": {
      "text/plain": [
       "array([[0.44165547, 0.55834453]])"
      ]
     },
     "execution_count": 124,
     "metadata": {},
     "output_type": "execute_result"
    }
   ],
   "source": [
    "mj.predict_proba([[0.60, 188, 0, 10, 0, 1]])  #44% to stay and 56% to leave"
   ]
  },
  {
   "cell_type": "code",
   "execution_count": null,
   "id": "ec3d38ba",
   "metadata": {},
   "outputs": [],
   "source": []
  }
 ],
 "metadata": {
  "kernelspec": {
   "display_name": "Python 3",
   "language": "python",
   "name": "python3"
  },
  "language_info": {
   "codemirror_mode": {
    "name": "ipython",
    "version": 3
   },
   "file_extension": ".py",
   "mimetype": "text/x-python",
   "name": "python",
   "nbconvert_exporter": "python",
   "pygments_lexer": "ipython3",
   "version": "3.8.8"
  },
  "toc": {
   "base_numbering": 1,
   "nav_menu": {},
   "number_sections": true,
   "sideBar": true,
   "skip_h1_title": false,
   "title_cell": "Table of Contents",
   "title_sidebar": "Contents",
   "toc_cell": false,
   "toc_position": {},
   "toc_section_display": true,
   "toc_window_display": false
  }
 },
 "nbformat": 4,
 "nbformat_minor": 5
}
