{
 "cells": [
  {
   "cell_type": "markdown",
   "id": "710ace05",
   "metadata": {},
   "source": [
    "### Exercise\n",
    "\n",
    "Use Melbourne_housing_FULL data to get an accuracy that's not causing an overfitting (don't forget to preprocess the data)"
   ]
  },
  {
   "cell_type": "code",
   "execution_count": 321,
   "id": "d8f5e162",
   "metadata": {
    "ExecuteTime": {
     "end_time": "2021-11-28T03:27:06.846927Z",
     "start_time": "2021-11-28T03:27:06.839948Z"
    }
   },
   "outputs": [],
   "source": [
    "import pandas as pd\n",
    "import numpy as np\n",
    "from matplotlib import pyplot as plt\n",
    "%matplotlib inline\n",
    "import seaborn as sns\n",
    "from sklearn.model_selection import train_test_split\n",
    "from sklearn.linear_model import Lasso\n",
    "import joblib"
   ]
  },
  {
   "cell_type": "markdown",
   "id": "cdfb44c4",
   "metadata": {},
   "source": [
    "#### Exploaring the data"
   ]
  },
  {
   "cell_type": "code",
   "execution_count": 54,
   "id": "5ef03267",
   "metadata": {
    "ExecuteTime": {
     "end_time": "2021-11-28T02:20:58.670681Z",
     "start_time": "2021-11-28T02:20:58.551998Z"
    }
   },
   "outputs": [
    {
     "data": {
      "text/html": [
       "<div>\n",
       "<style scoped>\n",
       "    .dataframe tbody tr th:only-of-type {\n",
       "        vertical-align: middle;\n",
       "    }\n",
       "\n",
       "    .dataframe tbody tr th {\n",
       "        vertical-align: top;\n",
       "    }\n",
       "\n",
       "    .dataframe thead th {\n",
       "        text-align: right;\n",
       "    }\n",
       "</style>\n",
       "<table border=\"1\" class=\"dataframe\">\n",
       "  <thead>\n",
       "    <tr style=\"text-align: right;\">\n",
       "      <th></th>\n",
       "      <th>Suburb</th>\n",
       "      <th>Address</th>\n",
       "      <th>Rooms</th>\n",
       "      <th>Type</th>\n",
       "      <th>Price</th>\n",
       "      <th>Method</th>\n",
       "      <th>SellerG</th>\n",
       "      <th>Date</th>\n",
       "      <th>Distance</th>\n",
       "      <th>Postcode</th>\n",
       "      <th>...</th>\n",
       "      <th>Bathroom</th>\n",
       "      <th>Car</th>\n",
       "      <th>Landsize</th>\n",
       "      <th>BuildingArea</th>\n",
       "      <th>YearBuilt</th>\n",
       "      <th>CouncilArea</th>\n",
       "      <th>Lattitude</th>\n",
       "      <th>Longtitude</th>\n",
       "      <th>Regionname</th>\n",
       "      <th>Propertycount</th>\n",
       "    </tr>\n",
       "  </thead>\n",
       "  <tbody>\n",
       "    <tr>\n",
       "      <th>0</th>\n",
       "      <td>Abbotsford</td>\n",
       "      <td>68 Studley St</td>\n",
       "      <td>2</td>\n",
       "      <td>h</td>\n",
       "      <td>NaN</td>\n",
       "      <td>SS</td>\n",
       "      <td>Jellis</td>\n",
       "      <td>3/09/2016</td>\n",
       "      <td>2.5</td>\n",
       "      <td>3067.0</td>\n",
       "      <td>...</td>\n",
       "      <td>1.0</td>\n",
       "      <td>1.0</td>\n",
       "      <td>126.0</td>\n",
       "      <td>NaN</td>\n",
       "      <td>NaN</td>\n",
       "      <td>Yarra City Council</td>\n",
       "      <td>-37.8014</td>\n",
       "      <td>144.9958</td>\n",
       "      <td>Northern Metropolitan</td>\n",
       "      <td>4019.0</td>\n",
       "    </tr>\n",
       "    <tr>\n",
       "      <th>1</th>\n",
       "      <td>Abbotsford</td>\n",
       "      <td>85 Turner St</td>\n",
       "      <td>2</td>\n",
       "      <td>h</td>\n",
       "      <td>1480000.0</td>\n",
       "      <td>S</td>\n",
       "      <td>Biggin</td>\n",
       "      <td>3/12/2016</td>\n",
       "      <td>2.5</td>\n",
       "      <td>3067.0</td>\n",
       "      <td>...</td>\n",
       "      <td>1.0</td>\n",
       "      <td>1.0</td>\n",
       "      <td>202.0</td>\n",
       "      <td>NaN</td>\n",
       "      <td>NaN</td>\n",
       "      <td>Yarra City Council</td>\n",
       "      <td>-37.7996</td>\n",
       "      <td>144.9984</td>\n",
       "      <td>Northern Metropolitan</td>\n",
       "      <td>4019.0</td>\n",
       "    </tr>\n",
       "    <tr>\n",
       "      <th>2</th>\n",
       "      <td>Abbotsford</td>\n",
       "      <td>25 Bloomburg St</td>\n",
       "      <td>2</td>\n",
       "      <td>h</td>\n",
       "      <td>1035000.0</td>\n",
       "      <td>S</td>\n",
       "      <td>Biggin</td>\n",
       "      <td>4/02/2016</td>\n",
       "      <td>2.5</td>\n",
       "      <td>3067.0</td>\n",
       "      <td>...</td>\n",
       "      <td>1.0</td>\n",
       "      <td>0.0</td>\n",
       "      <td>156.0</td>\n",
       "      <td>79.0</td>\n",
       "      <td>1900.0</td>\n",
       "      <td>Yarra City Council</td>\n",
       "      <td>-37.8079</td>\n",
       "      <td>144.9934</td>\n",
       "      <td>Northern Metropolitan</td>\n",
       "      <td>4019.0</td>\n",
       "    </tr>\n",
       "    <tr>\n",
       "      <th>3</th>\n",
       "      <td>Abbotsford</td>\n",
       "      <td>18/659 Victoria St</td>\n",
       "      <td>3</td>\n",
       "      <td>u</td>\n",
       "      <td>NaN</td>\n",
       "      <td>VB</td>\n",
       "      <td>Rounds</td>\n",
       "      <td>4/02/2016</td>\n",
       "      <td>2.5</td>\n",
       "      <td>3067.0</td>\n",
       "      <td>...</td>\n",
       "      <td>2.0</td>\n",
       "      <td>1.0</td>\n",
       "      <td>0.0</td>\n",
       "      <td>NaN</td>\n",
       "      <td>NaN</td>\n",
       "      <td>Yarra City Council</td>\n",
       "      <td>-37.8114</td>\n",
       "      <td>145.0116</td>\n",
       "      <td>Northern Metropolitan</td>\n",
       "      <td>4019.0</td>\n",
       "    </tr>\n",
       "    <tr>\n",
       "      <th>4</th>\n",
       "      <td>Abbotsford</td>\n",
       "      <td>5 Charles St</td>\n",
       "      <td>3</td>\n",
       "      <td>h</td>\n",
       "      <td>1465000.0</td>\n",
       "      <td>SP</td>\n",
       "      <td>Biggin</td>\n",
       "      <td>4/03/2017</td>\n",
       "      <td>2.5</td>\n",
       "      <td>3067.0</td>\n",
       "      <td>...</td>\n",
       "      <td>2.0</td>\n",
       "      <td>0.0</td>\n",
       "      <td>134.0</td>\n",
       "      <td>150.0</td>\n",
       "      <td>1900.0</td>\n",
       "      <td>Yarra City Council</td>\n",
       "      <td>-37.8093</td>\n",
       "      <td>144.9944</td>\n",
       "      <td>Northern Metropolitan</td>\n",
       "      <td>4019.0</td>\n",
       "    </tr>\n",
       "  </tbody>\n",
       "</table>\n",
       "<p>5 rows × 21 columns</p>\n",
       "</div>"
      ],
      "text/plain": [
       "       Suburb             Address  Rooms Type      Price Method SellerG  \\\n",
       "0  Abbotsford       68 Studley St      2    h        NaN     SS  Jellis   \n",
       "1  Abbotsford        85 Turner St      2    h  1480000.0      S  Biggin   \n",
       "2  Abbotsford     25 Bloomburg St      2    h  1035000.0      S  Biggin   \n",
       "3  Abbotsford  18/659 Victoria St      3    u        NaN     VB  Rounds   \n",
       "4  Abbotsford        5 Charles St      3    h  1465000.0     SP  Biggin   \n",
       "\n",
       "        Date  Distance  Postcode  ...  Bathroom  Car  Landsize  BuildingArea  \\\n",
       "0  3/09/2016       2.5    3067.0  ...       1.0  1.0     126.0           NaN   \n",
       "1  3/12/2016       2.5    3067.0  ...       1.0  1.0     202.0           NaN   \n",
       "2  4/02/2016       2.5    3067.0  ...       1.0  0.0     156.0          79.0   \n",
       "3  4/02/2016       2.5    3067.0  ...       2.0  1.0       0.0           NaN   \n",
       "4  4/03/2017       2.5    3067.0  ...       2.0  0.0     134.0         150.0   \n",
       "\n",
       "   YearBuilt         CouncilArea Lattitude  Longtitude             Regionname  \\\n",
       "0        NaN  Yarra City Council  -37.8014    144.9958  Northern Metropolitan   \n",
       "1        NaN  Yarra City Council  -37.7996    144.9984  Northern Metropolitan   \n",
       "2     1900.0  Yarra City Council  -37.8079    144.9934  Northern Metropolitan   \n",
       "3        NaN  Yarra City Council  -37.8114    145.0116  Northern Metropolitan   \n",
       "4     1900.0  Yarra City Council  -37.8093    144.9944  Northern Metropolitan   \n",
       "\n",
       "  Propertycount  \n",
       "0        4019.0  \n",
       "1        4019.0  \n",
       "2        4019.0  \n",
       "3        4019.0  \n",
       "4        4019.0  \n",
       "\n",
       "[5 rows x 21 columns]"
      ]
     },
     "execution_count": 54,
     "metadata": {},
     "output_type": "execute_result"
    }
   ],
   "source": [
    "df = pd.read_csv(\"Melbourne_housing_FULL.csv\")\n",
    "df.head()"
   ]
  },
  {
   "cell_type": "code",
   "execution_count": 55,
   "id": "615f54b8",
   "metadata": {
    "ExecuteTime": {
     "end_time": "2021-11-28T02:20:59.306054Z",
     "start_time": "2021-11-28T02:20:59.291980Z"
    }
   },
   "outputs": [
    {
     "data": {
      "text/plain": [
       "Index(['Suburb', 'Address', 'Rooms', 'Type', 'Price', 'Method', 'SellerG',\n",
       "       'Date', 'Distance', 'Postcode', 'Bedroom2', 'Bathroom', 'Car',\n",
       "       'Landsize', 'BuildingArea', 'YearBuilt', 'CouncilArea', 'Lattitude',\n",
       "       'Longtitude', 'Regionname', 'Propertycount'],\n",
       "      dtype='object')"
      ]
     },
     "execution_count": 55,
     "metadata": {},
     "output_type": "execute_result"
    }
   ],
   "source": [
    "df.columns"
   ]
  },
  {
   "cell_type": "code",
   "execution_count": 56,
   "id": "7ace6dd6",
   "metadata": {
    "ExecuteTime": {
     "end_time": "2021-11-28T02:20:59.897520Z",
     "start_time": "2021-11-28T02:20:59.866684Z"
    }
   },
   "outputs": [
    {
     "name": "stdout",
     "output_type": "stream",
     "text": [
      "<class 'pandas.core.frame.DataFrame'>\n",
      "RangeIndex: 34857 entries, 0 to 34856\n",
      "Data columns (total 21 columns):\n",
      " #   Column         Non-Null Count  Dtype  \n",
      "---  ------         --------------  -----  \n",
      " 0   Suburb         34857 non-null  object \n",
      " 1   Address        34857 non-null  object \n",
      " 2   Rooms          34857 non-null  int64  \n",
      " 3   Type           34857 non-null  object \n",
      " 4   Price          27247 non-null  float64\n",
      " 5   Method         34857 non-null  object \n",
      " 6   SellerG        34857 non-null  object \n",
      " 7   Date           34857 non-null  object \n",
      " 8   Distance       34856 non-null  float64\n",
      " 9   Postcode       34856 non-null  float64\n",
      " 10  Bedroom2       26640 non-null  float64\n",
      " 11  Bathroom       26631 non-null  float64\n",
      " 12  Car            26129 non-null  float64\n",
      " 13  Landsize       23047 non-null  float64\n",
      " 14  BuildingArea   13742 non-null  float64\n",
      " 15  YearBuilt      15551 non-null  float64\n",
      " 16  CouncilArea    34854 non-null  object \n",
      " 17  Lattitude      26881 non-null  float64\n",
      " 18  Longtitude     26881 non-null  float64\n",
      " 19  Regionname     34854 non-null  object \n",
      " 20  Propertycount  34854 non-null  float64\n",
      "dtypes: float64(12), int64(1), object(8)\n",
      "memory usage: 5.6+ MB\n"
     ]
    }
   ],
   "source": [
    "df.info()"
   ]
  },
  {
   "cell_type": "code",
   "execution_count": 57,
   "id": "b5f83a13",
   "metadata": {
    "ExecuteTime": {
     "end_time": "2021-11-28T02:21:00.403425Z",
     "start_time": "2021-11-28T02:21:00.340239Z"
    }
   },
   "outputs": [
    {
     "data": {
      "text/plain": [
       "Suburb             351\n",
       "Address          34009\n",
       "Rooms               12\n",
       "Type                 3\n",
       "Price             2871\n",
       "Method               9\n",
       "SellerG            388\n",
       "Date                78\n",
       "Distance           215\n",
       "Postcode           211\n",
       "Bedroom2            15\n",
       "Bathroom            11\n",
       "Car                 15\n",
       "Landsize          1684\n",
       "BuildingArea       740\n",
       "YearBuilt          160\n",
       "CouncilArea         33\n",
       "Lattitude        13402\n",
       "Longtitude       14524\n",
       "Regionname           8\n",
       "Propertycount      342\n",
       "dtype: int64"
      ]
     },
     "execution_count": 57,
     "metadata": {},
     "output_type": "execute_result"
    }
   ],
   "source": [
    "df.nunique()"
   ]
  },
  {
   "cell_type": "code",
   "execution_count": 58,
   "id": "204d8e60",
   "metadata": {
    "ExecuteTime": {
     "end_time": "2021-11-28T02:21:00.759469Z",
     "start_time": "2021-11-28T02:21:00.741519Z"
    }
   },
   "outputs": [
    {
     "data": {
      "text/plain": [
       "(34857, 21)"
      ]
     },
     "execution_count": 58,
     "metadata": {},
     "output_type": "execute_result"
    }
   ],
   "source": [
    "df.shape"
   ]
  },
  {
   "cell_type": "code",
   "execution_count": 59,
   "id": "fa35444a",
   "metadata": {
    "ExecuteTime": {
     "end_time": "2021-11-28T02:21:01.352834Z",
     "start_time": "2021-11-28T02:21:01.327075Z"
    }
   },
   "outputs": [
    {
     "data": {
      "text/html": [
       "<div>\n",
       "<style scoped>\n",
       "    .dataframe tbody tr th:only-of-type {\n",
       "        vertical-align: middle;\n",
       "    }\n",
       "\n",
       "    .dataframe tbody tr th {\n",
       "        vertical-align: top;\n",
       "    }\n",
       "\n",
       "    .dataframe thead th {\n",
       "        text-align: right;\n",
       "    }\n",
       "</style>\n",
       "<table border=\"1\" class=\"dataframe\">\n",
       "  <thead>\n",
       "    <tr style=\"text-align: right;\">\n",
       "      <th></th>\n",
       "      <th>Suburb</th>\n",
       "      <th>Address</th>\n",
       "      <th>Rooms</th>\n",
       "      <th>Type</th>\n",
       "      <th>Price</th>\n",
       "      <th>Method</th>\n",
       "      <th>SellerG</th>\n",
       "      <th>Date</th>\n",
       "      <th>Distance</th>\n",
       "      <th>Postcode</th>\n",
       "      <th>...</th>\n",
       "      <th>Bathroom</th>\n",
       "      <th>Car</th>\n",
       "      <th>Landsize</th>\n",
       "      <th>BuildingArea</th>\n",
       "      <th>YearBuilt</th>\n",
       "      <th>CouncilArea</th>\n",
       "      <th>Lattitude</th>\n",
       "      <th>Longtitude</th>\n",
       "      <th>Regionname</th>\n",
       "      <th>Propertycount</th>\n",
       "    </tr>\n",
       "  </thead>\n",
       "  <tbody>\n",
       "    <tr>\n",
       "      <th>34852</th>\n",
       "      <td>Yarraville</td>\n",
       "      <td>13 Burns St</td>\n",
       "      <td>4</td>\n",
       "      <td>h</td>\n",
       "      <td>1480000.0</td>\n",
       "      <td>PI</td>\n",
       "      <td>Jas</td>\n",
       "      <td>24/02/2018</td>\n",
       "      <td>6.3</td>\n",
       "      <td>3013.0</td>\n",
       "      <td>...</td>\n",
       "      <td>1.0</td>\n",
       "      <td>3.0</td>\n",
       "      <td>593.0</td>\n",
       "      <td>NaN</td>\n",
       "      <td>NaN</td>\n",
       "      <td>Maribyrnong City Council</td>\n",
       "      <td>-37.81053</td>\n",
       "      <td>144.88467</td>\n",
       "      <td>Western Metropolitan</td>\n",
       "      <td>6543.0</td>\n",
       "    </tr>\n",
       "    <tr>\n",
       "      <th>34853</th>\n",
       "      <td>Yarraville</td>\n",
       "      <td>29A Murray St</td>\n",
       "      <td>2</td>\n",
       "      <td>h</td>\n",
       "      <td>888000.0</td>\n",
       "      <td>SP</td>\n",
       "      <td>Sweeney</td>\n",
       "      <td>24/02/2018</td>\n",
       "      <td>6.3</td>\n",
       "      <td>3013.0</td>\n",
       "      <td>...</td>\n",
       "      <td>2.0</td>\n",
       "      <td>1.0</td>\n",
       "      <td>98.0</td>\n",
       "      <td>104.0</td>\n",
       "      <td>2018.0</td>\n",
       "      <td>Maribyrnong City Council</td>\n",
       "      <td>-37.81551</td>\n",
       "      <td>144.88826</td>\n",
       "      <td>Western Metropolitan</td>\n",
       "      <td>6543.0</td>\n",
       "    </tr>\n",
       "    <tr>\n",
       "      <th>34854</th>\n",
       "      <td>Yarraville</td>\n",
       "      <td>147A Severn St</td>\n",
       "      <td>2</td>\n",
       "      <td>t</td>\n",
       "      <td>705000.0</td>\n",
       "      <td>S</td>\n",
       "      <td>Jas</td>\n",
       "      <td>24/02/2018</td>\n",
       "      <td>6.3</td>\n",
       "      <td>3013.0</td>\n",
       "      <td>...</td>\n",
       "      <td>1.0</td>\n",
       "      <td>2.0</td>\n",
       "      <td>220.0</td>\n",
       "      <td>120.0</td>\n",
       "      <td>2000.0</td>\n",
       "      <td>Maribyrnong City Council</td>\n",
       "      <td>-37.82286</td>\n",
       "      <td>144.87856</td>\n",
       "      <td>Western Metropolitan</td>\n",
       "      <td>6543.0</td>\n",
       "    </tr>\n",
       "    <tr>\n",
       "      <th>34855</th>\n",
       "      <td>Yarraville</td>\n",
       "      <td>12/37 Stephen St</td>\n",
       "      <td>3</td>\n",
       "      <td>h</td>\n",
       "      <td>1140000.0</td>\n",
       "      <td>SP</td>\n",
       "      <td>hockingstuart</td>\n",
       "      <td>24/02/2018</td>\n",
       "      <td>6.3</td>\n",
       "      <td>3013.0</td>\n",
       "      <td>...</td>\n",
       "      <td>NaN</td>\n",
       "      <td>NaN</td>\n",
       "      <td>NaN</td>\n",
       "      <td>NaN</td>\n",
       "      <td>NaN</td>\n",
       "      <td>Maribyrnong City Council</td>\n",
       "      <td>NaN</td>\n",
       "      <td>NaN</td>\n",
       "      <td>Western Metropolitan</td>\n",
       "      <td>6543.0</td>\n",
       "    </tr>\n",
       "    <tr>\n",
       "      <th>34856</th>\n",
       "      <td>Yarraville</td>\n",
       "      <td>3 Tarrengower St</td>\n",
       "      <td>2</td>\n",
       "      <td>h</td>\n",
       "      <td>1020000.0</td>\n",
       "      <td>PI</td>\n",
       "      <td>RW</td>\n",
       "      <td>24/02/2018</td>\n",
       "      <td>6.3</td>\n",
       "      <td>3013.0</td>\n",
       "      <td>...</td>\n",
       "      <td>1.0</td>\n",
       "      <td>0.0</td>\n",
       "      <td>250.0</td>\n",
       "      <td>103.0</td>\n",
       "      <td>1930.0</td>\n",
       "      <td>Maribyrnong City Council</td>\n",
       "      <td>-37.81810</td>\n",
       "      <td>144.89351</td>\n",
       "      <td>Western Metropolitan</td>\n",
       "      <td>6543.0</td>\n",
       "    </tr>\n",
       "  </tbody>\n",
       "</table>\n",
       "<p>5 rows × 21 columns</p>\n",
       "</div>"
      ],
      "text/plain": [
       "           Suburb           Address  Rooms Type      Price Method  \\\n",
       "34852  Yarraville       13 Burns St      4    h  1480000.0     PI   \n",
       "34853  Yarraville     29A Murray St      2    h   888000.0     SP   \n",
       "34854  Yarraville    147A Severn St      2    t   705000.0      S   \n",
       "34855  Yarraville  12/37 Stephen St      3    h  1140000.0     SP   \n",
       "34856  Yarraville  3 Tarrengower St      2    h  1020000.0     PI   \n",
       "\n",
       "             SellerG        Date  Distance  Postcode  ...  Bathroom  Car  \\\n",
       "34852            Jas  24/02/2018       6.3    3013.0  ...       1.0  3.0   \n",
       "34853        Sweeney  24/02/2018       6.3    3013.0  ...       2.0  1.0   \n",
       "34854            Jas  24/02/2018       6.3    3013.0  ...       1.0  2.0   \n",
       "34855  hockingstuart  24/02/2018       6.3    3013.0  ...       NaN  NaN   \n",
       "34856             RW  24/02/2018       6.3    3013.0  ...       1.0  0.0   \n",
       "\n",
       "       Landsize  BuildingArea  YearBuilt               CouncilArea Lattitude  \\\n",
       "34852     593.0           NaN        NaN  Maribyrnong City Council -37.81053   \n",
       "34853      98.0         104.0     2018.0  Maribyrnong City Council -37.81551   \n",
       "34854     220.0         120.0     2000.0  Maribyrnong City Council -37.82286   \n",
       "34855       NaN           NaN        NaN  Maribyrnong City Council       NaN   \n",
       "34856     250.0         103.0     1930.0  Maribyrnong City Council -37.81810   \n",
       "\n",
       "       Longtitude            Regionname Propertycount  \n",
       "34852   144.88467  Western Metropolitan        6543.0  \n",
       "34853   144.88826  Western Metropolitan        6543.0  \n",
       "34854   144.87856  Western Metropolitan        6543.0  \n",
       "34855         NaN  Western Metropolitan        6543.0  \n",
       "34856   144.89351  Western Metropolitan        6543.0  \n",
       "\n",
       "[5 rows x 21 columns]"
      ]
     },
     "execution_count": 59,
     "metadata": {},
     "output_type": "execute_result"
    }
   ],
   "source": [
    "df.tail()"
   ]
  },
  {
   "cell_type": "markdown",
   "id": "ffc2b131",
   "metadata": {},
   "source": [
    "#### data preprocessing"
   ]
  },
  {
   "cell_type": "code",
   "execution_count": 60,
   "id": "2661f13e",
   "metadata": {
    "ExecuteTime": {
     "end_time": "2021-11-28T02:21:02.356478Z",
     "start_time": "2021-11-28T02:21:02.326335Z"
    }
   },
   "outputs": [
    {
     "data": {
      "text/plain": [
       "Index(['Price', 'Distance', 'Postcode', 'Bedroom2', 'Bathroom', 'Car',\n",
       "       'Landsize', 'BuildingArea', 'YearBuilt', 'CouncilArea', 'Lattitude',\n",
       "       'Longtitude', 'Regionname', 'Propertycount'],\n",
       "      dtype='object')"
      ]
     },
     "execution_count": 60,
     "metadata": {},
     "output_type": "execute_result"
    }
   ],
   "source": [
    "df.columns[df.isna().any()]"
   ]
  },
  {
   "cell_type": "code",
   "execution_count": 61,
   "id": "36d6e5a9",
   "metadata": {
    "ExecuteTime": {
     "end_time": "2021-11-28T02:21:02.948430Z",
     "start_time": "2021-11-28T02:21:02.918523Z"
    }
   },
   "outputs": [
    {
     "data": {
      "text/plain": [
       "Suburb               0\n",
       "Address              0\n",
       "Rooms                0\n",
       "Type                 0\n",
       "Price             7610\n",
       "Method               0\n",
       "SellerG              0\n",
       "Date                 0\n",
       "Distance             1\n",
       "Postcode             1\n",
       "Bedroom2          8217\n",
       "Bathroom          8226\n",
       "Car               8728\n",
       "Landsize         11810\n",
       "BuildingArea     21115\n",
       "YearBuilt        19306\n",
       "CouncilArea          3\n",
       "Lattitude         7976\n",
       "Longtitude        7976\n",
       "Regionname           3\n",
       "Propertycount        3\n",
       "dtype: int64"
      ]
     },
     "execution_count": 61,
     "metadata": {},
     "output_type": "execute_result"
    }
   ],
   "source": [
    "df.isnull().sum()"
   ]
  },
  {
   "cell_type": "markdown",
   "id": "f3a54e65",
   "metadata": {
    "ExecuteTime": {
     "end_time": "2021-11-28T01:59:21.395817Z",
     "start_time": "2021-11-28T01:59:21.349575Z"
    }
   },
   "source": [
    "drop bukding Area and Year Build too many null values"
   ]
  },
  {
   "cell_type": "code",
   "execution_count": 62,
   "id": "de988593",
   "metadata": {
    "ExecuteTime": {
     "end_time": "2021-11-28T02:21:03.872296Z",
     "start_time": "2021-11-28T02:21:03.856676Z"
    }
   },
   "outputs": [
    {
     "data": {
      "text/plain": [
       "(34857, 18)"
      ]
     },
     "execution_count": 62,
     "metadata": {},
     "output_type": "execute_result"
    }
   ],
   "source": [
    "df2 = df.drop(['BuildingArea', 'YearBuilt', 'Date'], axis=1)\n",
    "df2.shape"
   ]
  },
  {
   "cell_type": "code",
   "execution_count": 63,
   "id": "63f10424",
   "metadata": {
    "ExecuteTime": {
     "end_time": "2021-11-28T02:21:04.368842Z",
     "start_time": "2021-11-28T02:21:04.339567Z"
    }
   },
   "outputs": [
    {
     "data": {
      "text/plain": [
       "34857"
      ]
     },
     "execution_count": 63,
     "metadata": {},
     "output_type": "execute_result"
    }
   ],
   "source": [
    "df2.Address.value_counts().sum()"
   ]
  },
  {
   "cell_type": "markdown",
   "id": "7fd8aac2",
   "metadata": {},
   "source": [
    "can't handle all this addresses"
   ]
  },
  {
   "cell_type": "code",
   "execution_count": 64,
   "id": "ad804a62",
   "metadata": {
    "ExecuteTime": {
     "end_time": "2021-11-28T02:21:05.088595Z",
     "start_time": "2021-11-28T02:21:05.067462Z"
    }
   },
   "outputs": [
    {
     "data": {
      "text/plain": [
       "(34857, 17)"
      ]
     },
     "execution_count": 64,
     "metadata": {},
     "output_type": "execute_result"
    }
   ],
   "source": [
    "df3 = df2.drop(['Address'], axis=1)\n",
    "df3.shape"
   ]
  },
  {
   "cell_type": "code",
   "execution_count": 65,
   "id": "f7eb6c9f",
   "metadata": {
    "ExecuteTime": {
     "end_time": "2021-11-28T02:21:06.494268Z",
     "start_time": "2021-11-28T02:21:06.483264Z"
    }
   },
   "outputs": [
    {
     "data": {
      "text/plain": [
       "array([3067., 3042., 3206., 3078., 3018., 3025., 3143., 3032., 3147.,\n",
       "       3034., 3183., 3103., 3104., 3204., 3165., 3128., 3019., 3186.,\n",
       "       3187., 3056., 3055., 3105., 3125., 3124., 3126., 3054., 3163.,\n",
       "       3162., 3161., 3148., 3068., 3058., 3066., 3108., 3084., 3185.,\n",
       "       3184., 3040., 3041., 3065., 3031., 3011., 3146., 3046., 3043.,\n",
       "       3188., 3122., 3081., 3166., 3079., 3021., 3033., 3101., 3102.,\n",
       "       3144., 3012., 3145., 3000., 3127., 3039., 3189., 3015., 3051.,\n",
       "       3070., 3167., 3052., 3044., 3207., 3181., 3072., 3073., 3121.,\n",
       "       3205., 3141., 3006., 3182., 3020., 3107., 3071., 3142., 3087.,\n",
       "       3003., 3016., 3085., 3013., 3057., 3061., 3053., 3002., 3060.,\n",
       "       3123., 3047., 3083., 3008., 3028., 3022., 3049., 3153., 3193.,\n",
       "       3806., 3130., 3155., 3088., 3023., 3151., 3192., 3169., 3168.,\n",
       "       3978., 3064., 3977., 3136., 3175., 3089., 3172., 3109., 3111.,\n",
       "       3754., 3196., 3095., 3782., 3076., 3177., 3156., 3131., 3199.,\n",
       "       3200., 3437., 3150., 3059., 3803., 3777., 3135., 3190., 3037.,\n",
       "       3029., 3038., 3173., 3075., 3093., 3975., 3337., 3338., 3194.,\n",
       "       3082., 3132., 3094., 3765., 3195., 3149., 3170., 3805., 3174.,\n",
       "       3030., 3134., 3335., 3178., 3191., 3198., 3752., 3171., 3429.,\n",
       "       3160., 3106., 3154., 3074., 3133., 3152., 3027., 3750., 3024.,\n",
       "       3197., 3138., 3810., 3179., 3113., 3096., 3201., 3202., 3137.,\n",
       "       3910., 3431., 3808., 3116., 3048., 3340., 3976., 3036., 3796.,\n",
       "       3795., 3756., 3427., 3180., 3158., 3099., 3140., 3115., 3802.,\n",
       "       3809., 3788., 3807., 3775., 3090., 3757., 3438., 3793., 3428.,\n",
       "       3770.,   nan, 3786., 3139., 3159.])"
      ]
     },
     "execution_count": 65,
     "metadata": {},
     "output_type": "execute_result"
    }
   ],
   "source": [
    "df3.Postcode.unique()"
   ]
  },
  {
   "cell_type": "markdown",
   "id": "905e3230",
   "metadata": {},
   "source": [
    "postcode is not an important feature to determine the price of the house"
   ]
  },
  {
   "cell_type": "code",
   "execution_count": 66,
   "id": "1ce40f09",
   "metadata": {
    "ExecuteTime": {
     "end_time": "2021-11-28T02:21:07.143389Z",
     "start_time": "2021-11-28T02:21:07.133424Z"
    }
   },
   "outputs": [
    {
     "data": {
      "text/plain": [
       "(34857, 16)"
      ]
     },
     "execution_count": 66,
     "metadata": {},
     "output_type": "execute_result"
    }
   ],
   "source": [
    "df4 = df3.drop(['Postcode'], axis=1)\n",
    "df4.shape"
   ]
  },
  {
   "cell_type": "code",
   "execution_count": 67,
   "id": "332a809b",
   "metadata": {
    "ExecuteTime": {
     "end_time": "2021-11-28T02:21:07.454913Z",
     "start_time": "2021-11-28T02:21:07.437923Z"
    }
   },
   "outputs": [
    {
     "data": {
      "text/plain": [
       "array([ 1.,  0.,  2., nan,  6.,  5.,  4.,  3.,  8.,  7., 11., 26.,  9.,\n",
       "       10., 18., 12.])"
      ]
     },
     "execution_count": 67,
     "metadata": {},
     "output_type": "execute_result"
    }
   ],
   "source": [
    "df4.Car.unique()"
   ]
  },
  {
   "cell_type": "code",
   "execution_count": 68,
   "id": "ff6daea6",
   "metadata": {
    "ExecuteTime": {
     "end_time": "2021-11-28T02:21:07.797364Z",
     "start_time": "2021-11-28T02:21:07.778463Z"
    }
   },
   "outputs": [
    {
     "data": {
      "text/plain": [
       "8728"
      ]
     },
     "execution_count": 68,
     "metadata": {},
     "output_type": "execute_result"
    }
   ],
   "source": [
    "df4.Car.isnull().sum()"
   ]
  },
  {
   "cell_type": "markdown",
   "id": "6f36d2a2",
   "metadata": {},
   "source": [
    "also car is not an important feature"
   ]
  },
  {
   "cell_type": "code",
   "execution_count": 69,
   "id": "97314bbc",
   "metadata": {
    "ExecuteTime": {
     "end_time": "2021-11-28T02:21:08.445601Z",
     "start_time": "2021-11-28T02:21:08.424506Z"
    }
   },
   "outputs": [
    {
     "data": {
      "text/plain": [
       "(34857, 15)"
      ]
     },
     "execution_count": 69,
     "metadata": {},
     "output_type": "execute_result"
    }
   ],
   "source": [
    "df5 = df4.drop('Car', axis=1)\n",
    "df5.shape"
   ]
  },
  {
   "cell_type": "markdown",
   "id": "7caab4a4",
   "metadata": {},
   "source": [
    "Latitude and Longitude are the units that represent the coordinates at geographic coordinate system  so they are not important to us"
   ]
  },
  {
   "cell_type": "code",
   "execution_count": 70,
   "id": "f0352d4f",
   "metadata": {
    "ExecuteTime": {
     "end_time": "2021-11-28T02:21:09.061666Z",
     "start_time": "2021-11-28T02:21:09.046707Z"
    }
   },
   "outputs": [
    {
     "data": {
      "text/plain": [
       "0        144.99580\n",
       "1        144.99840\n",
       "2        144.99340\n",
       "3        145.01160\n",
       "4        144.99440\n",
       "           ...    \n",
       "34852    144.88467\n",
       "34853    144.88826\n",
       "34854    144.87856\n",
       "34855          NaN\n",
       "34856    144.89351\n",
       "Name: Longtitude, Length: 34857, dtype: float64"
      ]
     },
     "execution_count": 70,
     "metadata": {},
     "output_type": "execute_result"
    }
   ],
   "source": [
    "df5.Longtitude"
   ]
  },
  {
   "cell_type": "code",
   "execution_count": 71,
   "id": "031845e5",
   "metadata": {
    "ExecuteTime": {
     "end_time": "2021-11-28T02:21:09.373775Z",
     "start_time": "2021-11-28T02:21:09.348786Z"
    }
   },
   "outputs": [
    {
     "data": {
      "text/plain": [
       "(34857, 13)"
      ]
     },
     "execution_count": 71,
     "metadata": {},
     "output_type": "execute_result"
    }
   ],
   "source": [
    "df6 = df5.drop(['Lattitude', 'Longtitude'], axis=1)\n",
    "df6.shape"
   ]
  },
  {
   "cell_type": "code",
   "execution_count": 72,
   "id": "de34236b",
   "metadata": {
    "ExecuteTime": {
     "end_time": "2021-11-28T02:21:09.682192Z",
     "start_time": "2021-11-28T02:21:09.664241Z"
    }
   },
   "outputs": [
    {
     "data": {
      "text/plain": [
       "Suburb               0\n",
       "Rooms                0\n",
       "Type                 0\n",
       "Price             7610\n",
       "Method               0\n",
       "SellerG              0\n",
       "Distance             1\n",
       "Bedroom2          8217\n",
       "Bathroom          8226\n",
       "Landsize         11810\n",
       "CouncilArea          3\n",
       "Regionname           3\n",
       "Propertycount        3\n",
       "dtype: int64"
      ]
     },
     "execution_count": 72,
     "metadata": {},
     "output_type": "execute_result"
    }
   ],
   "source": [
    "df6.isnull().sum()"
   ]
  },
  {
   "cell_type": "code",
   "execution_count": 73,
   "id": "ea01022a",
   "metadata": {
    "ExecuteTime": {
     "end_time": "2021-11-28T02:21:10.007667Z",
     "start_time": "2021-11-28T02:21:09.985215Z"
    }
   },
   "outputs": [
    {
     "data": {
      "text/plain": [
       "1685"
      ]
     },
     "execution_count": 73,
     "metadata": {},
     "output_type": "execute_result"
    }
   ],
   "source": [
    "len(df6.Landsize.unique())"
   ]
  },
  {
   "cell_type": "code",
   "execution_count": 74,
   "id": "0d4fec3c",
   "metadata": {
    "ExecuteTime": {
     "end_time": "2021-11-28T02:21:10.347766Z",
     "start_time": "2021-11-28T02:21:10.329850Z"
    }
   },
   "outputs": [
    {
     "data": {
      "text/plain": [
       "343"
      ]
     },
     "execution_count": 74,
     "metadata": {},
     "output_type": "execute_result"
    }
   ],
   "source": [
    "len(df6.Propertycount.unique())"
   ]
  },
  {
   "cell_type": "code",
   "execution_count": 75,
   "id": "4bc110cf",
   "metadata": {
    "ExecuteTime": {
     "end_time": "2021-11-28T02:21:10.674853Z",
     "start_time": "2021-11-28T02:21:10.641728Z"
    }
   },
   "outputs": [
    {
     "data": {
      "text/html": [
       "<div>\n",
       "<style scoped>\n",
       "    .dataframe tbody tr th:only-of-type {\n",
       "        vertical-align: middle;\n",
       "    }\n",
       "\n",
       "    .dataframe tbody tr th {\n",
       "        vertical-align: top;\n",
       "    }\n",
       "\n",
       "    .dataframe thead th {\n",
       "        text-align: right;\n",
       "    }\n",
       "</style>\n",
       "<table border=\"1\" class=\"dataframe\">\n",
       "  <thead>\n",
       "    <tr style=\"text-align: right;\">\n",
       "      <th></th>\n",
       "      <th>Suburb</th>\n",
       "      <th>Rooms</th>\n",
       "      <th>Type</th>\n",
       "      <th>Price</th>\n",
       "      <th>Method</th>\n",
       "      <th>SellerG</th>\n",
       "      <th>Distance</th>\n",
       "      <th>Bedroom2</th>\n",
       "      <th>Bathroom</th>\n",
       "      <th>Landsize</th>\n",
       "      <th>CouncilArea</th>\n",
       "      <th>Regionname</th>\n",
       "      <th>Propertycount</th>\n",
       "    </tr>\n",
       "  </thead>\n",
       "  <tbody>\n",
       "    <tr>\n",
       "      <th>0</th>\n",
       "      <td>Abbotsford</td>\n",
       "      <td>2</td>\n",
       "      <td>h</td>\n",
       "      <td>NaN</td>\n",
       "      <td>SS</td>\n",
       "      <td>Jellis</td>\n",
       "      <td>2.5</td>\n",
       "      <td>2.0</td>\n",
       "      <td>1.0</td>\n",
       "      <td>126.0</td>\n",
       "      <td>Yarra City Council</td>\n",
       "      <td>Northern Metropolitan</td>\n",
       "      <td>4019.0</td>\n",
       "    </tr>\n",
       "    <tr>\n",
       "      <th>1</th>\n",
       "      <td>Abbotsford</td>\n",
       "      <td>2</td>\n",
       "      <td>h</td>\n",
       "      <td>1480000.0</td>\n",
       "      <td>S</td>\n",
       "      <td>Biggin</td>\n",
       "      <td>2.5</td>\n",
       "      <td>2.0</td>\n",
       "      <td>1.0</td>\n",
       "      <td>202.0</td>\n",
       "      <td>Yarra City Council</td>\n",
       "      <td>Northern Metropolitan</td>\n",
       "      <td>4019.0</td>\n",
       "    </tr>\n",
       "    <tr>\n",
       "      <th>2</th>\n",
       "      <td>Abbotsford</td>\n",
       "      <td>2</td>\n",
       "      <td>h</td>\n",
       "      <td>1035000.0</td>\n",
       "      <td>S</td>\n",
       "      <td>Biggin</td>\n",
       "      <td>2.5</td>\n",
       "      <td>2.0</td>\n",
       "      <td>1.0</td>\n",
       "      <td>156.0</td>\n",
       "      <td>Yarra City Council</td>\n",
       "      <td>Northern Metropolitan</td>\n",
       "      <td>4019.0</td>\n",
       "    </tr>\n",
       "    <tr>\n",
       "      <th>3</th>\n",
       "      <td>Abbotsford</td>\n",
       "      <td>3</td>\n",
       "      <td>u</td>\n",
       "      <td>NaN</td>\n",
       "      <td>VB</td>\n",
       "      <td>Rounds</td>\n",
       "      <td>2.5</td>\n",
       "      <td>3.0</td>\n",
       "      <td>2.0</td>\n",
       "      <td>0.0</td>\n",
       "      <td>Yarra City Council</td>\n",
       "      <td>Northern Metropolitan</td>\n",
       "      <td>4019.0</td>\n",
       "    </tr>\n",
       "    <tr>\n",
       "      <th>4</th>\n",
       "      <td>Abbotsford</td>\n",
       "      <td>3</td>\n",
       "      <td>h</td>\n",
       "      <td>1465000.0</td>\n",
       "      <td>SP</td>\n",
       "      <td>Biggin</td>\n",
       "      <td>2.5</td>\n",
       "      <td>3.0</td>\n",
       "      <td>2.0</td>\n",
       "      <td>134.0</td>\n",
       "      <td>Yarra City Council</td>\n",
       "      <td>Northern Metropolitan</td>\n",
       "      <td>4019.0</td>\n",
       "    </tr>\n",
       "  </tbody>\n",
       "</table>\n",
       "</div>"
      ],
      "text/plain": [
       "       Suburb  Rooms Type      Price Method SellerG  Distance  Bedroom2  \\\n",
       "0  Abbotsford      2    h        NaN     SS  Jellis       2.5       2.0   \n",
       "1  Abbotsford      2    h  1480000.0      S  Biggin       2.5       2.0   \n",
       "2  Abbotsford      2    h  1035000.0      S  Biggin       2.5       2.0   \n",
       "3  Abbotsford      3    u        NaN     VB  Rounds       2.5       3.0   \n",
       "4  Abbotsford      3    h  1465000.0     SP  Biggin       2.5       3.0   \n",
       "\n",
       "   Bathroom  Landsize         CouncilArea             Regionname  \\\n",
       "0       1.0     126.0  Yarra City Council  Northern Metropolitan   \n",
       "1       1.0     202.0  Yarra City Council  Northern Metropolitan   \n",
       "2       1.0     156.0  Yarra City Council  Northern Metropolitan   \n",
       "3       2.0       0.0  Yarra City Council  Northern Metropolitan   \n",
       "4       2.0     134.0  Yarra City Council  Northern Metropolitan   \n",
       "\n",
       "   Propertycount  \n",
       "0         4019.0  \n",
       "1         4019.0  \n",
       "2         4019.0  \n",
       "3         4019.0  \n",
       "4         4019.0  "
      ]
     },
     "execution_count": 75,
     "metadata": {},
     "output_type": "execute_result"
    }
   ],
   "source": [
    "df6.head()"
   ]
  },
  {
   "cell_type": "code",
   "execution_count": 76,
   "id": "648c124f",
   "metadata": {
    "ExecuteTime": {
     "end_time": "2021-11-28T02:21:11.016776Z",
     "start_time": "2021-11-28T02:21:10.987470Z"
    }
   },
   "outputs": [
    {
     "data": {
      "text/html": [
       "<div>\n",
       "<style scoped>\n",
       "    .dataframe tbody tr th:only-of-type {\n",
       "        vertical-align: middle;\n",
       "    }\n",
       "\n",
       "    .dataframe tbody tr th {\n",
       "        vertical-align: top;\n",
       "    }\n",
       "\n",
       "    .dataframe thead th {\n",
       "        text-align: right;\n",
       "    }\n",
       "</style>\n",
       "<table border=\"1\" class=\"dataframe\">\n",
       "  <thead>\n",
       "    <tr style=\"text-align: right;\">\n",
       "      <th></th>\n",
       "      <th>Suburb</th>\n",
       "      <th>Rooms</th>\n",
       "      <th>Type</th>\n",
       "      <th>Price</th>\n",
       "      <th>Method</th>\n",
       "      <th>SellerG</th>\n",
       "      <th>Distance</th>\n",
       "      <th>Bedroom2</th>\n",
       "      <th>Bathroom</th>\n",
       "      <th>Landsize</th>\n",
       "      <th>CouncilArea</th>\n",
       "      <th>Regionname</th>\n",
       "      <th>Propertycount</th>\n",
       "    </tr>\n",
       "  </thead>\n",
       "  <tbody>\n",
       "    <tr>\n",
       "      <th>0</th>\n",
       "      <td>Abbotsford</td>\n",
       "      <td>2</td>\n",
       "      <td>h</td>\n",
       "      <td>NaN</td>\n",
       "      <td>SS</td>\n",
       "      <td>Jellis</td>\n",
       "      <td>2.5</td>\n",
       "      <td>2.0</td>\n",
       "      <td>1.0</td>\n",
       "      <td>126.0</td>\n",
       "      <td>Yarra City Council</td>\n",
       "      <td>Northern Metropolitan</td>\n",
       "      <td>4019.0</td>\n",
       "    </tr>\n",
       "    <tr>\n",
       "      <th>1</th>\n",
       "      <td>Abbotsford</td>\n",
       "      <td>2</td>\n",
       "      <td>h</td>\n",
       "      <td>1480000.0</td>\n",
       "      <td>S</td>\n",
       "      <td>Biggin</td>\n",
       "      <td>2.5</td>\n",
       "      <td>2.0</td>\n",
       "      <td>1.0</td>\n",
       "      <td>202.0</td>\n",
       "      <td>Yarra City Council</td>\n",
       "      <td>Northern Metropolitan</td>\n",
       "      <td>4019.0</td>\n",
       "    </tr>\n",
       "    <tr>\n",
       "      <th>2</th>\n",
       "      <td>Abbotsford</td>\n",
       "      <td>2</td>\n",
       "      <td>h</td>\n",
       "      <td>1035000.0</td>\n",
       "      <td>S</td>\n",
       "      <td>Biggin</td>\n",
       "      <td>2.5</td>\n",
       "      <td>2.0</td>\n",
       "      <td>1.0</td>\n",
       "      <td>156.0</td>\n",
       "      <td>Yarra City Council</td>\n",
       "      <td>Northern Metropolitan</td>\n",
       "      <td>4019.0</td>\n",
       "    </tr>\n",
       "    <tr>\n",
       "      <th>3</th>\n",
       "      <td>Abbotsford</td>\n",
       "      <td>3</td>\n",
       "      <td>u</td>\n",
       "      <td>NaN</td>\n",
       "      <td>VB</td>\n",
       "      <td>Rounds</td>\n",
       "      <td>2.5</td>\n",
       "      <td>3.0</td>\n",
       "      <td>2.0</td>\n",
       "      <td>0.0</td>\n",
       "      <td>Yarra City Council</td>\n",
       "      <td>Northern Metropolitan</td>\n",
       "      <td>4019.0</td>\n",
       "    </tr>\n",
       "    <tr>\n",
       "      <th>4</th>\n",
       "      <td>Abbotsford</td>\n",
       "      <td>3</td>\n",
       "      <td>h</td>\n",
       "      <td>1465000.0</td>\n",
       "      <td>SP</td>\n",
       "      <td>Biggin</td>\n",
       "      <td>2.5</td>\n",
       "      <td>3.0</td>\n",
       "      <td>2.0</td>\n",
       "      <td>134.0</td>\n",
       "      <td>Yarra City Council</td>\n",
       "      <td>Northern Metropolitan</td>\n",
       "      <td>4019.0</td>\n",
       "    </tr>\n",
       "  </tbody>\n",
       "</table>\n",
       "</div>"
      ],
      "text/plain": [
       "       Suburb  Rooms Type      Price Method SellerG  Distance  Bedroom2  \\\n",
       "0  Abbotsford      2    h        NaN     SS  Jellis       2.5       2.0   \n",
       "1  Abbotsford      2    h  1480000.0      S  Biggin       2.5       2.0   \n",
       "2  Abbotsford      2    h  1035000.0      S  Biggin       2.5       2.0   \n",
       "3  Abbotsford      3    u        NaN     VB  Rounds       2.5       3.0   \n",
       "4  Abbotsford      3    h  1465000.0     SP  Biggin       2.5       3.0   \n",
       "\n",
       "   Bathroom  Landsize         CouncilArea             Regionname  \\\n",
       "0       1.0     126.0  Yarra City Council  Northern Metropolitan   \n",
       "1       1.0     202.0  Yarra City Council  Northern Metropolitan   \n",
       "2       1.0     156.0  Yarra City Council  Northern Metropolitan   \n",
       "3       2.0       0.0  Yarra City Council  Northern Metropolitan   \n",
       "4       2.0     134.0  Yarra City Council  Northern Metropolitan   \n",
       "\n",
       "   Propertycount  \n",
       "0         4019.0  \n",
       "1         4019.0  \n",
       "2         4019.0  \n",
       "3         4019.0  \n",
       "4         4019.0  "
      ]
     },
     "execution_count": 76,
     "metadata": {},
     "output_type": "execute_result"
    }
   ],
   "source": [
    "Bedroom2_mean = round(df.Bedroom2.mean())\n",
    "Bathroom_mean = round(df.Bathroom.mean())\n",
    "Landsize_mean = df.Landsize.mean()\n",
    "\n",
    "df7 = df6.copy()\n",
    "df7.Bedroom2.fillna(Bedroom2_mean, inplace = True)\n",
    "df7.Bathroom.fillna(Bathroom_mean, inplace=True)\n",
    "df7.Landsize.fillna(Landsize_mean, inplace = True)\n",
    "\n",
    "df7.head()"
   ]
  },
  {
   "cell_type": "code",
   "execution_count": 77,
   "id": "7179e041",
   "metadata": {
    "ExecuteTime": {
     "end_time": "2021-11-28T02:21:11.392157Z",
     "start_time": "2021-11-28T02:21:11.377198Z"
    }
   },
   "outputs": [
    {
     "data": {
      "text/plain": [
       "(34857, 13)"
      ]
     },
     "execution_count": 77,
     "metadata": {},
     "output_type": "execute_result"
    }
   ],
   "source": [
    "df7.shape"
   ]
  },
  {
   "cell_type": "code",
   "execution_count": 78,
   "id": "da930e3a",
   "metadata": {
    "ExecuteTime": {
     "end_time": "2021-11-28T02:21:12.762284Z",
     "start_time": "2021-11-28T02:21:12.738282Z"
    }
   },
   "outputs": [
    {
     "data": {
      "text/plain": [
       "Suburb              0\n",
       "Rooms               0\n",
       "Type                0\n",
       "Price            7610\n",
       "Method              0\n",
       "SellerG             0\n",
       "Distance            1\n",
       "Bedroom2            0\n",
       "Bathroom            0\n",
       "Landsize            0\n",
       "CouncilArea         3\n",
       "Regionname          3\n",
       "Propertycount       3\n",
       "dtype: int64"
      ]
     },
     "execution_count": 78,
     "metadata": {},
     "output_type": "execute_result"
    }
   ],
   "source": [
    "df7.isnull().sum()"
   ]
  },
  {
   "cell_type": "code",
   "execution_count": 79,
   "id": "af39781f",
   "metadata": {
    "ExecuteTime": {
     "end_time": "2021-11-28T02:21:39.866892Z",
     "start_time": "2021-11-28T02:21:39.827033Z"
    }
   },
   "outputs": [
    {
     "data": {
      "text/plain": [
       "(27244, 13)"
      ]
     },
     "execution_count": 79,
     "metadata": {},
     "output_type": "execute_result"
    }
   ],
   "source": [
    "df7.dropna(inplace=True)\n",
    "df7.shape"
   ]
  },
  {
   "cell_type": "code",
   "execution_count": 80,
   "id": "4ab9a144",
   "metadata": {
    "ExecuteTime": {
     "end_time": "2021-11-28T02:21:51.081963Z",
     "start_time": "2021-11-28T02:21:51.056989Z"
    }
   },
   "outputs": [
    {
     "data": {
      "text/plain": [
       "Suburb           0\n",
       "Rooms            0\n",
       "Type             0\n",
       "Price            0\n",
       "Method           0\n",
       "SellerG          0\n",
       "Distance         0\n",
       "Bedroom2         0\n",
       "Bathroom         0\n",
       "Landsize         0\n",
       "CouncilArea      0\n",
       "Regionname       0\n",
       "Propertycount    0\n",
       "dtype: int64"
      ]
     },
     "execution_count": 80,
     "metadata": {},
     "output_type": "execute_result"
    }
   ],
   "source": [
    "df7.isnull().sum()"
   ]
  },
  {
   "cell_type": "code",
   "execution_count": 81,
   "id": "2930e62f",
   "metadata": {
    "ExecuteTime": {
     "end_time": "2021-11-28T02:22:12.034367Z",
     "start_time": "2021-11-28T02:22:12.003353Z"
    }
   },
   "outputs": [
    {
     "data": {
      "text/html": [
       "<div>\n",
       "<style scoped>\n",
       "    .dataframe tbody tr th:only-of-type {\n",
       "        vertical-align: middle;\n",
       "    }\n",
       "\n",
       "    .dataframe tbody tr th {\n",
       "        vertical-align: top;\n",
       "    }\n",
       "\n",
       "    .dataframe thead th {\n",
       "        text-align: right;\n",
       "    }\n",
       "</style>\n",
       "<table border=\"1\" class=\"dataframe\">\n",
       "  <thead>\n",
       "    <tr style=\"text-align: right;\">\n",
       "      <th></th>\n",
       "      <th>Suburb</th>\n",
       "      <th>Rooms</th>\n",
       "      <th>Type</th>\n",
       "      <th>Price</th>\n",
       "      <th>Method</th>\n",
       "      <th>SellerG</th>\n",
       "      <th>Distance</th>\n",
       "      <th>Bedroom2</th>\n",
       "      <th>Bathroom</th>\n",
       "      <th>Landsize</th>\n",
       "      <th>CouncilArea</th>\n",
       "      <th>Regionname</th>\n",
       "      <th>Propertycount</th>\n",
       "    </tr>\n",
       "  </thead>\n",
       "  <tbody>\n",
       "    <tr>\n",
       "      <th>1</th>\n",
       "      <td>Abbotsford</td>\n",
       "      <td>2</td>\n",
       "      <td>h</td>\n",
       "      <td>1480000.0</td>\n",
       "      <td>S</td>\n",
       "      <td>Biggin</td>\n",
       "      <td>2.5</td>\n",
       "      <td>2.0</td>\n",
       "      <td>1.0</td>\n",
       "      <td>202.0</td>\n",
       "      <td>Yarra City Council</td>\n",
       "      <td>Northern Metropolitan</td>\n",
       "      <td>4019.0</td>\n",
       "    </tr>\n",
       "    <tr>\n",
       "      <th>2</th>\n",
       "      <td>Abbotsford</td>\n",
       "      <td>2</td>\n",
       "      <td>h</td>\n",
       "      <td>1035000.0</td>\n",
       "      <td>S</td>\n",
       "      <td>Biggin</td>\n",
       "      <td>2.5</td>\n",
       "      <td>2.0</td>\n",
       "      <td>1.0</td>\n",
       "      <td>156.0</td>\n",
       "      <td>Yarra City Council</td>\n",
       "      <td>Northern Metropolitan</td>\n",
       "      <td>4019.0</td>\n",
       "    </tr>\n",
       "    <tr>\n",
       "      <th>4</th>\n",
       "      <td>Abbotsford</td>\n",
       "      <td>3</td>\n",
       "      <td>h</td>\n",
       "      <td>1465000.0</td>\n",
       "      <td>SP</td>\n",
       "      <td>Biggin</td>\n",
       "      <td>2.5</td>\n",
       "      <td>3.0</td>\n",
       "      <td>2.0</td>\n",
       "      <td>134.0</td>\n",
       "      <td>Yarra City Council</td>\n",
       "      <td>Northern Metropolitan</td>\n",
       "      <td>4019.0</td>\n",
       "    </tr>\n",
       "    <tr>\n",
       "      <th>5</th>\n",
       "      <td>Abbotsford</td>\n",
       "      <td>3</td>\n",
       "      <td>h</td>\n",
       "      <td>850000.0</td>\n",
       "      <td>PI</td>\n",
       "      <td>Biggin</td>\n",
       "      <td>2.5</td>\n",
       "      <td>3.0</td>\n",
       "      <td>2.0</td>\n",
       "      <td>94.0</td>\n",
       "      <td>Yarra City Council</td>\n",
       "      <td>Northern Metropolitan</td>\n",
       "      <td>4019.0</td>\n",
       "    </tr>\n",
       "    <tr>\n",
       "      <th>6</th>\n",
       "      <td>Abbotsford</td>\n",
       "      <td>4</td>\n",
       "      <td>h</td>\n",
       "      <td>1600000.0</td>\n",
       "      <td>VB</td>\n",
       "      <td>Nelson</td>\n",
       "      <td>2.5</td>\n",
       "      <td>3.0</td>\n",
       "      <td>1.0</td>\n",
       "      <td>120.0</td>\n",
       "      <td>Yarra City Council</td>\n",
       "      <td>Northern Metropolitan</td>\n",
       "      <td>4019.0</td>\n",
       "    </tr>\n",
       "  </tbody>\n",
       "</table>\n",
       "</div>"
      ],
      "text/plain": [
       "       Suburb  Rooms Type      Price Method SellerG  Distance  Bedroom2  \\\n",
       "1  Abbotsford      2    h  1480000.0      S  Biggin       2.5       2.0   \n",
       "2  Abbotsford      2    h  1035000.0      S  Biggin       2.5       2.0   \n",
       "4  Abbotsford      3    h  1465000.0     SP  Biggin       2.5       3.0   \n",
       "5  Abbotsford      3    h   850000.0     PI  Biggin       2.5       3.0   \n",
       "6  Abbotsford      4    h  1600000.0     VB  Nelson       2.5       3.0   \n",
       "\n",
       "   Bathroom  Landsize         CouncilArea             Regionname  \\\n",
       "1       1.0     202.0  Yarra City Council  Northern Metropolitan   \n",
       "2       1.0     156.0  Yarra City Council  Northern Metropolitan   \n",
       "4       2.0     134.0  Yarra City Council  Northern Metropolitan   \n",
       "5       2.0      94.0  Yarra City Council  Northern Metropolitan   \n",
       "6       1.0     120.0  Yarra City Council  Northern Metropolitan   \n",
       "\n",
       "   Propertycount  \n",
       "1         4019.0  \n",
       "2         4019.0  \n",
       "4         4019.0  \n",
       "5         4019.0  \n",
       "6         4019.0  "
      ]
     },
     "execution_count": 81,
     "metadata": {},
     "output_type": "execute_result"
    }
   ],
   "source": [
    "df7.head()"
   ]
  },
  {
   "cell_type": "code",
   "execution_count": 82,
   "id": "94dccb74",
   "metadata": {
    "ExecuteTime": {
     "end_time": "2021-11-28T02:22:24.811581Z",
     "start_time": "2021-11-28T02:22:24.793628Z"
    }
   },
   "outputs": [
    {
     "data": {
      "text/plain": [
       "344"
      ]
     },
     "execution_count": 82,
     "metadata": {},
     "output_type": "execute_result"
    }
   ],
   "source": [
    "len(df7.Suburb.unique())"
   ]
  },
  {
   "cell_type": "code",
   "execution_count": 83,
   "id": "b5fed546",
   "metadata": {
    "ExecuteTime": {
     "end_time": "2021-11-28T02:22:41.245487Z",
     "start_time": "2021-11-28T02:22:41.229530Z"
    }
   },
   "outputs": [
    {
     "data": {
      "text/plain": [
       "Reservoir         727\n",
       "Bentleigh East    493\n",
       "Richmond          439\n",
       "Preston           415\n",
       "Brunswick         387\n",
       "                 ... \n",
       "Tecoma              1\n",
       "croydon             1\n",
       "Botanic Ridge       1\n",
       "Wandin North        1\n",
       "Eynesbury           1\n",
       "Name: Suburb, Length: 344, dtype: int64"
      ]
     },
     "execution_count": 83,
     "metadata": {},
     "output_type": "execute_result"
    }
   ],
   "source": [
    "df7.Suburb.value_counts()"
   ]
  },
  {
   "cell_type": "code",
   "execution_count": 85,
   "id": "6d45f527",
   "metadata": {
    "ExecuteTime": {
     "end_time": "2021-11-28T02:43:37.851409Z",
     "start_time": "2021-11-28T02:43:37.836424Z"
    }
   },
   "outputs": [
    {
     "data": {
      "text/plain": [
       "33"
      ]
     },
     "execution_count": 85,
     "metadata": {},
     "output_type": "execute_result"
    }
   ],
   "source": [
    "len(df7.CouncilArea.unique())"
   ]
  },
  {
   "cell_type": "code",
   "execution_count": 86,
   "id": "9bc56815",
   "metadata": {
    "ExecuteTime": {
     "end_time": "2021-11-28T02:43:55.057225Z",
     "start_time": "2021-11-28T02:43:55.049280Z"
    }
   },
   "outputs": [
    {
     "data": {
      "text/plain": [
       "8"
      ]
     },
     "execution_count": 86,
     "metadata": {},
     "output_type": "execute_result"
    }
   ],
   "source": [
    "len(df7.Regionname.unique())"
   ]
  },
  {
   "cell_type": "code",
   "execution_count": 87,
   "id": "deb28676",
   "metadata": {
    "ExecuteTime": {
     "end_time": "2021-11-28T02:45:13.343939Z",
     "start_time": "2021-11-28T02:45:13.331011Z"
    }
   },
   "outputs": [],
   "source": [
    "suburb_state = df7.groupby('Suburb')['Suburb'].agg('count').sort_values(ascending=False)"
   ]
  },
  {
   "cell_type": "code",
   "execution_count": 88,
   "id": "3191ab93",
   "metadata": {
    "ExecuteTime": {
     "end_time": "2021-11-28T02:45:15.854802Z",
     "start_time": "2021-11-28T02:45:15.839178Z"
    }
   },
   "outputs": [
    {
     "data": {
      "text/plain": [
       "Suburb\n",
       "Reservoir          727\n",
       "Bentleigh East     493\n",
       "Richmond           439\n",
       "Preston            415\n",
       "Brunswick          387\n",
       "                  ... \n",
       "Eynesbury            1\n",
       "Coldstream           1\n",
       "Cranbourne East      1\n",
       "Darley               1\n",
       "viewbank             1\n",
       "Name: Suburb, Length: 344, dtype: int64"
      ]
     },
     "execution_count": 88,
     "metadata": {},
     "output_type": "execute_result"
    }
   ],
   "source": [
    "suburb_state"
   ]
  },
  {
   "cell_type": "code",
   "execution_count": 90,
   "id": "81463658",
   "metadata": {
    "ExecuteTime": {
     "end_time": "2021-11-28T02:45:52.038127Z",
     "start_time": "2021-11-28T02:45:52.030153Z"
    }
   },
   "outputs": [
    {
     "data": {
      "text/plain": [
       "73"
      ]
     },
     "execution_count": 90,
     "metadata": {},
     "output_type": "execute_result"
    }
   ],
   "source": [
    "len(suburb_state[suburb_state <= 10])"
   ]
  },
  {
   "cell_type": "code",
   "execution_count": 91,
   "id": "0659bfe3",
   "metadata": {
    "ExecuteTime": {
     "end_time": "2021-11-28T02:46:37.269374Z",
     "start_time": "2021-11-28T02:46:37.251386Z"
    }
   },
   "outputs": [],
   "source": [
    "suburb_state_less_than_10 = suburb_state[suburb_state <= 10]"
   ]
  },
  {
   "cell_type": "code",
   "execution_count": 92,
   "id": "bbc041c2",
   "metadata": {
    "ExecuteTime": {
     "end_time": "2021-11-28T02:47:53.799323Z",
     "start_time": "2021-11-28T02:47:53.751241Z"
    }
   },
   "outputs": [
    {
     "data": {
      "text/plain": [
       "272"
      ]
     },
     "execution_count": 92,
     "metadata": {},
     "output_type": "execute_result"
    }
   ],
   "source": [
    "df8 = df7.copy()\n",
    "df8.Suburb = df8.Suburb.apply(lambda x: 'Others' if x in suburb_state_less_than_10 else x)\n",
    "len(df8.Suburb.unique())"
   ]
  },
  {
   "cell_type": "code",
   "execution_count": 93,
   "id": "33c0ce72",
   "metadata": {
    "ExecuteTime": {
     "end_time": "2021-11-28T02:48:48.929722Z",
     "start_time": "2021-11-28T02:48:48.909776Z"
    }
   },
   "outputs": [
    {
     "data": {
      "text/plain": [
       "array(['h', 't', 'u'], dtype=object)"
      ]
     },
     "execution_count": 93,
     "metadata": {},
     "output_type": "execute_result"
    }
   ],
   "source": [
    "df8.Type.unique()"
   ]
  },
  {
   "cell_type": "code",
   "execution_count": 95,
   "id": "b3baf800",
   "metadata": {
    "ExecuteTime": {
     "end_time": "2021-11-28T02:49:28.741605Z",
     "start_time": "2021-11-28T02:49:28.710053Z"
    }
   },
   "outputs": [],
   "source": [
    "df8.Type.replace(to_replace=['h', 't', 'u'], value=[1,2,3], inplace=True)"
   ]
  },
  {
   "cell_type": "code",
   "execution_count": 96,
   "id": "e88acda9",
   "metadata": {
    "ExecuteTime": {
     "end_time": "2021-11-28T02:49:43.020401Z",
     "start_time": "2021-11-28T02:49:43.003442Z"
    }
   },
   "outputs": [
    {
     "data": {
      "text/plain": [
       "array(['Northern Metropolitan', 'Western Metropolitan',\n",
       "       'Southern Metropolitan', 'Eastern Metropolitan',\n",
       "       'South-Eastern Metropolitan', 'Eastern Victoria',\n",
       "       'Northern Victoria', 'Western Victoria'], dtype=object)"
      ]
     },
     "execution_count": 96,
     "metadata": {},
     "output_type": "execute_result"
    }
   ],
   "source": [
    "df8.Regionname.unique()"
   ]
  },
  {
   "cell_type": "code",
   "execution_count": 98,
   "id": "a0c75065",
   "metadata": {
    "ExecuteTime": {
     "end_time": "2021-11-28T02:51:37.961053Z",
     "start_time": "2021-11-28T02:51:37.932724Z"
    }
   },
   "outputs": [],
   "source": [
    "df8.Regionname.replace(to_replace=['Northern Metropolitan', 'Western Metropolitan', 'Southern Metropolitan',\n",
    "                                  'Eastern Metropolitan', 'South-Eastern Metropolitan', 'Eastern Victoria', 'Northern Victoria',\n",
    "                                  'Western Victoria'], value=[1,2,3,4,5,6,7,8], inplace=True)"
   ]
  },
  {
   "cell_type": "code",
   "execution_count": 99,
   "id": "7bfb6c00",
   "metadata": {
    "ExecuteTime": {
     "end_time": "2021-11-28T02:52:09.512605Z",
     "start_time": "2021-11-28T02:52:09.502588Z"
    }
   },
   "outputs": [
    {
     "data": {
      "text/plain": [
       "array(['S', 'SP', 'PI', 'VB', 'SA'], dtype=object)"
      ]
     },
     "execution_count": 99,
     "metadata": {},
     "output_type": "execute_result"
    }
   ],
   "source": [
    "df8.Method.unique()"
   ]
  },
  {
   "cell_type": "code",
   "execution_count": 100,
   "id": "797e25ce",
   "metadata": {
    "ExecuteTime": {
     "end_time": "2021-11-28T02:52:56.314899Z",
     "start_time": "2021-11-28T02:52:56.298934Z"
    }
   },
   "outputs": [],
   "source": [
    "df8.Method.replace(to_replace=['S', 'SP', 'PI', 'VB', 'SA'], value=[1,2,3,4,5], inplace=True)"
   ]
  },
  {
   "cell_type": "code",
   "execution_count": 102,
   "id": "bcf7c86e",
   "metadata": {
    "ExecuteTime": {
     "end_time": "2021-11-28T02:53:24.893680Z",
     "start_time": "2021-11-28T02:53:24.878720Z"
    }
   },
   "outputs": [
    {
     "data": {
      "text/plain": [
       "349"
      ]
     },
     "execution_count": 102,
     "metadata": {},
     "output_type": "execute_result"
    }
   ],
   "source": [
    "len(df8.SellerG.unique())"
   ]
  },
  {
   "cell_type": "code",
   "execution_count": 103,
   "id": "b5698874",
   "metadata": {
    "ExecuteTime": {
     "end_time": "2021-11-28T02:53:58.234921Z",
     "start_time": "2021-11-28T02:53:58.221957Z"
    }
   },
   "outputs": [
    {
     "data": {
      "text/plain": [
       "(27244, 12)"
      ]
     },
     "execution_count": 103,
     "metadata": {},
     "output_type": "execute_result"
    }
   ],
   "source": [
    "df9 = df8.drop('SellerG', axis=1)\n",
    "df9.shape"
   ]
  },
  {
   "cell_type": "code",
   "execution_count": 104,
   "id": "b16273b9",
   "metadata": {
    "ExecuteTime": {
     "end_time": "2021-11-28T02:54:03.443593Z",
     "start_time": "2021-11-28T02:54:03.416683Z"
    }
   },
   "outputs": [
    {
     "data": {
      "text/html": [
       "<div>\n",
       "<style scoped>\n",
       "    .dataframe tbody tr th:only-of-type {\n",
       "        vertical-align: middle;\n",
       "    }\n",
       "\n",
       "    .dataframe tbody tr th {\n",
       "        vertical-align: top;\n",
       "    }\n",
       "\n",
       "    .dataframe thead th {\n",
       "        text-align: right;\n",
       "    }\n",
       "</style>\n",
       "<table border=\"1\" class=\"dataframe\">\n",
       "  <thead>\n",
       "    <tr style=\"text-align: right;\">\n",
       "      <th></th>\n",
       "      <th>Suburb</th>\n",
       "      <th>Rooms</th>\n",
       "      <th>Type</th>\n",
       "      <th>Price</th>\n",
       "      <th>Method</th>\n",
       "      <th>Distance</th>\n",
       "      <th>Bedroom2</th>\n",
       "      <th>Bathroom</th>\n",
       "      <th>Landsize</th>\n",
       "      <th>CouncilArea</th>\n",
       "      <th>Regionname</th>\n",
       "      <th>Propertycount</th>\n",
       "    </tr>\n",
       "  </thead>\n",
       "  <tbody>\n",
       "    <tr>\n",
       "      <th>1</th>\n",
       "      <td>Abbotsford</td>\n",
       "      <td>2</td>\n",
       "      <td>1</td>\n",
       "      <td>1480000.0</td>\n",
       "      <td>1</td>\n",
       "      <td>2.5</td>\n",
       "      <td>2.0</td>\n",
       "      <td>1.0</td>\n",
       "      <td>202.0</td>\n",
       "      <td>Yarra City Council</td>\n",
       "      <td>1</td>\n",
       "      <td>4019.0</td>\n",
       "    </tr>\n",
       "    <tr>\n",
       "      <th>2</th>\n",
       "      <td>Abbotsford</td>\n",
       "      <td>2</td>\n",
       "      <td>1</td>\n",
       "      <td>1035000.0</td>\n",
       "      <td>1</td>\n",
       "      <td>2.5</td>\n",
       "      <td>2.0</td>\n",
       "      <td>1.0</td>\n",
       "      <td>156.0</td>\n",
       "      <td>Yarra City Council</td>\n",
       "      <td>1</td>\n",
       "      <td>4019.0</td>\n",
       "    </tr>\n",
       "    <tr>\n",
       "      <th>4</th>\n",
       "      <td>Abbotsford</td>\n",
       "      <td>3</td>\n",
       "      <td>1</td>\n",
       "      <td>1465000.0</td>\n",
       "      <td>2</td>\n",
       "      <td>2.5</td>\n",
       "      <td>3.0</td>\n",
       "      <td>2.0</td>\n",
       "      <td>134.0</td>\n",
       "      <td>Yarra City Council</td>\n",
       "      <td>1</td>\n",
       "      <td>4019.0</td>\n",
       "    </tr>\n",
       "    <tr>\n",
       "      <th>5</th>\n",
       "      <td>Abbotsford</td>\n",
       "      <td>3</td>\n",
       "      <td>1</td>\n",
       "      <td>850000.0</td>\n",
       "      <td>3</td>\n",
       "      <td>2.5</td>\n",
       "      <td>3.0</td>\n",
       "      <td>2.0</td>\n",
       "      <td>94.0</td>\n",
       "      <td>Yarra City Council</td>\n",
       "      <td>1</td>\n",
       "      <td>4019.0</td>\n",
       "    </tr>\n",
       "    <tr>\n",
       "      <th>6</th>\n",
       "      <td>Abbotsford</td>\n",
       "      <td>4</td>\n",
       "      <td>1</td>\n",
       "      <td>1600000.0</td>\n",
       "      <td>4</td>\n",
       "      <td>2.5</td>\n",
       "      <td>3.0</td>\n",
       "      <td>1.0</td>\n",
       "      <td>120.0</td>\n",
       "      <td>Yarra City Council</td>\n",
       "      <td>1</td>\n",
       "      <td>4019.0</td>\n",
       "    </tr>\n",
       "  </tbody>\n",
       "</table>\n",
       "</div>"
      ],
      "text/plain": [
       "       Suburb  Rooms  Type      Price  Method  Distance  Bedroom2  Bathroom  \\\n",
       "1  Abbotsford      2     1  1480000.0       1       2.5       2.0       1.0   \n",
       "2  Abbotsford      2     1  1035000.0       1       2.5       2.0       1.0   \n",
       "4  Abbotsford      3     1  1465000.0       2       2.5       3.0       2.0   \n",
       "5  Abbotsford      3     1   850000.0       3       2.5       3.0       2.0   \n",
       "6  Abbotsford      4     1  1600000.0       4       2.5       3.0       1.0   \n",
       "\n",
       "   Landsize         CouncilArea  Regionname  Propertycount  \n",
       "1     202.0  Yarra City Council           1         4019.0  \n",
       "2     156.0  Yarra City Council           1         4019.0  \n",
       "4     134.0  Yarra City Council           1         4019.0  \n",
       "5      94.0  Yarra City Council           1         4019.0  \n",
       "6     120.0  Yarra City Council           1         4019.0  "
      ]
     },
     "execution_count": 104,
     "metadata": {},
     "output_type": "execute_result"
    }
   ],
   "source": [
    "df9.head()"
   ]
  },
  {
   "cell_type": "code",
   "execution_count": 105,
   "id": "e9149edc",
   "metadata": {
    "ExecuteTime": {
     "end_time": "2021-11-28T02:54:30.591857Z",
     "start_time": "2021-11-28T02:54:30.580913Z"
    }
   },
   "outputs": [
    {
     "data": {
      "text/plain": [
       "33"
      ]
     },
     "execution_count": 105,
     "metadata": {},
     "output_type": "execute_result"
    }
   ],
   "source": [
    "len(df9.CouncilArea.unique())"
   ]
  },
  {
   "cell_type": "code",
   "execution_count": 109,
   "id": "2799da94",
   "metadata": {
    "ExecuteTime": {
     "end_time": "2021-11-28T02:56:23.574918Z",
     "start_time": "2021-11-28T02:56:23.543851Z"
    }
   },
   "outputs": [
    {
     "data": {
      "text/html": [
       "<div>\n",
       "<style scoped>\n",
       "    .dataframe tbody tr th:only-of-type {\n",
       "        vertical-align: middle;\n",
       "    }\n",
       "\n",
       "    .dataframe tbody tr th {\n",
       "        vertical-align: top;\n",
       "    }\n",
       "\n",
       "    .dataframe thead th {\n",
       "        text-align: right;\n",
       "    }\n",
       "</style>\n",
       "<table border=\"1\" class=\"dataframe\">\n",
       "  <thead>\n",
       "    <tr style=\"text-align: right;\">\n",
       "      <th></th>\n",
       "      <th>Abbotsford</th>\n",
       "      <th>Aberfeldie</th>\n",
       "      <th>Airport West</th>\n",
       "      <th>Albert Park</th>\n",
       "      <th>Albion</th>\n",
       "      <th>Alphington</th>\n",
       "      <th>Altona</th>\n",
       "      <th>Altona Meadows</th>\n",
       "      <th>Altona North</th>\n",
       "      <th>Ardeer</th>\n",
       "      <th>...</th>\n",
       "      <th>West Melbourne</th>\n",
       "      <th>Westmeadows</th>\n",
       "      <th>Wheelers Hill</th>\n",
       "      <th>Williamstown</th>\n",
       "      <th>Williamstown North</th>\n",
       "      <th>Windsor</th>\n",
       "      <th>Wollert</th>\n",
       "      <th>Wyndham Vale</th>\n",
       "      <th>Yallambie</th>\n",
       "      <th>Yarraville</th>\n",
       "    </tr>\n",
       "  </thead>\n",
       "  <tbody>\n",
       "    <tr>\n",
       "      <th>1</th>\n",
       "      <td>1</td>\n",
       "      <td>0</td>\n",
       "      <td>0</td>\n",
       "      <td>0</td>\n",
       "      <td>0</td>\n",
       "      <td>0</td>\n",
       "      <td>0</td>\n",
       "      <td>0</td>\n",
       "      <td>0</td>\n",
       "      <td>0</td>\n",
       "      <td>...</td>\n",
       "      <td>0</td>\n",
       "      <td>0</td>\n",
       "      <td>0</td>\n",
       "      <td>0</td>\n",
       "      <td>0</td>\n",
       "      <td>0</td>\n",
       "      <td>0</td>\n",
       "      <td>0</td>\n",
       "      <td>0</td>\n",
       "      <td>0</td>\n",
       "    </tr>\n",
       "    <tr>\n",
       "      <th>2</th>\n",
       "      <td>1</td>\n",
       "      <td>0</td>\n",
       "      <td>0</td>\n",
       "      <td>0</td>\n",
       "      <td>0</td>\n",
       "      <td>0</td>\n",
       "      <td>0</td>\n",
       "      <td>0</td>\n",
       "      <td>0</td>\n",
       "      <td>0</td>\n",
       "      <td>...</td>\n",
       "      <td>0</td>\n",
       "      <td>0</td>\n",
       "      <td>0</td>\n",
       "      <td>0</td>\n",
       "      <td>0</td>\n",
       "      <td>0</td>\n",
       "      <td>0</td>\n",
       "      <td>0</td>\n",
       "      <td>0</td>\n",
       "      <td>0</td>\n",
       "    </tr>\n",
       "    <tr>\n",
       "      <th>4</th>\n",
       "      <td>1</td>\n",
       "      <td>0</td>\n",
       "      <td>0</td>\n",
       "      <td>0</td>\n",
       "      <td>0</td>\n",
       "      <td>0</td>\n",
       "      <td>0</td>\n",
       "      <td>0</td>\n",
       "      <td>0</td>\n",
       "      <td>0</td>\n",
       "      <td>...</td>\n",
       "      <td>0</td>\n",
       "      <td>0</td>\n",
       "      <td>0</td>\n",
       "      <td>0</td>\n",
       "      <td>0</td>\n",
       "      <td>0</td>\n",
       "      <td>0</td>\n",
       "      <td>0</td>\n",
       "      <td>0</td>\n",
       "      <td>0</td>\n",
       "    </tr>\n",
       "    <tr>\n",
       "      <th>5</th>\n",
       "      <td>1</td>\n",
       "      <td>0</td>\n",
       "      <td>0</td>\n",
       "      <td>0</td>\n",
       "      <td>0</td>\n",
       "      <td>0</td>\n",
       "      <td>0</td>\n",
       "      <td>0</td>\n",
       "      <td>0</td>\n",
       "      <td>0</td>\n",
       "      <td>...</td>\n",
       "      <td>0</td>\n",
       "      <td>0</td>\n",
       "      <td>0</td>\n",
       "      <td>0</td>\n",
       "      <td>0</td>\n",
       "      <td>0</td>\n",
       "      <td>0</td>\n",
       "      <td>0</td>\n",
       "      <td>0</td>\n",
       "      <td>0</td>\n",
       "    </tr>\n",
       "    <tr>\n",
       "      <th>6</th>\n",
       "      <td>1</td>\n",
       "      <td>0</td>\n",
       "      <td>0</td>\n",
       "      <td>0</td>\n",
       "      <td>0</td>\n",
       "      <td>0</td>\n",
       "      <td>0</td>\n",
       "      <td>0</td>\n",
       "      <td>0</td>\n",
       "      <td>0</td>\n",
       "      <td>...</td>\n",
       "      <td>0</td>\n",
       "      <td>0</td>\n",
       "      <td>0</td>\n",
       "      <td>0</td>\n",
       "      <td>0</td>\n",
       "      <td>0</td>\n",
       "      <td>0</td>\n",
       "      <td>0</td>\n",
       "      <td>0</td>\n",
       "      <td>0</td>\n",
       "    </tr>\n",
       "    <tr>\n",
       "      <th>...</th>\n",
       "      <td>...</td>\n",
       "      <td>...</td>\n",
       "      <td>...</td>\n",
       "      <td>...</td>\n",
       "      <td>...</td>\n",
       "      <td>...</td>\n",
       "      <td>...</td>\n",
       "      <td>...</td>\n",
       "      <td>...</td>\n",
       "      <td>...</td>\n",
       "      <td>...</td>\n",
       "      <td>...</td>\n",
       "      <td>...</td>\n",
       "      <td>...</td>\n",
       "      <td>...</td>\n",
       "      <td>...</td>\n",
       "      <td>...</td>\n",
       "      <td>...</td>\n",
       "      <td>...</td>\n",
       "      <td>...</td>\n",
       "      <td>...</td>\n",
       "    </tr>\n",
       "    <tr>\n",
       "      <th>34852</th>\n",
       "      <td>0</td>\n",
       "      <td>0</td>\n",
       "      <td>0</td>\n",
       "      <td>0</td>\n",
       "      <td>0</td>\n",
       "      <td>0</td>\n",
       "      <td>0</td>\n",
       "      <td>0</td>\n",
       "      <td>0</td>\n",
       "      <td>0</td>\n",
       "      <td>...</td>\n",
       "      <td>0</td>\n",
       "      <td>0</td>\n",
       "      <td>0</td>\n",
       "      <td>0</td>\n",
       "      <td>0</td>\n",
       "      <td>0</td>\n",
       "      <td>0</td>\n",
       "      <td>0</td>\n",
       "      <td>0</td>\n",
       "      <td>1</td>\n",
       "    </tr>\n",
       "    <tr>\n",
       "      <th>34853</th>\n",
       "      <td>0</td>\n",
       "      <td>0</td>\n",
       "      <td>0</td>\n",
       "      <td>0</td>\n",
       "      <td>0</td>\n",
       "      <td>0</td>\n",
       "      <td>0</td>\n",
       "      <td>0</td>\n",
       "      <td>0</td>\n",
       "      <td>0</td>\n",
       "      <td>...</td>\n",
       "      <td>0</td>\n",
       "      <td>0</td>\n",
       "      <td>0</td>\n",
       "      <td>0</td>\n",
       "      <td>0</td>\n",
       "      <td>0</td>\n",
       "      <td>0</td>\n",
       "      <td>0</td>\n",
       "      <td>0</td>\n",
       "      <td>1</td>\n",
       "    </tr>\n",
       "    <tr>\n",
       "      <th>34854</th>\n",
       "      <td>0</td>\n",
       "      <td>0</td>\n",
       "      <td>0</td>\n",
       "      <td>0</td>\n",
       "      <td>0</td>\n",
       "      <td>0</td>\n",
       "      <td>0</td>\n",
       "      <td>0</td>\n",
       "      <td>0</td>\n",
       "      <td>0</td>\n",
       "      <td>...</td>\n",
       "      <td>0</td>\n",
       "      <td>0</td>\n",
       "      <td>0</td>\n",
       "      <td>0</td>\n",
       "      <td>0</td>\n",
       "      <td>0</td>\n",
       "      <td>0</td>\n",
       "      <td>0</td>\n",
       "      <td>0</td>\n",
       "      <td>1</td>\n",
       "    </tr>\n",
       "    <tr>\n",
       "      <th>34855</th>\n",
       "      <td>0</td>\n",
       "      <td>0</td>\n",
       "      <td>0</td>\n",
       "      <td>0</td>\n",
       "      <td>0</td>\n",
       "      <td>0</td>\n",
       "      <td>0</td>\n",
       "      <td>0</td>\n",
       "      <td>0</td>\n",
       "      <td>0</td>\n",
       "      <td>...</td>\n",
       "      <td>0</td>\n",
       "      <td>0</td>\n",
       "      <td>0</td>\n",
       "      <td>0</td>\n",
       "      <td>0</td>\n",
       "      <td>0</td>\n",
       "      <td>0</td>\n",
       "      <td>0</td>\n",
       "      <td>0</td>\n",
       "      <td>1</td>\n",
       "    </tr>\n",
       "    <tr>\n",
       "      <th>34856</th>\n",
       "      <td>0</td>\n",
       "      <td>0</td>\n",
       "      <td>0</td>\n",
       "      <td>0</td>\n",
       "      <td>0</td>\n",
       "      <td>0</td>\n",
       "      <td>0</td>\n",
       "      <td>0</td>\n",
       "      <td>0</td>\n",
       "      <td>0</td>\n",
       "      <td>...</td>\n",
       "      <td>0</td>\n",
       "      <td>0</td>\n",
       "      <td>0</td>\n",
       "      <td>0</td>\n",
       "      <td>0</td>\n",
       "      <td>0</td>\n",
       "      <td>0</td>\n",
       "      <td>0</td>\n",
       "      <td>0</td>\n",
       "      <td>1</td>\n",
       "    </tr>\n",
       "  </tbody>\n",
       "</table>\n",
       "<p>27244 rows × 272 columns</p>\n",
       "</div>"
      ],
      "text/plain": [
       "       Abbotsford  Aberfeldie  Airport West  Albert Park  Albion  Alphington  \\\n",
       "1               1           0             0            0       0           0   \n",
       "2               1           0             0            0       0           0   \n",
       "4               1           0             0            0       0           0   \n",
       "5               1           0             0            0       0           0   \n",
       "6               1           0             0            0       0           0   \n",
       "...           ...         ...           ...          ...     ...         ...   \n",
       "34852           0           0             0            0       0           0   \n",
       "34853           0           0             0            0       0           0   \n",
       "34854           0           0             0            0       0           0   \n",
       "34855           0           0             0            0       0           0   \n",
       "34856           0           0             0            0       0           0   \n",
       "\n",
       "       Altona  Altona Meadows  Altona North  Ardeer  ...  West Melbourne  \\\n",
       "1           0               0             0       0  ...               0   \n",
       "2           0               0             0       0  ...               0   \n",
       "4           0               0             0       0  ...               0   \n",
       "5           0               0             0       0  ...               0   \n",
       "6           0               0             0       0  ...               0   \n",
       "...       ...             ...           ...     ...  ...             ...   \n",
       "34852       0               0             0       0  ...               0   \n",
       "34853       0               0             0       0  ...               0   \n",
       "34854       0               0             0       0  ...               0   \n",
       "34855       0               0             0       0  ...               0   \n",
       "34856       0               0             0       0  ...               0   \n",
       "\n",
       "       Westmeadows  Wheelers Hill  Williamstown  Williamstown North  Windsor  \\\n",
       "1                0              0             0                   0        0   \n",
       "2                0              0             0                   0        0   \n",
       "4                0              0             0                   0        0   \n",
       "5                0              0             0                   0        0   \n",
       "6                0              0             0                   0        0   \n",
       "...            ...            ...           ...                 ...      ...   \n",
       "34852            0              0             0                   0        0   \n",
       "34853            0              0             0                   0        0   \n",
       "34854            0              0             0                   0        0   \n",
       "34855            0              0             0                   0        0   \n",
       "34856            0              0             0                   0        0   \n",
       "\n",
       "       Wollert  Wyndham Vale  Yallambie  Yarraville  \n",
       "1            0             0          0           0  \n",
       "2            0             0          0           0  \n",
       "4            0             0          0           0  \n",
       "5            0             0          0           0  \n",
       "6            0             0          0           0  \n",
       "...        ...           ...        ...         ...  \n",
       "34852        0             0          0           1  \n",
       "34853        0             0          0           1  \n",
       "34854        0             0          0           1  \n",
       "34855        0             0          0           1  \n",
       "34856        0             0          0           1  \n",
       "\n",
       "[27244 rows x 272 columns]"
      ]
     },
     "execution_count": 109,
     "metadata": {},
     "output_type": "execute_result"
    }
   ],
   "source": [
    "dummies1 = pd.get_dummies(df9['Suburb'])\n",
    "dummies1"
   ]
  },
  {
   "cell_type": "code",
   "execution_count": 110,
   "id": "e5d80bea",
   "metadata": {
    "ExecuteTime": {
     "end_time": "2021-11-28T02:56:55.733715Z",
     "start_time": "2021-11-28T02:56:55.687871Z"
    }
   },
   "outputs": [],
   "source": [
    "dummies1.drop('Yarraville', axis=1, inplace=True)"
   ]
  },
  {
   "cell_type": "code",
   "execution_count": 111,
   "id": "9f2f1884",
   "metadata": {
    "ExecuteTime": {
     "end_time": "2021-11-28T02:59:47.565883Z",
     "start_time": "2021-11-28T02:59:47.547899Z"
    }
   },
   "outputs": [
    {
     "data": {
      "text/html": [
       "<div>\n",
       "<style scoped>\n",
       "    .dataframe tbody tr th:only-of-type {\n",
       "        vertical-align: middle;\n",
       "    }\n",
       "\n",
       "    .dataframe tbody tr th {\n",
       "        vertical-align: top;\n",
       "    }\n",
       "\n",
       "    .dataframe thead th {\n",
       "        text-align: right;\n",
       "    }\n",
       "</style>\n",
       "<table border=\"1\" class=\"dataframe\">\n",
       "  <thead>\n",
       "    <tr style=\"text-align: right;\">\n",
       "      <th></th>\n",
       "      <th>Banyule City Council</th>\n",
       "      <th>Bayside City Council</th>\n",
       "      <th>Boroondara City Council</th>\n",
       "      <th>Brimbank City Council</th>\n",
       "      <th>Cardinia Shire Council</th>\n",
       "      <th>Casey City Council</th>\n",
       "      <th>Darebin City Council</th>\n",
       "      <th>Frankston City Council</th>\n",
       "      <th>Glen Eira City Council</th>\n",
       "      <th>Greater Dandenong City Council</th>\n",
       "      <th>...</th>\n",
       "      <th>Moorabool Shire Council</th>\n",
       "      <th>Moreland City Council</th>\n",
       "      <th>Nillumbik Shire Council</th>\n",
       "      <th>Port Phillip City Council</th>\n",
       "      <th>Stonnington City Council</th>\n",
       "      <th>Whitehorse City Council</th>\n",
       "      <th>Whittlesea City Council</th>\n",
       "      <th>Wyndham City Council</th>\n",
       "      <th>Yarra City Council</th>\n",
       "      <th>Yarra Ranges Shire Council</th>\n",
       "    </tr>\n",
       "  </thead>\n",
       "  <tbody>\n",
       "    <tr>\n",
       "      <th>1</th>\n",
       "      <td>0</td>\n",
       "      <td>0</td>\n",
       "      <td>0</td>\n",
       "      <td>0</td>\n",
       "      <td>0</td>\n",
       "      <td>0</td>\n",
       "      <td>0</td>\n",
       "      <td>0</td>\n",
       "      <td>0</td>\n",
       "      <td>0</td>\n",
       "      <td>...</td>\n",
       "      <td>0</td>\n",
       "      <td>0</td>\n",
       "      <td>0</td>\n",
       "      <td>0</td>\n",
       "      <td>0</td>\n",
       "      <td>0</td>\n",
       "      <td>0</td>\n",
       "      <td>0</td>\n",
       "      <td>1</td>\n",
       "      <td>0</td>\n",
       "    </tr>\n",
       "    <tr>\n",
       "      <th>2</th>\n",
       "      <td>0</td>\n",
       "      <td>0</td>\n",
       "      <td>0</td>\n",
       "      <td>0</td>\n",
       "      <td>0</td>\n",
       "      <td>0</td>\n",
       "      <td>0</td>\n",
       "      <td>0</td>\n",
       "      <td>0</td>\n",
       "      <td>0</td>\n",
       "      <td>...</td>\n",
       "      <td>0</td>\n",
       "      <td>0</td>\n",
       "      <td>0</td>\n",
       "      <td>0</td>\n",
       "      <td>0</td>\n",
       "      <td>0</td>\n",
       "      <td>0</td>\n",
       "      <td>0</td>\n",
       "      <td>1</td>\n",
       "      <td>0</td>\n",
       "    </tr>\n",
       "    <tr>\n",
       "      <th>4</th>\n",
       "      <td>0</td>\n",
       "      <td>0</td>\n",
       "      <td>0</td>\n",
       "      <td>0</td>\n",
       "      <td>0</td>\n",
       "      <td>0</td>\n",
       "      <td>0</td>\n",
       "      <td>0</td>\n",
       "      <td>0</td>\n",
       "      <td>0</td>\n",
       "      <td>...</td>\n",
       "      <td>0</td>\n",
       "      <td>0</td>\n",
       "      <td>0</td>\n",
       "      <td>0</td>\n",
       "      <td>0</td>\n",
       "      <td>0</td>\n",
       "      <td>0</td>\n",
       "      <td>0</td>\n",
       "      <td>1</td>\n",
       "      <td>0</td>\n",
       "    </tr>\n",
       "    <tr>\n",
       "      <th>5</th>\n",
       "      <td>0</td>\n",
       "      <td>0</td>\n",
       "      <td>0</td>\n",
       "      <td>0</td>\n",
       "      <td>0</td>\n",
       "      <td>0</td>\n",
       "      <td>0</td>\n",
       "      <td>0</td>\n",
       "      <td>0</td>\n",
       "      <td>0</td>\n",
       "      <td>...</td>\n",
       "      <td>0</td>\n",
       "      <td>0</td>\n",
       "      <td>0</td>\n",
       "      <td>0</td>\n",
       "      <td>0</td>\n",
       "      <td>0</td>\n",
       "      <td>0</td>\n",
       "      <td>0</td>\n",
       "      <td>1</td>\n",
       "      <td>0</td>\n",
       "    </tr>\n",
       "    <tr>\n",
       "      <th>6</th>\n",
       "      <td>0</td>\n",
       "      <td>0</td>\n",
       "      <td>0</td>\n",
       "      <td>0</td>\n",
       "      <td>0</td>\n",
       "      <td>0</td>\n",
       "      <td>0</td>\n",
       "      <td>0</td>\n",
       "      <td>0</td>\n",
       "      <td>0</td>\n",
       "      <td>...</td>\n",
       "      <td>0</td>\n",
       "      <td>0</td>\n",
       "      <td>0</td>\n",
       "      <td>0</td>\n",
       "      <td>0</td>\n",
       "      <td>0</td>\n",
       "      <td>0</td>\n",
       "      <td>0</td>\n",
       "      <td>1</td>\n",
       "      <td>0</td>\n",
       "    </tr>\n",
       "  </tbody>\n",
       "</table>\n",
       "<p>5 rows × 33 columns</p>\n",
       "</div>"
      ],
      "text/plain": [
       "   Banyule City Council  Bayside City Council  Boroondara City Council  \\\n",
       "1                     0                     0                        0   \n",
       "2                     0                     0                        0   \n",
       "4                     0                     0                        0   \n",
       "5                     0                     0                        0   \n",
       "6                     0                     0                        0   \n",
       "\n",
       "   Brimbank City Council  Cardinia Shire Council  Casey City Council  \\\n",
       "1                      0                       0                   0   \n",
       "2                      0                       0                   0   \n",
       "4                      0                       0                   0   \n",
       "5                      0                       0                   0   \n",
       "6                      0                       0                   0   \n",
       "\n",
       "   Darebin City Council  Frankston City Council  Glen Eira City Council  \\\n",
       "1                     0                       0                       0   \n",
       "2                     0                       0                       0   \n",
       "4                     0                       0                       0   \n",
       "5                     0                       0                       0   \n",
       "6                     0                       0                       0   \n",
       "\n",
       "   Greater Dandenong City Council  ...  Moorabool Shire Council  \\\n",
       "1                               0  ...                        0   \n",
       "2                               0  ...                        0   \n",
       "4                               0  ...                        0   \n",
       "5                               0  ...                        0   \n",
       "6                               0  ...                        0   \n",
       "\n",
       "   Moreland City Council  Nillumbik Shire Council  Port Phillip City Council  \\\n",
       "1                      0                        0                          0   \n",
       "2                      0                        0                          0   \n",
       "4                      0                        0                          0   \n",
       "5                      0                        0                          0   \n",
       "6                      0                        0                          0   \n",
       "\n",
       "   Stonnington City Council  Whitehorse City Council  Whittlesea City Council  \\\n",
       "1                         0                        0                        0   \n",
       "2                         0                        0                        0   \n",
       "4                         0                        0                        0   \n",
       "5                         0                        0                        0   \n",
       "6                         0                        0                        0   \n",
       "\n",
       "   Wyndham City Council  Yarra City Council  Yarra Ranges Shire Council  \n",
       "1                     0                   1                           0  \n",
       "2                     0                   1                           0  \n",
       "4                     0                   1                           0  \n",
       "5                     0                   1                           0  \n",
       "6                     0                   1                           0  \n",
       "\n",
       "[5 rows x 33 columns]"
      ]
     },
     "execution_count": 111,
     "metadata": {},
     "output_type": "execute_result"
    }
   ],
   "source": [
    "dummies2 = pd.get_dummies(df9['CouncilArea'])\n",
    "dummies2.head()"
   ]
  },
  {
   "cell_type": "code",
   "execution_count": 112,
   "id": "f0b91337",
   "metadata": {
    "ExecuteTime": {
     "end_time": "2021-11-28T03:00:20.377948Z",
     "start_time": "2021-11-28T03:00:20.346658Z"
    }
   },
   "outputs": [
    {
     "data": {
      "text/html": [
       "<div>\n",
       "<style scoped>\n",
       "    .dataframe tbody tr th:only-of-type {\n",
       "        vertical-align: middle;\n",
       "    }\n",
       "\n",
       "    .dataframe tbody tr th {\n",
       "        vertical-align: top;\n",
       "    }\n",
       "\n",
       "    .dataframe thead th {\n",
       "        text-align: right;\n",
       "    }\n",
       "</style>\n",
       "<table border=\"1\" class=\"dataframe\">\n",
       "  <thead>\n",
       "    <tr style=\"text-align: right;\">\n",
       "      <th></th>\n",
       "      <th>Banyule City Council</th>\n",
       "      <th>Bayside City Council</th>\n",
       "      <th>Boroondara City Council</th>\n",
       "      <th>Brimbank City Council</th>\n",
       "      <th>Cardinia Shire Council</th>\n",
       "      <th>Casey City Council</th>\n",
       "      <th>Darebin City Council</th>\n",
       "      <th>Frankston City Council</th>\n",
       "      <th>Glen Eira City Council</th>\n",
       "      <th>Greater Dandenong City Council</th>\n",
       "      <th>...</th>\n",
       "      <th>Moonee Valley City Council</th>\n",
       "      <th>Moorabool Shire Council</th>\n",
       "      <th>Moreland City Council</th>\n",
       "      <th>Nillumbik Shire Council</th>\n",
       "      <th>Port Phillip City Council</th>\n",
       "      <th>Stonnington City Council</th>\n",
       "      <th>Whitehorse City Council</th>\n",
       "      <th>Whittlesea City Council</th>\n",
       "      <th>Wyndham City Council</th>\n",
       "      <th>Yarra City Council</th>\n",
       "    </tr>\n",
       "  </thead>\n",
       "  <tbody>\n",
       "    <tr>\n",
       "      <th>1</th>\n",
       "      <td>0</td>\n",
       "      <td>0</td>\n",
       "      <td>0</td>\n",
       "      <td>0</td>\n",
       "      <td>0</td>\n",
       "      <td>0</td>\n",
       "      <td>0</td>\n",
       "      <td>0</td>\n",
       "      <td>0</td>\n",
       "      <td>0</td>\n",
       "      <td>...</td>\n",
       "      <td>0</td>\n",
       "      <td>0</td>\n",
       "      <td>0</td>\n",
       "      <td>0</td>\n",
       "      <td>0</td>\n",
       "      <td>0</td>\n",
       "      <td>0</td>\n",
       "      <td>0</td>\n",
       "      <td>0</td>\n",
       "      <td>1</td>\n",
       "    </tr>\n",
       "    <tr>\n",
       "      <th>2</th>\n",
       "      <td>0</td>\n",
       "      <td>0</td>\n",
       "      <td>0</td>\n",
       "      <td>0</td>\n",
       "      <td>0</td>\n",
       "      <td>0</td>\n",
       "      <td>0</td>\n",
       "      <td>0</td>\n",
       "      <td>0</td>\n",
       "      <td>0</td>\n",
       "      <td>...</td>\n",
       "      <td>0</td>\n",
       "      <td>0</td>\n",
       "      <td>0</td>\n",
       "      <td>0</td>\n",
       "      <td>0</td>\n",
       "      <td>0</td>\n",
       "      <td>0</td>\n",
       "      <td>0</td>\n",
       "      <td>0</td>\n",
       "      <td>1</td>\n",
       "    </tr>\n",
       "    <tr>\n",
       "      <th>4</th>\n",
       "      <td>0</td>\n",
       "      <td>0</td>\n",
       "      <td>0</td>\n",
       "      <td>0</td>\n",
       "      <td>0</td>\n",
       "      <td>0</td>\n",
       "      <td>0</td>\n",
       "      <td>0</td>\n",
       "      <td>0</td>\n",
       "      <td>0</td>\n",
       "      <td>...</td>\n",
       "      <td>0</td>\n",
       "      <td>0</td>\n",
       "      <td>0</td>\n",
       "      <td>0</td>\n",
       "      <td>0</td>\n",
       "      <td>0</td>\n",
       "      <td>0</td>\n",
       "      <td>0</td>\n",
       "      <td>0</td>\n",
       "      <td>1</td>\n",
       "    </tr>\n",
       "    <tr>\n",
       "      <th>5</th>\n",
       "      <td>0</td>\n",
       "      <td>0</td>\n",
       "      <td>0</td>\n",
       "      <td>0</td>\n",
       "      <td>0</td>\n",
       "      <td>0</td>\n",
       "      <td>0</td>\n",
       "      <td>0</td>\n",
       "      <td>0</td>\n",
       "      <td>0</td>\n",
       "      <td>...</td>\n",
       "      <td>0</td>\n",
       "      <td>0</td>\n",
       "      <td>0</td>\n",
       "      <td>0</td>\n",
       "      <td>0</td>\n",
       "      <td>0</td>\n",
       "      <td>0</td>\n",
       "      <td>0</td>\n",
       "      <td>0</td>\n",
       "      <td>1</td>\n",
       "    </tr>\n",
       "    <tr>\n",
       "      <th>6</th>\n",
       "      <td>0</td>\n",
       "      <td>0</td>\n",
       "      <td>0</td>\n",
       "      <td>0</td>\n",
       "      <td>0</td>\n",
       "      <td>0</td>\n",
       "      <td>0</td>\n",
       "      <td>0</td>\n",
       "      <td>0</td>\n",
       "      <td>0</td>\n",
       "      <td>...</td>\n",
       "      <td>0</td>\n",
       "      <td>0</td>\n",
       "      <td>0</td>\n",
       "      <td>0</td>\n",
       "      <td>0</td>\n",
       "      <td>0</td>\n",
       "      <td>0</td>\n",
       "      <td>0</td>\n",
       "      <td>0</td>\n",
       "      <td>1</td>\n",
       "    </tr>\n",
       "  </tbody>\n",
       "</table>\n",
       "<p>5 rows × 32 columns</p>\n",
       "</div>"
      ],
      "text/plain": [
       "   Banyule City Council  Bayside City Council  Boroondara City Council  \\\n",
       "1                     0                     0                        0   \n",
       "2                     0                     0                        0   \n",
       "4                     0                     0                        0   \n",
       "5                     0                     0                        0   \n",
       "6                     0                     0                        0   \n",
       "\n",
       "   Brimbank City Council  Cardinia Shire Council  Casey City Council  \\\n",
       "1                      0                       0                   0   \n",
       "2                      0                       0                   0   \n",
       "4                      0                       0                   0   \n",
       "5                      0                       0                   0   \n",
       "6                      0                       0                   0   \n",
       "\n",
       "   Darebin City Council  Frankston City Council  Glen Eira City Council  \\\n",
       "1                     0                       0                       0   \n",
       "2                     0                       0                       0   \n",
       "4                     0                       0                       0   \n",
       "5                     0                       0                       0   \n",
       "6                     0                       0                       0   \n",
       "\n",
       "   Greater Dandenong City Council  ...  Moonee Valley City Council  \\\n",
       "1                               0  ...                           0   \n",
       "2                               0  ...                           0   \n",
       "4                               0  ...                           0   \n",
       "5                               0  ...                           0   \n",
       "6                               0  ...                           0   \n",
       "\n",
       "   Moorabool Shire Council  Moreland City Council  Nillumbik Shire Council  \\\n",
       "1                        0                      0                        0   \n",
       "2                        0                      0                        0   \n",
       "4                        0                      0                        0   \n",
       "5                        0                      0                        0   \n",
       "6                        0                      0                        0   \n",
       "\n",
       "   Port Phillip City Council  Stonnington City Council  \\\n",
       "1                          0                         0   \n",
       "2                          0                         0   \n",
       "4                          0                         0   \n",
       "5                          0                         0   \n",
       "6                          0                         0   \n",
       "\n",
       "   Whitehorse City Council  Whittlesea City Council  Wyndham City Council  \\\n",
       "1                        0                        0                     0   \n",
       "2                        0                        0                     0   \n",
       "4                        0                        0                     0   \n",
       "5                        0                        0                     0   \n",
       "6                        0                        0                     0   \n",
       "\n",
       "   Yarra City Council  \n",
       "1                   1  \n",
       "2                   1  \n",
       "4                   1  \n",
       "5                   1  \n",
       "6                   1  \n",
       "\n",
       "[5 rows x 32 columns]"
      ]
     },
     "execution_count": 112,
     "metadata": {},
     "output_type": "execute_result"
    }
   ],
   "source": [
    "dummies2.drop('Yarra Ranges Shire Council', axis=1, inplace=True)\n",
    "dummies2.head()"
   ]
  },
  {
   "cell_type": "code",
   "execution_count": 113,
   "id": "23784144",
   "metadata": {
    "ExecuteTime": {
     "end_time": "2021-11-28T03:10:24.763989Z",
     "start_time": "2021-11-28T03:10:24.725091Z"
    }
   },
   "outputs": [
    {
     "data": {
      "text/html": [
       "<div>\n",
       "<style scoped>\n",
       "    .dataframe tbody tr th:only-of-type {\n",
       "        vertical-align: middle;\n",
       "    }\n",
       "\n",
       "    .dataframe tbody tr th {\n",
       "        vertical-align: top;\n",
       "    }\n",
       "\n",
       "    .dataframe thead th {\n",
       "        text-align: right;\n",
       "    }\n",
       "</style>\n",
       "<table border=\"1\" class=\"dataframe\">\n",
       "  <thead>\n",
       "    <tr style=\"text-align: right;\">\n",
       "      <th></th>\n",
       "      <th>Suburb</th>\n",
       "      <th>Rooms</th>\n",
       "      <th>Type</th>\n",
       "      <th>Price</th>\n",
       "      <th>Method</th>\n",
       "      <th>Distance</th>\n",
       "      <th>Bedroom2</th>\n",
       "      <th>Bathroom</th>\n",
       "      <th>Landsize</th>\n",
       "      <th>CouncilArea</th>\n",
       "      <th>...</th>\n",
       "      <th>Moonee Valley City Council</th>\n",
       "      <th>Moorabool Shire Council</th>\n",
       "      <th>Moreland City Council</th>\n",
       "      <th>Nillumbik Shire Council</th>\n",
       "      <th>Port Phillip City Council</th>\n",
       "      <th>Stonnington City Council</th>\n",
       "      <th>Whitehorse City Council</th>\n",
       "      <th>Whittlesea City Council</th>\n",
       "      <th>Wyndham City Council</th>\n",
       "      <th>Yarra City Council</th>\n",
       "    </tr>\n",
       "  </thead>\n",
       "  <tbody>\n",
       "    <tr>\n",
       "      <th>1</th>\n",
       "      <td>Abbotsford</td>\n",
       "      <td>2</td>\n",
       "      <td>1</td>\n",
       "      <td>1480000.0</td>\n",
       "      <td>1</td>\n",
       "      <td>2.5</td>\n",
       "      <td>2.0</td>\n",
       "      <td>1.0</td>\n",
       "      <td>202.0</td>\n",
       "      <td>Yarra City Council</td>\n",
       "      <td>...</td>\n",
       "      <td>0</td>\n",
       "      <td>0</td>\n",
       "      <td>0</td>\n",
       "      <td>0</td>\n",
       "      <td>0</td>\n",
       "      <td>0</td>\n",
       "      <td>0</td>\n",
       "      <td>0</td>\n",
       "      <td>0</td>\n",
       "      <td>1</td>\n",
       "    </tr>\n",
       "    <tr>\n",
       "      <th>2</th>\n",
       "      <td>Abbotsford</td>\n",
       "      <td>2</td>\n",
       "      <td>1</td>\n",
       "      <td>1035000.0</td>\n",
       "      <td>1</td>\n",
       "      <td>2.5</td>\n",
       "      <td>2.0</td>\n",
       "      <td>1.0</td>\n",
       "      <td>156.0</td>\n",
       "      <td>Yarra City Council</td>\n",
       "      <td>...</td>\n",
       "      <td>0</td>\n",
       "      <td>0</td>\n",
       "      <td>0</td>\n",
       "      <td>0</td>\n",
       "      <td>0</td>\n",
       "      <td>0</td>\n",
       "      <td>0</td>\n",
       "      <td>0</td>\n",
       "      <td>0</td>\n",
       "      <td>1</td>\n",
       "    </tr>\n",
       "    <tr>\n",
       "      <th>4</th>\n",
       "      <td>Abbotsford</td>\n",
       "      <td>3</td>\n",
       "      <td>1</td>\n",
       "      <td>1465000.0</td>\n",
       "      <td>2</td>\n",
       "      <td>2.5</td>\n",
       "      <td>3.0</td>\n",
       "      <td>2.0</td>\n",
       "      <td>134.0</td>\n",
       "      <td>Yarra City Council</td>\n",
       "      <td>...</td>\n",
       "      <td>0</td>\n",
       "      <td>0</td>\n",
       "      <td>0</td>\n",
       "      <td>0</td>\n",
       "      <td>0</td>\n",
       "      <td>0</td>\n",
       "      <td>0</td>\n",
       "      <td>0</td>\n",
       "      <td>0</td>\n",
       "      <td>1</td>\n",
       "    </tr>\n",
       "    <tr>\n",
       "      <th>5</th>\n",
       "      <td>Abbotsford</td>\n",
       "      <td>3</td>\n",
       "      <td>1</td>\n",
       "      <td>850000.0</td>\n",
       "      <td>3</td>\n",
       "      <td>2.5</td>\n",
       "      <td>3.0</td>\n",
       "      <td>2.0</td>\n",
       "      <td>94.0</td>\n",
       "      <td>Yarra City Council</td>\n",
       "      <td>...</td>\n",
       "      <td>0</td>\n",
       "      <td>0</td>\n",
       "      <td>0</td>\n",
       "      <td>0</td>\n",
       "      <td>0</td>\n",
       "      <td>0</td>\n",
       "      <td>0</td>\n",
       "      <td>0</td>\n",
       "      <td>0</td>\n",
       "      <td>1</td>\n",
       "    </tr>\n",
       "    <tr>\n",
       "      <th>6</th>\n",
       "      <td>Abbotsford</td>\n",
       "      <td>4</td>\n",
       "      <td>1</td>\n",
       "      <td>1600000.0</td>\n",
       "      <td>4</td>\n",
       "      <td>2.5</td>\n",
       "      <td>3.0</td>\n",
       "      <td>1.0</td>\n",
       "      <td>120.0</td>\n",
       "      <td>Yarra City Council</td>\n",
       "      <td>...</td>\n",
       "      <td>0</td>\n",
       "      <td>0</td>\n",
       "      <td>0</td>\n",
       "      <td>0</td>\n",
       "      <td>0</td>\n",
       "      <td>0</td>\n",
       "      <td>0</td>\n",
       "      <td>0</td>\n",
       "      <td>0</td>\n",
       "      <td>1</td>\n",
       "    </tr>\n",
       "  </tbody>\n",
       "</table>\n",
       "<p>5 rows × 315 columns</p>\n",
       "</div>"
      ],
      "text/plain": [
       "       Suburb  Rooms  Type      Price  Method  Distance  Bedroom2  Bathroom  \\\n",
       "1  Abbotsford      2     1  1480000.0       1       2.5       2.0       1.0   \n",
       "2  Abbotsford      2     1  1035000.0       1       2.5       2.0       1.0   \n",
       "4  Abbotsford      3     1  1465000.0       2       2.5       3.0       2.0   \n",
       "5  Abbotsford      3     1   850000.0       3       2.5       3.0       2.0   \n",
       "6  Abbotsford      4     1  1600000.0       4       2.5       3.0       1.0   \n",
       "\n",
       "   Landsize         CouncilArea  ...  Moonee Valley City Council  \\\n",
       "1     202.0  Yarra City Council  ...                           0   \n",
       "2     156.0  Yarra City Council  ...                           0   \n",
       "4     134.0  Yarra City Council  ...                           0   \n",
       "5      94.0  Yarra City Council  ...                           0   \n",
       "6     120.0  Yarra City Council  ...                           0   \n",
       "\n",
       "   Moorabool Shire Council  Moreland City Council  Nillumbik Shire Council  \\\n",
       "1                        0                      0                        0   \n",
       "2                        0                      0                        0   \n",
       "4                        0                      0                        0   \n",
       "5                        0                      0                        0   \n",
       "6                        0                      0                        0   \n",
       "\n",
       "   Port Phillip City Council  Stonnington City Council  \\\n",
       "1                          0                         0   \n",
       "2                          0                         0   \n",
       "4                          0                         0   \n",
       "5                          0                         0   \n",
       "6                          0                         0   \n",
       "\n",
       "   Whitehorse City Council  Whittlesea City Council  Wyndham City Council  \\\n",
       "1                        0                        0                     0   \n",
       "2                        0                        0                     0   \n",
       "4                        0                        0                     0   \n",
       "5                        0                        0                     0   \n",
       "6                        0                        0                     0   \n",
       "\n",
       "   Yarra City Council  \n",
       "1                   1  \n",
       "2                   1  \n",
       "4                   1  \n",
       "5                   1  \n",
       "6                   1  \n",
       "\n",
       "[5 rows x 315 columns]"
      ]
     },
     "execution_count": 113,
     "metadata": {},
     "output_type": "execute_result"
    }
   ],
   "source": [
    "df10 = pd.concat([df9, dummies1, dummies2], axis=1)\n",
    "df10.head()"
   ]
  },
  {
   "cell_type": "code",
   "execution_count": 114,
   "id": "3f4b0709",
   "metadata": {
    "ExecuteTime": {
     "end_time": "2021-11-28T03:11:02.271224Z",
     "start_time": "2021-11-28T03:11:02.238310Z"
    }
   },
   "outputs": [
    {
     "data": {
      "text/html": [
       "<div>\n",
       "<style scoped>\n",
       "    .dataframe tbody tr th:only-of-type {\n",
       "        vertical-align: middle;\n",
       "    }\n",
       "\n",
       "    .dataframe tbody tr th {\n",
       "        vertical-align: top;\n",
       "    }\n",
       "\n",
       "    .dataframe thead th {\n",
       "        text-align: right;\n",
       "    }\n",
       "</style>\n",
       "<table border=\"1\" class=\"dataframe\">\n",
       "  <thead>\n",
       "    <tr style=\"text-align: right;\">\n",
       "      <th></th>\n",
       "      <th>Rooms</th>\n",
       "      <th>Type</th>\n",
       "      <th>Price</th>\n",
       "      <th>Method</th>\n",
       "      <th>Distance</th>\n",
       "      <th>Bedroom2</th>\n",
       "      <th>Bathroom</th>\n",
       "      <th>Landsize</th>\n",
       "      <th>Regionname</th>\n",
       "      <th>Propertycount</th>\n",
       "      <th>...</th>\n",
       "      <th>Moonee Valley City Council</th>\n",
       "      <th>Moorabool Shire Council</th>\n",
       "      <th>Moreland City Council</th>\n",
       "      <th>Nillumbik Shire Council</th>\n",
       "      <th>Port Phillip City Council</th>\n",
       "      <th>Stonnington City Council</th>\n",
       "      <th>Whitehorse City Council</th>\n",
       "      <th>Whittlesea City Council</th>\n",
       "      <th>Wyndham City Council</th>\n",
       "      <th>Yarra City Council</th>\n",
       "    </tr>\n",
       "  </thead>\n",
       "  <tbody>\n",
       "    <tr>\n",
       "      <th>1</th>\n",
       "      <td>2</td>\n",
       "      <td>1</td>\n",
       "      <td>1480000.0</td>\n",
       "      <td>1</td>\n",
       "      <td>2.5</td>\n",
       "      <td>2.0</td>\n",
       "      <td>1.0</td>\n",
       "      <td>202.0</td>\n",
       "      <td>1</td>\n",
       "      <td>4019.0</td>\n",
       "      <td>...</td>\n",
       "      <td>0</td>\n",
       "      <td>0</td>\n",
       "      <td>0</td>\n",
       "      <td>0</td>\n",
       "      <td>0</td>\n",
       "      <td>0</td>\n",
       "      <td>0</td>\n",
       "      <td>0</td>\n",
       "      <td>0</td>\n",
       "      <td>1</td>\n",
       "    </tr>\n",
       "    <tr>\n",
       "      <th>2</th>\n",
       "      <td>2</td>\n",
       "      <td>1</td>\n",
       "      <td>1035000.0</td>\n",
       "      <td>1</td>\n",
       "      <td>2.5</td>\n",
       "      <td>2.0</td>\n",
       "      <td>1.0</td>\n",
       "      <td>156.0</td>\n",
       "      <td>1</td>\n",
       "      <td>4019.0</td>\n",
       "      <td>...</td>\n",
       "      <td>0</td>\n",
       "      <td>0</td>\n",
       "      <td>0</td>\n",
       "      <td>0</td>\n",
       "      <td>0</td>\n",
       "      <td>0</td>\n",
       "      <td>0</td>\n",
       "      <td>0</td>\n",
       "      <td>0</td>\n",
       "      <td>1</td>\n",
       "    </tr>\n",
       "    <tr>\n",
       "      <th>4</th>\n",
       "      <td>3</td>\n",
       "      <td>1</td>\n",
       "      <td>1465000.0</td>\n",
       "      <td>2</td>\n",
       "      <td>2.5</td>\n",
       "      <td>3.0</td>\n",
       "      <td>2.0</td>\n",
       "      <td>134.0</td>\n",
       "      <td>1</td>\n",
       "      <td>4019.0</td>\n",
       "      <td>...</td>\n",
       "      <td>0</td>\n",
       "      <td>0</td>\n",
       "      <td>0</td>\n",
       "      <td>0</td>\n",
       "      <td>0</td>\n",
       "      <td>0</td>\n",
       "      <td>0</td>\n",
       "      <td>0</td>\n",
       "      <td>0</td>\n",
       "      <td>1</td>\n",
       "    </tr>\n",
       "    <tr>\n",
       "      <th>5</th>\n",
       "      <td>3</td>\n",
       "      <td>1</td>\n",
       "      <td>850000.0</td>\n",
       "      <td>3</td>\n",
       "      <td>2.5</td>\n",
       "      <td>3.0</td>\n",
       "      <td>2.0</td>\n",
       "      <td>94.0</td>\n",
       "      <td>1</td>\n",
       "      <td>4019.0</td>\n",
       "      <td>...</td>\n",
       "      <td>0</td>\n",
       "      <td>0</td>\n",
       "      <td>0</td>\n",
       "      <td>0</td>\n",
       "      <td>0</td>\n",
       "      <td>0</td>\n",
       "      <td>0</td>\n",
       "      <td>0</td>\n",
       "      <td>0</td>\n",
       "      <td>1</td>\n",
       "    </tr>\n",
       "    <tr>\n",
       "      <th>6</th>\n",
       "      <td>4</td>\n",
       "      <td>1</td>\n",
       "      <td>1600000.0</td>\n",
       "      <td>4</td>\n",
       "      <td>2.5</td>\n",
       "      <td>3.0</td>\n",
       "      <td>1.0</td>\n",
       "      <td>120.0</td>\n",
       "      <td>1</td>\n",
       "      <td>4019.0</td>\n",
       "      <td>...</td>\n",
       "      <td>0</td>\n",
       "      <td>0</td>\n",
       "      <td>0</td>\n",
       "      <td>0</td>\n",
       "      <td>0</td>\n",
       "      <td>0</td>\n",
       "      <td>0</td>\n",
       "      <td>0</td>\n",
       "      <td>0</td>\n",
       "      <td>1</td>\n",
       "    </tr>\n",
       "  </tbody>\n",
       "</table>\n",
       "<p>5 rows × 313 columns</p>\n",
       "</div>"
      ],
      "text/plain": [
       "   Rooms  Type      Price  Method  Distance  Bedroom2  Bathroom  Landsize  \\\n",
       "1      2     1  1480000.0       1       2.5       2.0       1.0     202.0   \n",
       "2      2     1  1035000.0       1       2.5       2.0       1.0     156.0   \n",
       "4      3     1  1465000.0       2       2.5       3.0       2.0     134.0   \n",
       "5      3     1   850000.0       3       2.5       3.0       2.0      94.0   \n",
       "6      4     1  1600000.0       4       2.5       3.0       1.0     120.0   \n",
       "\n",
       "   Regionname  Propertycount  ...  Moonee Valley City Council  \\\n",
       "1           1         4019.0  ...                           0   \n",
       "2           1         4019.0  ...                           0   \n",
       "4           1         4019.0  ...                           0   \n",
       "5           1         4019.0  ...                           0   \n",
       "6           1         4019.0  ...                           0   \n",
       "\n",
       "   Moorabool Shire Council  Moreland City Council  Nillumbik Shire Council  \\\n",
       "1                        0                      0                        0   \n",
       "2                        0                      0                        0   \n",
       "4                        0                      0                        0   \n",
       "5                        0                      0                        0   \n",
       "6                        0                      0                        0   \n",
       "\n",
       "   Port Phillip City Council  Stonnington City Council  \\\n",
       "1                          0                         0   \n",
       "2                          0                         0   \n",
       "4                          0                         0   \n",
       "5                          0                         0   \n",
       "6                          0                         0   \n",
       "\n",
       "   Whitehorse City Council  Whittlesea City Council  Wyndham City Council  \\\n",
       "1                        0                        0                     0   \n",
       "2                        0                        0                     0   \n",
       "4                        0                        0                     0   \n",
       "5                        0                        0                     0   \n",
       "6                        0                        0                     0   \n",
       "\n",
       "   Yarra City Council  \n",
       "1                   1  \n",
       "2                   1  \n",
       "4                   1  \n",
       "5                   1  \n",
       "6                   1  \n",
       "\n",
       "[5 rows x 313 columns]"
      ]
     },
     "execution_count": 114,
     "metadata": {},
     "output_type": "execute_result"
    }
   ],
   "source": [
    "df10.drop(['Suburb', 'CouncilArea'], axis=1, inplace=True)\n",
    "df10.head()"
   ]
  },
  {
   "cell_type": "markdown",
   "id": "c0ad6b43",
   "metadata": {},
   "source": [
    "I finished the preprocessing"
   ]
  },
  {
   "cell_type": "markdown",
   "id": "d89157db",
   "metadata": {},
   "source": [
    "#### Assign Features and target variables"
   ]
  },
  {
   "cell_type": "code",
   "execution_count": 115,
   "id": "51f8531c",
   "metadata": {
    "ExecuteTime": {
     "end_time": "2021-11-28T03:13:04.868149Z",
     "start_time": "2021-11-28T03:13:04.828257Z"
    }
   },
   "outputs": [
    {
     "data": {
      "text/html": [
       "<div>\n",
       "<style scoped>\n",
       "    .dataframe tbody tr th:only-of-type {\n",
       "        vertical-align: middle;\n",
       "    }\n",
       "\n",
       "    .dataframe tbody tr th {\n",
       "        vertical-align: top;\n",
       "    }\n",
       "\n",
       "    .dataframe thead th {\n",
       "        text-align: right;\n",
       "    }\n",
       "</style>\n",
       "<table border=\"1\" class=\"dataframe\">\n",
       "  <thead>\n",
       "    <tr style=\"text-align: right;\">\n",
       "      <th></th>\n",
       "      <th>Rooms</th>\n",
       "      <th>Type</th>\n",
       "      <th>Method</th>\n",
       "      <th>Distance</th>\n",
       "      <th>Bedroom2</th>\n",
       "      <th>Bathroom</th>\n",
       "      <th>Landsize</th>\n",
       "      <th>Regionname</th>\n",
       "      <th>Propertycount</th>\n",
       "      <th>Abbotsford</th>\n",
       "      <th>...</th>\n",
       "      <th>Moonee Valley City Council</th>\n",
       "      <th>Moorabool Shire Council</th>\n",
       "      <th>Moreland City Council</th>\n",
       "      <th>Nillumbik Shire Council</th>\n",
       "      <th>Port Phillip City Council</th>\n",
       "      <th>Stonnington City Council</th>\n",
       "      <th>Whitehorse City Council</th>\n",
       "      <th>Whittlesea City Council</th>\n",
       "      <th>Wyndham City Council</th>\n",
       "      <th>Yarra City Council</th>\n",
       "    </tr>\n",
       "  </thead>\n",
       "  <tbody>\n",
       "    <tr>\n",
       "      <th>1</th>\n",
       "      <td>2</td>\n",
       "      <td>1</td>\n",
       "      <td>1</td>\n",
       "      <td>2.5</td>\n",
       "      <td>2.0</td>\n",
       "      <td>1.0</td>\n",
       "      <td>202.0</td>\n",
       "      <td>1</td>\n",
       "      <td>4019.0</td>\n",
       "      <td>1</td>\n",
       "      <td>...</td>\n",
       "      <td>0</td>\n",
       "      <td>0</td>\n",
       "      <td>0</td>\n",
       "      <td>0</td>\n",
       "      <td>0</td>\n",
       "      <td>0</td>\n",
       "      <td>0</td>\n",
       "      <td>0</td>\n",
       "      <td>0</td>\n",
       "      <td>1</td>\n",
       "    </tr>\n",
       "    <tr>\n",
       "      <th>2</th>\n",
       "      <td>2</td>\n",
       "      <td>1</td>\n",
       "      <td>1</td>\n",
       "      <td>2.5</td>\n",
       "      <td>2.0</td>\n",
       "      <td>1.0</td>\n",
       "      <td>156.0</td>\n",
       "      <td>1</td>\n",
       "      <td>4019.0</td>\n",
       "      <td>1</td>\n",
       "      <td>...</td>\n",
       "      <td>0</td>\n",
       "      <td>0</td>\n",
       "      <td>0</td>\n",
       "      <td>0</td>\n",
       "      <td>0</td>\n",
       "      <td>0</td>\n",
       "      <td>0</td>\n",
       "      <td>0</td>\n",
       "      <td>0</td>\n",
       "      <td>1</td>\n",
       "    </tr>\n",
       "    <tr>\n",
       "      <th>4</th>\n",
       "      <td>3</td>\n",
       "      <td>1</td>\n",
       "      <td>2</td>\n",
       "      <td>2.5</td>\n",
       "      <td>3.0</td>\n",
       "      <td>2.0</td>\n",
       "      <td>134.0</td>\n",
       "      <td>1</td>\n",
       "      <td>4019.0</td>\n",
       "      <td>1</td>\n",
       "      <td>...</td>\n",
       "      <td>0</td>\n",
       "      <td>0</td>\n",
       "      <td>0</td>\n",
       "      <td>0</td>\n",
       "      <td>0</td>\n",
       "      <td>0</td>\n",
       "      <td>0</td>\n",
       "      <td>0</td>\n",
       "      <td>0</td>\n",
       "      <td>1</td>\n",
       "    </tr>\n",
       "    <tr>\n",
       "      <th>5</th>\n",
       "      <td>3</td>\n",
       "      <td>1</td>\n",
       "      <td>3</td>\n",
       "      <td>2.5</td>\n",
       "      <td>3.0</td>\n",
       "      <td>2.0</td>\n",
       "      <td>94.0</td>\n",
       "      <td>1</td>\n",
       "      <td>4019.0</td>\n",
       "      <td>1</td>\n",
       "      <td>...</td>\n",
       "      <td>0</td>\n",
       "      <td>0</td>\n",
       "      <td>0</td>\n",
       "      <td>0</td>\n",
       "      <td>0</td>\n",
       "      <td>0</td>\n",
       "      <td>0</td>\n",
       "      <td>0</td>\n",
       "      <td>0</td>\n",
       "      <td>1</td>\n",
       "    </tr>\n",
       "    <tr>\n",
       "      <th>6</th>\n",
       "      <td>4</td>\n",
       "      <td>1</td>\n",
       "      <td>4</td>\n",
       "      <td>2.5</td>\n",
       "      <td>3.0</td>\n",
       "      <td>1.0</td>\n",
       "      <td>120.0</td>\n",
       "      <td>1</td>\n",
       "      <td>4019.0</td>\n",
       "      <td>1</td>\n",
       "      <td>...</td>\n",
       "      <td>0</td>\n",
       "      <td>0</td>\n",
       "      <td>0</td>\n",
       "      <td>0</td>\n",
       "      <td>0</td>\n",
       "      <td>0</td>\n",
       "      <td>0</td>\n",
       "      <td>0</td>\n",
       "      <td>0</td>\n",
       "      <td>1</td>\n",
       "    </tr>\n",
       "  </tbody>\n",
       "</table>\n",
       "<p>5 rows × 312 columns</p>\n",
       "</div>"
      ],
      "text/plain": [
       "   Rooms  Type  Method  Distance  Bedroom2  Bathroom  Landsize  Regionname  \\\n",
       "1      2     1       1       2.5       2.0       1.0     202.0           1   \n",
       "2      2     1       1       2.5       2.0       1.0     156.0           1   \n",
       "4      3     1       2       2.5       3.0       2.0     134.0           1   \n",
       "5      3     1       3       2.5       3.0       2.0      94.0           1   \n",
       "6      4     1       4       2.5       3.0       1.0     120.0           1   \n",
       "\n",
       "   Propertycount  Abbotsford  ...  Moonee Valley City Council  \\\n",
       "1         4019.0           1  ...                           0   \n",
       "2         4019.0           1  ...                           0   \n",
       "4         4019.0           1  ...                           0   \n",
       "5         4019.0           1  ...                           0   \n",
       "6         4019.0           1  ...                           0   \n",
       "\n",
       "   Moorabool Shire Council  Moreland City Council  Nillumbik Shire Council  \\\n",
       "1                        0                      0                        0   \n",
       "2                        0                      0                        0   \n",
       "4                        0                      0                        0   \n",
       "5                        0                      0                        0   \n",
       "6                        0                      0                        0   \n",
       "\n",
       "   Port Phillip City Council  Stonnington City Council  \\\n",
       "1                          0                         0   \n",
       "2                          0                         0   \n",
       "4                          0                         0   \n",
       "5                          0                         0   \n",
       "6                          0                         0   \n",
       "\n",
       "   Whitehorse City Council  Whittlesea City Council  Wyndham City Council  \\\n",
       "1                        0                        0                     0   \n",
       "2                        0                        0                     0   \n",
       "4                        0                        0                     0   \n",
       "5                        0                        0                     0   \n",
       "6                        0                        0                     0   \n",
       "\n",
       "   Yarra City Council  \n",
       "1                   1  \n",
       "2                   1  \n",
       "4                   1  \n",
       "5                   1  \n",
       "6                   1  \n",
       "\n",
       "[5 rows x 312 columns]"
      ]
     },
     "execution_count": 115,
     "metadata": {},
     "output_type": "execute_result"
    }
   ],
   "source": [
    "X = df10.drop('Price', axis=1)\n",
    "X.head()"
   ]
  },
  {
   "cell_type": "code",
   "execution_count": 121,
   "id": "9611d25f",
   "metadata": {
    "ExecuteTime": {
     "end_time": "2021-11-28T03:18:07.465835Z",
     "start_time": "2021-11-28T03:18:07.450914Z"
    }
   },
   "outputs": [],
   "source": [
    "y = df10.Price"
   ]
  },
  {
   "cell_type": "markdown",
   "id": "8ae06891",
   "metadata": {},
   "source": [
    "#### Spliting the data into trainning and testing data"
   ]
  },
  {
   "cell_type": "code",
   "execution_count": 317,
   "id": "89f04436",
   "metadata": {
    "ExecuteTime": {
     "end_time": "2021-11-28T03:26:32.253975Z",
     "start_time": "2021-11-28T03:26:32.205365Z"
    }
   },
   "outputs": [],
   "source": [
    "X_train, X_test, y_train, y_test = train_test_split(X,y, test_size=0.25, random_state=95)"
   ]
  },
  {
   "cell_type": "code",
   "execution_count": 318,
   "id": "2115a8e4",
   "metadata": {
    "ExecuteTime": {
     "end_time": "2021-11-28T03:26:33.063485Z",
     "start_time": "2021-11-28T03:26:32.474430Z"
    }
   },
   "outputs": [
    {
     "name": "stderr",
     "output_type": "stream",
     "text": [
      "C:\\Users\\eyada\\Anaconda3\\lib\\site-packages\\sklearn\\linear_model\\_coordinate_descent.py:530: ConvergenceWarning: Objective did not converge. You might want to increase the number of iterations. Duality gap: 1528636546949605.0, tolerance: 855390382222235.6\n",
      "  model = cd_fast.enet_coordinate_descent(\n"
     ]
    },
    {
     "data": {
      "text/plain": [
       "Lasso(alpha=50, max_iter=100, tol=0.1)"
      ]
     },
     "execution_count": 318,
     "metadata": {},
     "output_type": "execute_result"
    }
   ],
   "source": [
    "model = Lasso(alpha=50, max_iter=100, tol=0.1)\n",
    "model.fit(X_train, y_train)"
   ]
  },
  {
   "cell_type": "code",
   "execution_count": 319,
   "id": "0778ec42",
   "metadata": {
    "ExecuteTime": {
     "end_time": "2021-11-28T03:26:33.109362Z",
     "start_time": "2021-11-28T03:26:33.065480Z"
    }
   },
   "outputs": [
    {
     "data": {
      "text/plain": [
       "0.6498832898990272"
      ]
     },
     "execution_count": 319,
     "metadata": {},
     "output_type": "execute_result"
    }
   ],
   "source": [
    "model.score(X_train, y_train)"
   ]
  },
  {
   "cell_type": "code",
   "execution_count": 320,
   "id": "f1a6faa0",
   "metadata": {
    "ExecuteTime": {
     "end_time": "2021-11-28T03:26:33.140278Z",
     "start_time": "2021-11-28T03:26:33.111355Z"
    },
    "scrolled": true
   },
   "outputs": [
    {
     "data": {
      "text/plain": [
       "0.6729162214000205"
      ]
     },
     "execution_count": 320,
     "metadata": {},
     "output_type": "execute_result"
    }
   ],
   "source": [
    "model.score(X_test, y_test)"
   ]
  },
  {
   "cell_type": "markdown",
   "id": "0b0da717",
   "metadata": {},
   "source": [
    "#### Save the model"
   ]
  },
  {
   "cell_type": "code",
   "execution_count": 322,
   "id": "9dd8702a",
   "metadata": {
    "ExecuteTime": {
     "end_time": "2021-11-28T03:27:49.564297Z",
     "start_time": "2021-11-28T03:27:49.544350Z"
    }
   },
   "outputs": [
    {
     "data": {
      "text/plain": [
       "['Melbourne_housing prediciotn']"
      ]
     },
     "execution_count": 322,
     "metadata": {},
     "output_type": "execute_result"
    }
   ],
   "source": [
    "joblib.dump(model, 'Melbourne_housing prediciotn')"
   ]
  },
  {
   "cell_type": "markdown",
   "id": "df9f9f8c",
   "metadata": {},
   "source": [
    "#### load the model"
   ]
  },
  {
   "cell_type": "code",
   "execution_count": 324,
   "id": "4be2c214",
   "metadata": {
    "ExecuteTime": {
     "end_time": "2021-11-28T03:28:10.901781Z",
     "start_time": "2021-11-28T03:28:10.893771Z"
    }
   },
   "outputs": [],
   "source": [
    "mj = joblib.load('Melbourne_housing prediciotn')"
   ]
  },
  {
   "cell_type": "markdown",
   "id": "a753a47c",
   "metadata": {},
   "source": [
    "#### using the model after loading it"
   ]
  },
  {
   "cell_type": "code",
   "execution_count": 326,
   "id": "078a3294",
   "metadata": {
    "ExecuteTime": {
     "end_time": "2021-11-28T03:28:47.349681Z",
     "start_time": "2021-11-28T03:28:47.317739Z"
    }
   },
   "outputs": [
    {
     "data": {
      "text/plain": [
       "array([ 462944.92782788, 3168492.77936967,  784228.53719491, ...,\n",
       "        799727.17585087, 1610474.96447026, 1275408.91736238])"
      ]
     },
     "execution_count": 326,
     "metadata": {},
     "output_type": "execute_result"
    }
   ],
   "source": [
    "mj.predict(X_test)"
   ]
  }
 ],
 "metadata": {
  "kernelspec": {
   "display_name": "Python 3",
   "language": "python",
   "name": "python3"
  },
  "language_info": {
   "codemirror_mode": {
    "name": "ipython",
    "version": 3
   },
   "file_extension": ".py",
   "mimetype": "text/x-python",
   "name": "python",
   "nbconvert_exporter": "python",
   "pygments_lexer": "ipython3",
   "version": "3.8.8"
  },
  "toc": {
   "base_numbering": 1,
   "nav_menu": {},
   "number_sections": true,
   "sideBar": true,
   "skip_h1_title": false,
   "title_cell": "Table of Contents",
   "title_sidebar": "Contents",
   "toc_cell": false,
   "toc_position": {},
   "toc_section_display": true,
   "toc_window_display": false
  }
 },
 "nbformat": 4,
 "nbformat_minor": 5
}
