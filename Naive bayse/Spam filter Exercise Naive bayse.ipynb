{
 "cells": [
  {
   "cell_type": "markdown",
   "id": "e3b9e6c7",
   "metadata": {},
   "source": [
    "### Exercise\n",
    "\n",
    "build a spam filter model with hight accuracy using spam csv data file"
   ]
  },
  {
   "cell_type": "code",
   "execution_count": 21,
   "id": "7b2af1da",
   "metadata": {
    "ExecuteTime": {
     "end_time": "2021-11-27T14:55:07.211340Z",
     "start_time": "2021-11-27T14:55:07.198376Z"
    }
   },
   "outputs": [],
   "source": [
    "import pandas as pd\n",
    "from sklearn.model_selection import train_test_split\n",
    "from sklearn.pipeline import Pipeline\n",
    "from sklearn.naive_bayes import MultinomialNB\n",
    "from sklearn.feature_extraction.text import CountVectorizer\n",
    "import joblib"
   ]
  },
  {
   "cell_type": "markdown",
   "id": "8f6d115c",
   "metadata": {},
   "source": [
    "#### Data Exploraiton"
   ]
  },
  {
   "cell_type": "code",
   "execution_count": 8,
   "id": "04007859",
   "metadata": {
    "ExecuteTime": {
     "end_time": "2021-11-27T14:46:45.345186Z",
     "start_time": "2021-11-27T14:46:45.314047Z"
    }
   },
   "outputs": [
    {
     "data": {
      "text/html": [
       "<div>\n",
       "<style scoped>\n",
       "    .dataframe tbody tr th:only-of-type {\n",
       "        vertical-align: middle;\n",
       "    }\n",
       "\n",
       "    .dataframe tbody tr th {\n",
       "        vertical-align: top;\n",
       "    }\n",
       "\n",
       "    .dataframe thead th {\n",
       "        text-align: right;\n",
       "    }\n",
       "</style>\n",
       "<table border=\"1\" class=\"dataframe\">\n",
       "  <thead>\n",
       "    <tr style=\"text-align: right;\">\n",
       "      <th></th>\n",
       "      <th>Category</th>\n",
       "      <th>Message</th>\n",
       "    </tr>\n",
       "  </thead>\n",
       "  <tbody>\n",
       "    <tr>\n",
       "      <th>0</th>\n",
       "      <td>ham</td>\n",
       "      <td>Go until jurong point, crazy.. Available only ...</td>\n",
       "    </tr>\n",
       "    <tr>\n",
       "      <th>1</th>\n",
       "      <td>ham</td>\n",
       "      <td>Ok lar... Joking wif u oni...</td>\n",
       "    </tr>\n",
       "    <tr>\n",
       "      <th>2</th>\n",
       "      <td>spam</td>\n",
       "      <td>Free entry in 2 a wkly comp to win FA Cup fina...</td>\n",
       "    </tr>\n",
       "    <tr>\n",
       "      <th>3</th>\n",
       "      <td>ham</td>\n",
       "      <td>U dun say so early hor... U c already then say...</td>\n",
       "    </tr>\n",
       "    <tr>\n",
       "      <th>4</th>\n",
       "      <td>ham</td>\n",
       "      <td>Nah I don't think he goes to usf, he lives aro...</td>\n",
       "    </tr>\n",
       "  </tbody>\n",
       "</table>\n",
       "</div>"
      ],
      "text/plain": [
       "  Category                                            Message\n",
       "0      ham  Go until jurong point, crazy.. Available only ...\n",
       "1      ham                      Ok lar... Joking wif u oni...\n",
       "2     spam  Free entry in 2 a wkly comp to win FA Cup fina...\n",
       "3      ham  U dun say so early hor... U c already then say...\n",
       "4      ham  Nah I don't think he goes to usf, he lives aro..."
      ]
     },
     "execution_count": 8,
     "metadata": {},
     "output_type": "execute_result"
    }
   ],
   "source": [
    "df = pd.read_csv('spam.csv')\n",
    "df.head()"
   ]
  },
  {
   "cell_type": "code",
   "execution_count": 9,
   "id": "3d22f9cf",
   "metadata": {
    "ExecuteTime": {
     "end_time": "2021-11-27T14:46:45.563005Z",
     "start_time": "2021-11-27T14:46:45.555027Z"
    }
   },
   "outputs": [
    {
     "data": {
      "text/plain": [
       "(5572, 2)"
      ]
     },
     "execution_count": 9,
     "metadata": {},
     "output_type": "execute_result"
    }
   ],
   "source": [
    "df.shape"
   ]
  },
  {
   "cell_type": "code",
   "execution_count": 10,
   "id": "46addf87",
   "metadata": {
    "ExecuteTime": {
     "end_time": "2021-11-27T14:46:45.908861Z",
     "start_time": "2021-11-27T14:46:45.888687Z"
    }
   },
   "outputs": [
    {
     "data": {
      "text/html": [
       "<div>\n",
       "<style scoped>\n",
       "    .dataframe tbody tr th:only-of-type {\n",
       "        vertical-align: middle;\n",
       "    }\n",
       "\n",
       "    .dataframe tbody tr th {\n",
       "        vertical-align: top;\n",
       "    }\n",
       "\n",
       "    .dataframe thead th {\n",
       "        text-align: right;\n",
       "    }\n",
       "</style>\n",
       "<table border=\"1\" class=\"dataframe\">\n",
       "  <thead>\n",
       "    <tr style=\"text-align: right;\">\n",
       "      <th></th>\n",
       "      <th>Category</th>\n",
       "      <th>Message</th>\n",
       "    </tr>\n",
       "  </thead>\n",
       "  <tbody>\n",
       "    <tr>\n",
       "      <th>5567</th>\n",
       "      <td>spam</td>\n",
       "      <td>This is the 2nd time we have tried 2 contact u...</td>\n",
       "    </tr>\n",
       "    <tr>\n",
       "      <th>5568</th>\n",
       "      <td>ham</td>\n",
       "      <td>Will ü b going to esplanade fr home?</td>\n",
       "    </tr>\n",
       "    <tr>\n",
       "      <th>5569</th>\n",
       "      <td>ham</td>\n",
       "      <td>Pity, * was in mood for that. So...any other s...</td>\n",
       "    </tr>\n",
       "    <tr>\n",
       "      <th>5570</th>\n",
       "      <td>ham</td>\n",
       "      <td>The guy did some bitching but I acted like i'd...</td>\n",
       "    </tr>\n",
       "    <tr>\n",
       "      <th>5571</th>\n",
       "      <td>ham</td>\n",
       "      <td>Rofl. Its true to its name</td>\n",
       "    </tr>\n",
       "  </tbody>\n",
       "</table>\n",
       "</div>"
      ],
      "text/plain": [
       "     Category                                            Message\n",
       "5567     spam  This is the 2nd time we have tried 2 contact u...\n",
       "5568      ham               Will ü b going to esplanade fr home?\n",
       "5569      ham  Pity, * was in mood for that. So...any other s...\n",
       "5570      ham  The guy did some bitching but I acted like i'd...\n",
       "5571      ham                         Rofl. Its true to its name"
      ]
     },
     "execution_count": 10,
     "metadata": {},
     "output_type": "execute_result"
    }
   ],
   "source": [
    "df.tail()"
   ]
  },
  {
   "cell_type": "code",
   "execution_count": 11,
   "id": "75084b2b",
   "metadata": {
    "ExecuteTime": {
     "end_time": "2021-11-27T14:46:50.497308Z",
     "start_time": "2021-11-27T14:46:50.483310Z"
    }
   },
   "outputs": [
    {
     "data": {
      "text/plain": [
       "ham     4825\n",
       "spam     747\n",
       "Name: Category, dtype: int64"
      ]
     },
     "execution_count": 11,
     "metadata": {},
     "output_type": "execute_result"
    }
   ],
   "source": [
    "df.Category.value_counts()"
   ]
  },
  {
   "cell_type": "markdown",
   "id": "390db359",
   "metadata": {},
   "source": [
    "#### handling Categorial column"
   ]
  },
  {
   "cell_type": "code",
   "execution_count": 12,
   "id": "a3a02602",
   "metadata": {
    "ExecuteTime": {
     "end_time": "2021-11-27T14:48:30.312789Z",
     "start_time": "2021-11-27T14:48:30.296831Z"
    }
   },
   "outputs": [
    {
     "data": {
      "text/html": [
       "<div>\n",
       "<style scoped>\n",
       "    .dataframe tbody tr th:only-of-type {\n",
       "        vertical-align: middle;\n",
       "    }\n",
       "\n",
       "    .dataframe tbody tr th {\n",
       "        vertical-align: top;\n",
       "    }\n",
       "\n",
       "    .dataframe thead th {\n",
       "        text-align: right;\n",
       "    }\n",
       "</style>\n",
       "<table border=\"1\" class=\"dataframe\">\n",
       "  <thead>\n",
       "    <tr style=\"text-align: right;\">\n",
       "      <th></th>\n",
       "      <th>Category</th>\n",
       "      <th>Message</th>\n",
       "    </tr>\n",
       "  </thead>\n",
       "  <tbody>\n",
       "    <tr>\n",
       "      <th>0</th>\n",
       "      <td>0</td>\n",
       "      <td>Go until jurong point, crazy.. Available only ...</td>\n",
       "    </tr>\n",
       "    <tr>\n",
       "      <th>1</th>\n",
       "      <td>0</td>\n",
       "      <td>Ok lar... Joking wif u oni...</td>\n",
       "    </tr>\n",
       "    <tr>\n",
       "      <th>2</th>\n",
       "      <td>1</td>\n",
       "      <td>Free entry in 2 a wkly comp to win FA Cup fina...</td>\n",
       "    </tr>\n",
       "    <tr>\n",
       "      <th>3</th>\n",
       "      <td>0</td>\n",
       "      <td>U dun say so early hor... U c already then say...</td>\n",
       "    </tr>\n",
       "    <tr>\n",
       "      <th>4</th>\n",
       "      <td>0</td>\n",
       "      <td>Nah I don't think he goes to usf, he lives aro...</td>\n",
       "    </tr>\n",
       "  </tbody>\n",
       "</table>\n",
       "</div>"
      ],
      "text/plain": [
       "   Category                                            Message\n",
       "0         0  Go until jurong point, crazy.. Available only ...\n",
       "1         0                      Ok lar... Joking wif u oni...\n",
       "2         1  Free entry in 2 a wkly comp to win FA Cup fina...\n",
       "3         0  U dun say so early hor... U c already then say...\n",
       "4         0  Nah I don't think he goes to usf, he lives aro..."
      ]
     },
     "execution_count": 12,
     "metadata": {},
     "output_type": "execute_result"
    }
   ],
   "source": [
    "df.Category.replace(to_replace=['ham', 'spam'], value=[0,1], inplace=True)\n",
    "df.head()"
   ]
  },
  {
   "cell_type": "code",
   "execution_count": 13,
   "id": "40b7539c",
   "metadata": {
    "ExecuteTime": {
     "end_time": "2021-11-27T14:48:36.150936Z",
     "start_time": "2021-11-27T14:48:36.140927Z"
    }
   },
   "outputs": [],
   "source": [
    "X = df.Message\n",
    "y = df.Category"
   ]
  },
  {
   "cell_type": "markdown",
   "id": "0081d300",
   "metadata": {},
   "source": [
    "#### split the data into training and testing datasets"
   ]
  },
  {
   "cell_type": "code",
   "execution_count": 15,
   "id": "816fd96f",
   "metadata": {
    "ExecuteTime": {
     "end_time": "2021-11-27T14:53:01.513868Z",
     "start_time": "2021-11-27T14:53:01.505890Z"
    }
   },
   "outputs": [],
   "source": [
    "X_train, X_test, y_train, y_test = train_test_split(X,y, test_size=0.25)"
   ]
  },
  {
   "cell_type": "markdown",
   "id": "9d026dee",
   "metadata": {},
   "source": [
    "#### using sklearn pipeline to vectroize and train the data"
   ]
  },
  {
   "cell_type": "code",
   "execution_count": 17,
   "id": "0b93aeee",
   "metadata": {
    "ExecuteTime": {
     "end_time": "2021-11-27T14:53:31.295515Z",
     "start_time": "2021-11-27T14:53:31.279524Z"
    }
   },
   "outputs": [],
   "source": [
    "model = Pipeline([\n",
    "    ('vectorizer', CountVectorizer()),\n",
    "    ('nb', MultinomialNB())\n",
    "])"
   ]
  },
  {
   "cell_type": "code",
   "execution_count": 18,
   "id": "80f6ca07",
   "metadata": {
    "ExecuteTime": {
     "end_time": "2021-11-27T14:53:31.655089Z",
     "start_time": "2021-11-27T14:53:31.560258Z"
    }
   },
   "outputs": [
    {
     "data": {
      "text/plain": [
       "Pipeline(steps=[('vectorizer', CountVectorizer()), ('nb', MultinomialNB())])"
      ]
     },
     "execution_count": 18,
     "metadata": {},
     "output_type": "execute_result"
    }
   ],
   "source": [
    "model.fit(X_train, y_train)"
   ]
  },
  {
   "cell_type": "code",
   "execution_count": 19,
   "id": "31037da5",
   "metadata": {
    "ExecuteTime": {
     "end_time": "2021-11-27T14:53:55.582814Z",
     "start_time": "2021-11-27T14:53:55.550903Z"
    }
   },
   "outputs": [
    {
     "data": {
      "text/plain": [
       "0.9870782483847811"
      ]
     },
     "execution_count": 19,
     "metadata": {},
     "output_type": "execute_result"
    }
   ],
   "source": [
    "model.score(X_test, y_test)"
   ]
  },
  {
   "cell_type": "markdown",
   "id": "cce43715",
   "metadata": {},
   "source": [
    "#### save the model"
   ]
  },
  {
   "cell_type": "code",
   "execution_count": 22,
   "id": "4fc85cbd",
   "metadata": {
    "ExecuteTime": {
     "end_time": "2021-11-27T14:55:35.002050Z",
     "start_time": "2021-11-27T14:55:34.577858Z"
    }
   },
   "outputs": [
    {
     "data": {
      "text/plain": [
       "['Spam Filter']"
      ]
     },
     "execution_count": 22,
     "metadata": {},
     "output_type": "execute_result"
    }
   ],
   "source": [
    "joblib.dump(model, 'Spam Filter')"
   ]
  },
  {
   "cell_type": "markdown",
   "id": "1c5d251f",
   "metadata": {},
   "source": [
    "#### Load the model"
   ]
  },
  {
   "cell_type": "code",
   "execution_count": 23,
   "id": "c322416b",
   "metadata": {
    "ExecuteTime": {
     "end_time": "2021-11-27T14:56:01.031743Z",
     "start_time": "2021-11-27T14:56:00.994812Z"
    }
   },
   "outputs": [],
   "source": [
    "spam_filter = joblib.load('Spam Filter')"
   ]
  },
  {
   "cell_type": "markdown",
   "id": "cb069692",
   "metadata": {},
   "source": [
    "#### Using the model after loading it"
   ]
  },
  {
   "cell_type": "code",
   "execution_count": 28,
   "id": "e49c1b0b",
   "metadata": {
    "ExecuteTime": {
     "end_time": "2021-11-27T14:58:49.010096Z",
     "start_time": "2021-11-27T14:58:49.001104Z"
    }
   },
   "outputs": [],
   "source": [
    "# predict those meails wether spam or not\n",
    "emails = [\n",
    "    'Hey mohan, can we get together to watch footbal game tomorrow?',\n",
    "    'Upto 20% discount on parking, exclusive offer just for you. Dont miss this reward!',\n",
    "    'Get unlimited access to all courses at just ₹ 1999 / year (₹ 5999/year).',\n",
    "    'Last Chance: Log2Base2 Diwali Sale Ends Today!',\n",
    "    'We wanted to remind you that there’s not much time left to get our special Black Friday offer: 2 Nanodegree programs for the price of 1. Our programs, which help you develop in-demand skills in as few as 10 hours a week, are co-developed with some of the top companies in tech—and they make an excellent gift for someone looking to advance their career.'\n",
    "]"
   ]
  },
  {
   "cell_type": "code",
   "execution_count": 29,
   "id": "8e28073f",
   "metadata": {
    "ExecuteTime": {
     "end_time": "2021-11-27T14:58:49.461398Z",
     "start_time": "2021-11-27T14:58:49.454451Z"
    }
   },
   "outputs": [
    {
     "data": {
      "text/plain": [
       "array([0, 1, 0, 1, 0], dtype=int64)"
      ]
     },
     "execution_count": 29,
     "metadata": {},
     "output_type": "execute_result"
    }
   ],
   "source": [
    "spam_filter.predict(emails)"
   ]
  },
  {
   "cell_type": "code",
   "execution_count": null,
   "id": "dae39a2d",
   "metadata": {},
   "outputs": [],
   "source": []
  }
 ],
 "metadata": {
  "kernelspec": {
   "display_name": "Python 3",
   "language": "python",
   "name": "python3"
  },
  "language_info": {
   "codemirror_mode": {
    "name": "ipython",
    "version": 3
   },
   "file_extension": ".py",
   "mimetype": "text/x-python",
   "name": "python",
   "nbconvert_exporter": "python",
   "pygments_lexer": "ipython3",
   "version": "3.8.8"
  },
  "toc": {
   "base_numbering": 1,
   "nav_menu": {},
   "number_sections": true,
   "sideBar": true,
   "skip_h1_title": false,
   "title_cell": "Table of Contents",
   "title_sidebar": "Contents",
   "toc_cell": false,
   "toc_position": {},
   "toc_section_display": true,
   "toc_window_display": false
  }
 },
 "nbformat": 4,
 "nbformat_minor": 5
}
